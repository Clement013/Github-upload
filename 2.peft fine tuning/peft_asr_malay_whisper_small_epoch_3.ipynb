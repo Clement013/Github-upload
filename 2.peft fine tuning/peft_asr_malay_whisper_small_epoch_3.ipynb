{
  "nbformat": 4,
  "nbformat_minor": 0,
  "metadata": {
    "colab": {
      "provenance": [],
      "machine_shape": "hm",
      "gpuType": "L4"
    },
    "kernelspec": {
      "name": "python3",
      "display_name": "Python 3"
    },
    "language_info": {
      "name": "python"
    },
    "accelerator": "GPU",
    "widgets": {
      "application/vnd.jupyter.widget-state+json": {
        "f3e76d6160624ef2ad1dba0775c07da7": {
          "model_module": "@jupyter-widgets/controls",
          "model_name": "HBoxModel",
          "model_module_version": "1.5.0",
          "state": {
            "_dom_classes": [],
            "_model_module": "@jupyter-widgets/controls",
            "_model_module_version": "1.5.0",
            "_model_name": "HBoxModel",
            "_view_count": null,
            "_view_module": "@jupyter-widgets/controls",
            "_view_module_version": "1.5.0",
            "_view_name": "HBoxView",
            "box_style": "",
            "children": [
              "IPY_MODEL_d8e136d490574669961371bee4b6cfb9",
              "IPY_MODEL_acc8dd3e271d40408a81019879fb369f",
              "IPY_MODEL_7b4eae5eb8874d01a57df0786ecdeae5"
            ],
            "layout": "IPY_MODEL_801e88f692524289806cdf10f769662b"
          }
        },
        "d8e136d490574669961371bee4b6cfb9": {
          "model_module": "@jupyter-widgets/controls",
          "model_name": "HTMLModel",
          "model_module_version": "1.5.0",
          "state": {
            "_dom_classes": [],
            "_model_module": "@jupyter-widgets/controls",
            "_model_module_version": "1.5.0",
            "_model_name": "HTMLModel",
            "_view_count": null,
            "_view_module": "@jupyter-widgets/controls",
            "_view_module_version": "1.5.0",
            "_view_name": "HTMLView",
            "description": "",
            "description_tooltip": null,
            "layout": "IPY_MODEL_f7c09240416d45dcbafa69cc2896a4b4",
            "placeholder": "​",
            "style": "IPY_MODEL_acbd1b1430b64aeb91a6cd82c53e01ad",
            "value": "README.md: 100%"
          }
        },
        "acc8dd3e271d40408a81019879fb369f": {
          "model_module": "@jupyter-widgets/controls",
          "model_name": "FloatProgressModel",
          "model_module_version": "1.5.0",
          "state": {
            "_dom_classes": [],
            "_model_module": "@jupyter-widgets/controls",
            "_model_module_version": "1.5.0",
            "_model_name": "FloatProgressModel",
            "_view_count": null,
            "_view_module": "@jupyter-widgets/controls",
            "_view_module_version": "1.5.0",
            "_view_name": "ProgressView",
            "bar_style": "success",
            "description": "",
            "description_tooltip": null,
            "layout": "IPY_MODEL_fc8b7dac480d468e8debab7426ac6826",
            "max": 458,
            "min": 0,
            "orientation": "horizontal",
            "style": "IPY_MODEL_ab4d08615fe44cba8a49145df8abd615",
            "value": 458
          }
        },
        "7b4eae5eb8874d01a57df0786ecdeae5": {
          "model_module": "@jupyter-widgets/controls",
          "model_name": "HTMLModel",
          "model_module_version": "1.5.0",
          "state": {
            "_dom_classes": [],
            "_model_module": "@jupyter-widgets/controls",
            "_model_module_version": "1.5.0",
            "_model_name": "HTMLModel",
            "_view_count": null,
            "_view_module": "@jupyter-widgets/controls",
            "_view_module_version": "1.5.0",
            "_view_name": "HTMLView",
            "description": "",
            "description_tooltip": null,
            "layout": "IPY_MODEL_09ac2f6e36bc492c88acd4f585d1e7ec",
            "placeholder": "​",
            "style": "IPY_MODEL_7401d8d6ef4445c9b6a33fe8fb609adf",
            "value": " 458/458 [00:00&lt;00:00, 37.4kB/s]"
          }
        },
        "801e88f692524289806cdf10f769662b": {
          "model_module": "@jupyter-widgets/base",
          "model_name": "LayoutModel",
          "model_module_version": "1.2.0",
          "state": {
            "_model_module": "@jupyter-widgets/base",
            "_model_module_version": "1.2.0",
            "_model_name": "LayoutModel",
            "_view_count": null,
            "_view_module": "@jupyter-widgets/base",
            "_view_module_version": "1.2.0",
            "_view_name": "LayoutView",
            "align_content": null,
            "align_items": null,
            "align_self": null,
            "border": null,
            "bottom": null,
            "display": null,
            "flex": null,
            "flex_flow": null,
            "grid_area": null,
            "grid_auto_columns": null,
            "grid_auto_flow": null,
            "grid_auto_rows": null,
            "grid_column": null,
            "grid_gap": null,
            "grid_row": null,
            "grid_template_areas": null,
            "grid_template_columns": null,
            "grid_template_rows": null,
            "height": null,
            "justify_content": null,
            "justify_items": null,
            "left": null,
            "margin": null,
            "max_height": null,
            "max_width": null,
            "min_height": null,
            "min_width": null,
            "object_fit": null,
            "object_position": null,
            "order": null,
            "overflow": null,
            "overflow_x": null,
            "overflow_y": null,
            "padding": null,
            "right": null,
            "top": null,
            "visibility": null,
            "width": null
          }
        },
        "f7c09240416d45dcbafa69cc2896a4b4": {
          "model_module": "@jupyter-widgets/base",
          "model_name": "LayoutModel",
          "model_module_version": "1.2.0",
          "state": {
            "_model_module": "@jupyter-widgets/base",
            "_model_module_version": "1.2.0",
            "_model_name": "LayoutModel",
            "_view_count": null,
            "_view_module": "@jupyter-widgets/base",
            "_view_module_version": "1.2.0",
            "_view_name": "LayoutView",
            "align_content": null,
            "align_items": null,
            "align_self": null,
            "border": null,
            "bottom": null,
            "display": null,
            "flex": null,
            "flex_flow": null,
            "grid_area": null,
            "grid_auto_columns": null,
            "grid_auto_flow": null,
            "grid_auto_rows": null,
            "grid_column": null,
            "grid_gap": null,
            "grid_row": null,
            "grid_template_areas": null,
            "grid_template_columns": null,
            "grid_template_rows": null,
            "height": null,
            "justify_content": null,
            "justify_items": null,
            "left": null,
            "margin": null,
            "max_height": null,
            "max_width": null,
            "min_height": null,
            "min_width": null,
            "object_fit": null,
            "object_position": null,
            "order": null,
            "overflow": null,
            "overflow_x": null,
            "overflow_y": null,
            "padding": null,
            "right": null,
            "top": null,
            "visibility": null,
            "width": null
          }
        },
        "acbd1b1430b64aeb91a6cd82c53e01ad": {
          "model_module": "@jupyter-widgets/controls",
          "model_name": "DescriptionStyleModel",
          "model_module_version": "1.5.0",
          "state": {
            "_model_module": "@jupyter-widgets/controls",
            "_model_module_version": "1.5.0",
            "_model_name": "DescriptionStyleModel",
            "_view_count": null,
            "_view_module": "@jupyter-widgets/base",
            "_view_module_version": "1.2.0",
            "_view_name": "StyleView",
            "description_width": ""
          }
        },
        "fc8b7dac480d468e8debab7426ac6826": {
          "model_module": "@jupyter-widgets/base",
          "model_name": "LayoutModel",
          "model_module_version": "1.2.0",
          "state": {
            "_model_module": "@jupyter-widgets/base",
            "_model_module_version": "1.2.0",
            "_model_name": "LayoutModel",
            "_view_count": null,
            "_view_module": "@jupyter-widgets/base",
            "_view_module_version": "1.2.0",
            "_view_name": "LayoutView",
            "align_content": null,
            "align_items": null,
            "align_self": null,
            "border": null,
            "bottom": null,
            "display": null,
            "flex": null,
            "flex_flow": null,
            "grid_area": null,
            "grid_auto_columns": null,
            "grid_auto_flow": null,
            "grid_auto_rows": null,
            "grid_column": null,
            "grid_gap": null,
            "grid_row": null,
            "grid_template_areas": null,
            "grid_template_columns": null,
            "grid_template_rows": null,
            "height": null,
            "justify_content": null,
            "justify_items": null,
            "left": null,
            "margin": null,
            "max_height": null,
            "max_width": null,
            "min_height": null,
            "min_width": null,
            "object_fit": null,
            "object_position": null,
            "order": null,
            "overflow": null,
            "overflow_x": null,
            "overflow_y": null,
            "padding": null,
            "right": null,
            "top": null,
            "visibility": null,
            "width": null
          }
        },
        "ab4d08615fe44cba8a49145df8abd615": {
          "model_module": "@jupyter-widgets/controls",
          "model_name": "ProgressStyleModel",
          "model_module_version": "1.5.0",
          "state": {
            "_model_module": "@jupyter-widgets/controls",
            "_model_module_version": "1.5.0",
            "_model_name": "ProgressStyleModel",
            "_view_count": null,
            "_view_module": "@jupyter-widgets/base",
            "_view_module_version": "1.2.0",
            "_view_name": "StyleView",
            "bar_color": null,
            "description_width": ""
          }
        },
        "09ac2f6e36bc492c88acd4f585d1e7ec": {
          "model_module": "@jupyter-widgets/base",
          "model_name": "LayoutModel",
          "model_module_version": "1.2.0",
          "state": {
            "_model_module": "@jupyter-widgets/base",
            "_model_module_version": "1.2.0",
            "_model_name": "LayoutModel",
            "_view_count": null,
            "_view_module": "@jupyter-widgets/base",
            "_view_module_version": "1.2.0",
            "_view_name": "LayoutView",
            "align_content": null,
            "align_items": null,
            "align_self": null,
            "border": null,
            "bottom": null,
            "display": null,
            "flex": null,
            "flex_flow": null,
            "grid_area": null,
            "grid_auto_columns": null,
            "grid_auto_flow": null,
            "grid_auto_rows": null,
            "grid_column": null,
            "grid_gap": null,
            "grid_row": null,
            "grid_template_areas": null,
            "grid_template_columns": null,
            "grid_template_rows": null,
            "height": null,
            "justify_content": null,
            "justify_items": null,
            "left": null,
            "margin": null,
            "max_height": null,
            "max_width": null,
            "min_height": null,
            "min_width": null,
            "object_fit": null,
            "object_position": null,
            "order": null,
            "overflow": null,
            "overflow_x": null,
            "overflow_y": null,
            "padding": null,
            "right": null,
            "top": null,
            "visibility": null,
            "width": null
          }
        },
        "7401d8d6ef4445c9b6a33fe8fb609adf": {
          "model_module": "@jupyter-widgets/controls",
          "model_name": "DescriptionStyleModel",
          "model_module_version": "1.5.0",
          "state": {
            "_model_module": "@jupyter-widgets/controls",
            "_model_module_version": "1.5.0",
            "_model_name": "DescriptionStyleModel",
            "_view_count": null,
            "_view_module": "@jupyter-widgets/base",
            "_view_module_version": "1.2.0",
            "_view_name": "StyleView",
            "description_width": ""
          }
        },
        "e62308176ee04572aa01ed38e1352a7a": {
          "model_module": "@jupyter-widgets/controls",
          "model_name": "HBoxModel",
          "model_module_version": "1.5.0",
          "state": {
            "_dom_classes": [],
            "_model_module": "@jupyter-widgets/controls",
            "_model_module_version": "1.5.0",
            "_model_name": "HBoxModel",
            "_view_count": null,
            "_view_module": "@jupyter-widgets/controls",
            "_view_module_version": "1.5.0",
            "_view_name": "HBoxView",
            "box_style": "",
            "children": [
              "IPY_MODEL_abd044df836a4564a9867f8e72c2c9a8",
              "IPY_MODEL_ab4adbc4ec3247caa39527b4f692c4e9",
              "IPY_MODEL_a7c8661daf2f45c6ad042fd2230287ff"
            ],
            "layout": "IPY_MODEL_d1c365f1264d4234a06f9437ffb2f4c4"
          }
        },
        "abd044df836a4564a9867f8e72c2c9a8": {
          "model_module": "@jupyter-widgets/controls",
          "model_name": "HTMLModel",
          "model_module_version": "1.5.0",
          "state": {
            "_dom_classes": [],
            "_model_module": "@jupyter-widgets/controls",
            "_model_module_version": "1.5.0",
            "_model_name": "HTMLModel",
            "_view_count": null,
            "_view_module": "@jupyter-widgets/controls",
            "_view_module_version": "1.5.0",
            "_view_name": "HTMLView",
            "description": "",
            "description_tooltip": null,
            "layout": "IPY_MODEL_798b59c47dea4cda8f70acebf45873e5",
            "placeholder": "​",
            "style": "IPY_MODEL_d91101b4a7e841b89a18bd2fe7273818",
            "value": "train-00000-of-00001.parquet: 100%"
          }
        },
        "ab4adbc4ec3247caa39527b4f692c4e9": {
          "model_module": "@jupyter-widgets/controls",
          "model_name": "FloatProgressModel",
          "model_module_version": "1.5.0",
          "state": {
            "_dom_classes": [],
            "_model_module": "@jupyter-widgets/controls",
            "_model_module_version": "1.5.0",
            "_model_name": "FloatProgressModel",
            "_view_count": null,
            "_view_module": "@jupyter-widgets/controls",
            "_view_module_version": "1.5.0",
            "_view_name": "ProgressView",
            "bar_style": "success",
            "description": "",
            "description_tooltip": null,
            "layout": "IPY_MODEL_adc07c669b6741e9818d5be90fa09ddd",
            "max": 215867907,
            "min": 0,
            "orientation": "horizontal",
            "style": "IPY_MODEL_29407ef1fc2a4b26b603866e002b0f33",
            "value": 215867907
          }
        },
        "a7c8661daf2f45c6ad042fd2230287ff": {
          "model_module": "@jupyter-widgets/controls",
          "model_name": "HTMLModel",
          "model_module_version": "1.5.0",
          "state": {
            "_dom_classes": [],
            "_model_module": "@jupyter-widgets/controls",
            "_model_module_version": "1.5.0",
            "_model_name": "HTMLModel",
            "_view_count": null,
            "_view_module": "@jupyter-widgets/controls",
            "_view_module_version": "1.5.0",
            "_view_name": "HTMLView",
            "description": "",
            "description_tooltip": null,
            "layout": "IPY_MODEL_c015a962f08e402183435e9895c7926e",
            "placeholder": "​",
            "style": "IPY_MODEL_97a45ed6531e4a1e978e570bccefc7a1",
            "value": " 216M/216M [00:09&lt;00:00, 22.9MB/s]"
          }
        },
        "d1c365f1264d4234a06f9437ffb2f4c4": {
          "model_module": "@jupyter-widgets/base",
          "model_name": "LayoutModel",
          "model_module_version": "1.2.0",
          "state": {
            "_model_module": "@jupyter-widgets/base",
            "_model_module_version": "1.2.0",
            "_model_name": "LayoutModel",
            "_view_count": null,
            "_view_module": "@jupyter-widgets/base",
            "_view_module_version": "1.2.0",
            "_view_name": "LayoutView",
            "align_content": null,
            "align_items": null,
            "align_self": null,
            "border": null,
            "bottom": null,
            "display": null,
            "flex": null,
            "flex_flow": null,
            "grid_area": null,
            "grid_auto_columns": null,
            "grid_auto_flow": null,
            "grid_auto_rows": null,
            "grid_column": null,
            "grid_gap": null,
            "grid_row": null,
            "grid_template_areas": null,
            "grid_template_columns": null,
            "grid_template_rows": null,
            "height": null,
            "justify_content": null,
            "justify_items": null,
            "left": null,
            "margin": null,
            "max_height": null,
            "max_width": null,
            "min_height": null,
            "min_width": null,
            "object_fit": null,
            "object_position": null,
            "order": null,
            "overflow": null,
            "overflow_x": null,
            "overflow_y": null,
            "padding": null,
            "right": null,
            "top": null,
            "visibility": null,
            "width": null
          }
        },
        "798b59c47dea4cda8f70acebf45873e5": {
          "model_module": "@jupyter-widgets/base",
          "model_name": "LayoutModel",
          "model_module_version": "1.2.0",
          "state": {
            "_model_module": "@jupyter-widgets/base",
            "_model_module_version": "1.2.0",
            "_model_name": "LayoutModel",
            "_view_count": null,
            "_view_module": "@jupyter-widgets/base",
            "_view_module_version": "1.2.0",
            "_view_name": "LayoutView",
            "align_content": null,
            "align_items": null,
            "align_self": null,
            "border": null,
            "bottom": null,
            "display": null,
            "flex": null,
            "flex_flow": null,
            "grid_area": null,
            "grid_auto_columns": null,
            "grid_auto_flow": null,
            "grid_auto_rows": null,
            "grid_column": null,
            "grid_gap": null,
            "grid_row": null,
            "grid_template_areas": null,
            "grid_template_columns": null,
            "grid_template_rows": null,
            "height": null,
            "justify_content": null,
            "justify_items": null,
            "left": null,
            "margin": null,
            "max_height": null,
            "max_width": null,
            "min_height": null,
            "min_width": null,
            "object_fit": null,
            "object_position": null,
            "order": null,
            "overflow": null,
            "overflow_x": null,
            "overflow_y": null,
            "padding": null,
            "right": null,
            "top": null,
            "visibility": null,
            "width": null
          }
        },
        "d91101b4a7e841b89a18bd2fe7273818": {
          "model_module": "@jupyter-widgets/controls",
          "model_name": "DescriptionStyleModel",
          "model_module_version": "1.5.0",
          "state": {
            "_model_module": "@jupyter-widgets/controls",
            "_model_module_version": "1.5.0",
            "_model_name": "DescriptionStyleModel",
            "_view_count": null,
            "_view_module": "@jupyter-widgets/base",
            "_view_module_version": "1.2.0",
            "_view_name": "StyleView",
            "description_width": ""
          }
        },
        "adc07c669b6741e9818d5be90fa09ddd": {
          "model_module": "@jupyter-widgets/base",
          "model_name": "LayoutModel",
          "model_module_version": "1.2.0",
          "state": {
            "_model_module": "@jupyter-widgets/base",
            "_model_module_version": "1.2.0",
            "_model_name": "LayoutModel",
            "_view_count": null,
            "_view_module": "@jupyter-widgets/base",
            "_view_module_version": "1.2.0",
            "_view_name": "LayoutView",
            "align_content": null,
            "align_items": null,
            "align_self": null,
            "border": null,
            "bottom": null,
            "display": null,
            "flex": null,
            "flex_flow": null,
            "grid_area": null,
            "grid_auto_columns": null,
            "grid_auto_flow": null,
            "grid_auto_rows": null,
            "grid_column": null,
            "grid_gap": null,
            "grid_row": null,
            "grid_template_areas": null,
            "grid_template_columns": null,
            "grid_template_rows": null,
            "height": null,
            "justify_content": null,
            "justify_items": null,
            "left": null,
            "margin": null,
            "max_height": null,
            "max_width": null,
            "min_height": null,
            "min_width": null,
            "object_fit": null,
            "object_position": null,
            "order": null,
            "overflow": null,
            "overflow_x": null,
            "overflow_y": null,
            "padding": null,
            "right": null,
            "top": null,
            "visibility": null,
            "width": null
          }
        },
        "29407ef1fc2a4b26b603866e002b0f33": {
          "model_module": "@jupyter-widgets/controls",
          "model_name": "ProgressStyleModel",
          "model_module_version": "1.5.0",
          "state": {
            "_model_module": "@jupyter-widgets/controls",
            "_model_module_version": "1.5.0",
            "_model_name": "ProgressStyleModel",
            "_view_count": null,
            "_view_module": "@jupyter-widgets/base",
            "_view_module_version": "1.2.0",
            "_view_name": "StyleView",
            "bar_color": null,
            "description_width": ""
          }
        },
        "c015a962f08e402183435e9895c7926e": {
          "model_module": "@jupyter-widgets/base",
          "model_name": "LayoutModel",
          "model_module_version": "1.2.0",
          "state": {
            "_model_module": "@jupyter-widgets/base",
            "_model_module_version": "1.2.0",
            "_model_name": "LayoutModel",
            "_view_count": null,
            "_view_module": "@jupyter-widgets/base",
            "_view_module_version": "1.2.0",
            "_view_name": "LayoutView",
            "align_content": null,
            "align_items": null,
            "align_self": null,
            "border": null,
            "bottom": null,
            "display": null,
            "flex": null,
            "flex_flow": null,
            "grid_area": null,
            "grid_auto_columns": null,
            "grid_auto_flow": null,
            "grid_auto_rows": null,
            "grid_column": null,
            "grid_gap": null,
            "grid_row": null,
            "grid_template_areas": null,
            "grid_template_columns": null,
            "grid_template_rows": null,
            "height": null,
            "justify_content": null,
            "justify_items": null,
            "left": null,
            "margin": null,
            "max_height": null,
            "max_width": null,
            "min_height": null,
            "min_width": null,
            "object_fit": null,
            "object_position": null,
            "order": null,
            "overflow": null,
            "overflow_x": null,
            "overflow_y": null,
            "padding": null,
            "right": null,
            "top": null,
            "visibility": null,
            "width": null
          }
        },
        "97a45ed6531e4a1e978e570bccefc7a1": {
          "model_module": "@jupyter-widgets/controls",
          "model_name": "DescriptionStyleModel",
          "model_module_version": "1.5.0",
          "state": {
            "_model_module": "@jupyter-widgets/controls",
            "_model_module_version": "1.5.0",
            "_model_name": "DescriptionStyleModel",
            "_view_count": null,
            "_view_module": "@jupyter-widgets/base",
            "_view_module_version": "1.2.0",
            "_view_name": "StyleView",
            "description_width": ""
          }
        },
        "722d209a934f4a72bc4205911cb4143e": {
          "model_module": "@jupyter-widgets/controls",
          "model_name": "HBoxModel",
          "model_module_version": "1.5.0",
          "state": {
            "_dom_classes": [],
            "_model_module": "@jupyter-widgets/controls",
            "_model_module_version": "1.5.0",
            "_model_name": "HBoxModel",
            "_view_count": null,
            "_view_module": "@jupyter-widgets/controls",
            "_view_module_version": "1.5.0",
            "_view_name": "HBoxView",
            "box_style": "",
            "children": [
              "IPY_MODEL_4b1d91e0db1a455a82b41213517bdb2f",
              "IPY_MODEL_8379e5b81dda445a962520083ae63b78",
              "IPY_MODEL_e44e233358bc498b94a037af2b887b02"
            ],
            "layout": "IPY_MODEL_f1761e2faf1b459d96000a517d812e8b"
          }
        },
        "4b1d91e0db1a455a82b41213517bdb2f": {
          "model_module": "@jupyter-widgets/controls",
          "model_name": "HTMLModel",
          "model_module_version": "1.5.0",
          "state": {
            "_dom_classes": [],
            "_model_module": "@jupyter-widgets/controls",
            "_model_module_version": "1.5.0",
            "_model_name": "HTMLModel",
            "_view_count": null,
            "_view_module": "@jupyter-widgets/controls",
            "_view_module_version": "1.5.0",
            "_view_name": "HTMLView",
            "description": "",
            "description_tooltip": null,
            "layout": "IPY_MODEL_a1fc0f0f81d248649b03b239aa643d24",
            "placeholder": "​",
            "style": "IPY_MODEL_59359686bf884832ad850321545a4ada",
            "value": "test-00000-of-00001.parquet: 100%"
          }
        },
        "8379e5b81dda445a962520083ae63b78": {
          "model_module": "@jupyter-widgets/controls",
          "model_name": "FloatProgressModel",
          "model_module_version": "1.5.0",
          "state": {
            "_dom_classes": [],
            "_model_module": "@jupyter-widgets/controls",
            "_model_module_version": "1.5.0",
            "_model_name": "FloatProgressModel",
            "_view_count": null,
            "_view_module": "@jupyter-widgets/controls",
            "_view_module_version": "1.5.0",
            "_view_name": "ProgressView",
            "bar_style": "success",
            "description": "",
            "description_tooltip": null,
            "layout": "IPY_MODEL_73ebc29cf37c4cff97b47d429152ea27",
            "max": 59706780,
            "min": 0,
            "orientation": "horizontal",
            "style": "IPY_MODEL_75ea8cccd72f4914bfd30894d6f174eb",
            "value": 59706780
          }
        },
        "e44e233358bc498b94a037af2b887b02": {
          "model_module": "@jupyter-widgets/controls",
          "model_name": "HTMLModel",
          "model_module_version": "1.5.0",
          "state": {
            "_dom_classes": [],
            "_model_module": "@jupyter-widgets/controls",
            "_model_module_version": "1.5.0",
            "_model_name": "HTMLModel",
            "_view_count": null,
            "_view_module": "@jupyter-widgets/controls",
            "_view_module_version": "1.5.0",
            "_view_name": "HTMLView",
            "description": "",
            "description_tooltip": null,
            "layout": "IPY_MODEL_37f07a4865a3468aa4ea6c6806f89248",
            "placeholder": "​",
            "style": "IPY_MODEL_a754818c6cc64d92a238683d28504343",
            "value": " 59.7M/59.7M [00:02&lt;00:00, 25.8MB/s]"
          }
        },
        "f1761e2faf1b459d96000a517d812e8b": {
          "model_module": "@jupyter-widgets/base",
          "model_name": "LayoutModel",
          "model_module_version": "1.2.0",
          "state": {
            "_model_module": "@jupyter-widgets/base",
            "_model_module_version": "1.2.0",
            "_model_name": "LayoutModel",
            "_view_count": null,
            "_view_module": "@jupyter-widgets/base",
            "_view_module_version": "1.2.0",
            "_view_name": "LayoutView",
            "align_content": null,
            "align_items": null,
            "align_self": null,
            "border": null,
            "bottom": null,
            "display": null,
            "flex": null,
            "flex_flow": null,
            "grid_area": null,
            "grid_auto_columns": null,
            "grid_auto_flow": null,
            "grid_auto_rows": null,
            "grid_column": null,
            "grid_gap": null,
            "grid_row": null,
            "grid_template_areas": null,
            "grid_template_columns": null,
            "grid_template_rows": null,
            "height": null,
            "justify_content": null,
            "justify_items": null,
            "left": null,
            "margin": null,
            "max_height": null,
            "max_width": null,
            "min_height": null,
            "min_width": null,
            "object_fit": null,
            "object_position": null,
            "order": null,
            "overflow": null,
            "overflow_x": null,
            "overflow_y": null,
            "padding": null,
            "right": null,
            "top": null,
            "visibility": null,
            "width": null
          }
        },
        "a1fc0f0f81d248649b03b239aa643d24": {
          "model_module": "@jupyter-widgets/base",
          "model_name": "LayoutModel",
          "model_module_version": "1.2.0",
          "state": {
            "_model_module": "@jupyter-widgets/base",
            "_model_module_version": "1.2.0",
            "_model_name": "LayoutModel",
            "_view_count": null,
            "_view_module": "@jupyter-widgets/base",
            "_view_module_version": "1.2.0",
            "_view_name": "LayoutView",
            "align_content": null,
            "align_items": null,
            "align_self": null,
            "border": null,
            "bottom": null,
            "display": null,
            "flex": null,
            "flex_flow": null,
            "grid_area": null,
            "grid_auto_columns": null,
            "grid_auto_flow": null,
            "grid_auto_rows": null,
            "grid_column": null,
            "grid_gap": null,
            "grid_row": null,
            "grid_template_areas": null,
            "grid_template_columns": null,
            "grid_template_rows": null,
            "height": null,
            "justify_content": null,
            "justify_items": null,
            "left": null,
            "margin": null,
            "max_height": null,
            "max_width": null,
            "min_height": null,
            "min_width": null,
            "object_fit": null,
            "object_position": null,
            "order": null,
            "overflow": null,
            "overflow_x": null,
            "overflow_y": null,
            "padding": null,
            "right": null,
            "top": null,
            "visibility": null,
            "width": null
          }
        },
        "59359686bf884832ad850321545a4ada": {
          "model_module": "@jupyter-widgets/controls",
          "model_name": "DescriptionStyleModel",
          "model_module_version": "1.5.0",
          "state": {
            "_model_module": "@jupyter-widgets/controls",
            "_model_module_version": "1.5.0",
            "_model_name": "DescriptionStyleModel",
            "_view_count": null,
            "_view_module": "@jupyter-widgets/base",
            "_view_module_version": "1.2.0",
            "_view_name": "StyleView",
            "description_width": ""
          }
        },
        "73ebc29cf37c4cff97b47d429152ea27": {
          "model_module": "@jupyter-widgets/base",
          "model_name": "LayoutModel",
          "model_module_version": "1.2.0",
          "state": {
            "_model_module": "@jupyter-widgets/base",
            "_model_module_version": "1.2.0",
            "_model_name": "LayoutModel",
            "_view_count": null,
            "_view_module": "@jupyter-widgets/base",
            "_view_module_version": "1.2.0",
            "_view_name": "LayoutView",
            "align_content": null,
            "align_items": null,
            "align_self": null,
            "border": null,
            "bottom": null,
            "display": null,
            "flex": null,
            "flex_flow": null,
            "grid_area": null,
            "grid_auto_columns": null,
            "grid_auto_flow": null,
            "grid_auto_rows": null,
            "grid_column": null,
            "grid_gap": null,
            "grid_row": null,
            "grid_template_areas": null,
            "grid_template_columns": null,
            "grid_template_rows": null,
            "height": null,
            "justify_content": null,
            "justify_items": null,
            "left": null,
            "margin": null,
            "max_height": null,
            "max_width": null,
            "min_height": null,
            "min_width": null,
            "object_fit": null,
            "object_position": null,
            "order": null,
            "overflow": null,
            "overflow_x": null,
            "overflow_y": null,
            "padding": null,
            "right": null,
            "top": null,
            "visibility": null,
            "width": null
          }
        },
        "75ea8cccd72f4914bfd30894d6f174eb": {
          "model_module": "@jupyter-widgets/controls",
          "model_name": "ProgressStyleModel",
          "model_module_version": "1.5.0",
          "state": {
            "_model_module": "@jupyter-widgets/controls",
            "_model_module_version": "1.5.0",
            "_model_name": "ProgressStyleModel",
            "_view_count": null,
            "_view_module": "@jupyter-widgets/base",
            "_view_module_version": "1.2.0",
            "_view_name": "StyleView",
            "bar_color": null,
            "description_width": ""
          }
        },
        "37f07a4865a3468aa4ea6c6806f89248": {
          "model_module": "@jupyter-widgets/base",
          "model_name": "LayoutModel",
          "model_module_version": "1.2.0",
          "state": {
            "_model_module": "@jupyter-widgets/base",
            "_model_module_version": "1.2.0",
            "_model_name": "LayoutModel",
            "_view_count": null,
            "_view_module": "@jupyter-widgets/base",
            "_view_module_version": "1.2.0",
            "_view_name": "LayoutView",
            "align_content": null,
            "align_items": null,
            "align_self": null,
            "border": null,
            "bottom": null,
            "display": null,
            "flex": null,
            "flex_flow": null,
            "grid_area": null,
            "grid_auto_columns": null,
            "grid_auto_flow": null,
            "grid_auto_rows": null,
            "grid_column": null,
            "grid_gap": null,
            "grid_row": null,
            "grid_template_areas": null,
            "grid_template_columns": null,
            "grid_template_rows": null,
            "height": null,
            "justify_content": null,
            "justify_items": null,
            "left": null,
            "margin": null,
            "max_height": null,
            "max_width": null,
            "min_height": null,
            "min_width": null,
            "object_fit": null,
            "object_position": null,
            "order": null,
            "overflow": null,
            "overflow_x": null,
            "overflow_y": null,
            "padding": null,
            "right": null,
            "top": null,
            "visibility": null,
            "width": null
          }
        },
        "a754818c6cc64d92a238683d28504343": {
          "model_module": "@jupyter-widgets/controls",
          "model_name": "DescriptionStyleModel",
          "model_module_version": "1.5.0",
          "state": {
            "_model_module": "@jupyter-widgets/controls",
            "_model_module_version": "1.5.0",
            "_model_name": "DescriptionStyleModel",
            "_view_count": null,
            "_view_module": "@jupyter-widgets/base",
            "_view_module_version": "1.2.0",
            "_view_name": "StyleView",
            "description_width": ""
          }
        },
        "08bdae065092413cbce8e7fea22bac86": {
          "model_module": "@jupyter-widgets/controls",
          "model_name": "HBoxModel",
          "model_module_version": "1.5.0",
          "state": {
            "_dom_classes": [],
            "_model_module": "@jupyter-widgets/controls",
            "_model_module_version": "1.5.0",
            "_model_name": "HBoxModel",
            "_view_count": null,
            "_view_module": "@jupyter-widgets/controls",
            "_view_module_version": "1.5.0",
            "_view_name": "HBoxView",
            "box_style": "",
            "children": [
              "IPY_MODEL_96abf5d3ccb64bc9a677d4df26cf7202",
              "IPY_MODEL_8aadae2e1be14c829e3e3e6db4928aee",
              "IPY_MODEL_4ba9ea02225e40cc961a97c981e55b10"
            ],
            "layout": "IPY_MODEL_9ea71c161045413eb4e65e9e9713dcb1"
          }
        },
        "96abf5d3ccb64bc9a677d4df26cf7202": {
          "model_module": "@jupyter-widgets/controls",
          "model_name": "HTMLModel",
          "model_module_version": "1.5.0",
          "state": {
            "_dom_classes": [],
            "_model_module": "@jupyter-widgets/controls",
            "_model_module_version": "1.5.0",
            "_model_name": "HTMLModel",
            "_view_count": null,
            "_view_module": "@jupyter-widgets/controls",
            "_view_module_version": "1.5.0",
            "_view_name": "HTMLView",
            "description": "",
            "description_tooltip": null,
            "layout": "IPY_MODEL_7534650e43604e8f9c0c6ec2d2d8f719",
            "placeholder": "​",
            "style": "IPY_MODEL_865280f104ff40bfadddfd97e4f49687",
            "value": "Generating train split: 100%"
          }
        },
        "8aadae2e1be14c829e3e3e6db4928aee": {
          "model_module": "@jupyter-widgets/controls",
          "model_name": "FloatProgressModel",
          "model_module_version": "1.5.0",
          "state": {
            "_dom_classes": [],
            "_model_module": "@jupyter-widgets/controls",
            "_model_module_version": "1.5.0",
            "_model_name": "FloatProgressModel",
            "_view_count": null,
            "_view_module": "@jupyter-widgets/controls",
            "_view_module_version": "1.5.0",
            "_view_name": "ProgressView",
            "bar_style": "success",
            "description": "",
            "description_tooltip": null,
            "layout": "IPY_MODEL_beac2188206b48868ce5b19a9e5b822a",
            "max": 2544,
            "min": 0,
            "orientation": "horizontal",
            "style": "IPY_MODEL_ffa9434babd6479a8b597b8de80d707e",
            "value": 2544
          }
        },
        "4ba9ea02225e40cc961a97c981e55b10": {
          "model_module": "@jupyter-widgets/controls",
          "model_name": "HTMLModel",
          "model_module_version": "1.5.0",
          "state": {
            "_dom_classes": [],
            "_model_module": "@jupyter-widgets/controls",
            "_model_module_version": "1.5.0",
            "_model_name": "HTMLModel",
            "_view_count": null,
            "_view_module": "@jupyter-widgets/controls",
            "_view_module_version": "1.5.0",
            "_view_name": "HTMLView",
            "description": "",
            "description_tooltip": null,
            "layout": "IPY_MODEL_4bd0b41bcf8f4da190fcbfc53395a97c",
            "placeholder": "​",
            "style": "IPY_MODEL_a7b4a63025f84ea2a885bb81e8c9a492",
            "value": " 2544/2544 [00:00&lt;00:00, 3829.64 examples/s]"
          }
        },
        "9ea71c161045413eb4e65e9e9713dcb1": {
          "model_module": "@jupyter-widgets/base",
          "model_name": "LayoutModel",
          "model_module_version": "1.2.0",
          "state": {
            "_model_module": "@jupyter-widgets/base",
            "_model_module_version": "1.2.0",
            "_model_name": "LayoutModel",
            "_view_count": null,
            "_view_module": "@jupyter-widgets/base",
            "_view_module_version": "1.2.0",
            "_view_name": "LayoutView",
            "align_content": null,
            "align_items": null,
            "align_self": null,
            "border": null,
            "bottom": null,
            "display": null,
            "flex": null,
            "flex_flow": null,
            "grid_area": null,
            "grid_auto_columns": null,
            "grid_auto_flow": null,
            "grid_auto_rows": null,
            "grid_column": null,
            "grid_gap": null,
            "grid_row": null,
            "grid_template_areas": null,
            "grid_template_columns": null,
            "grid_template_rows": null,
            "height": null,
            "justify_content": null,
            "justify_items": null,
            "left": null,
            "margin": null,
            "max_height": null,
            "max_width": null,
            "min_height": null,
            "min_width": null,
            "object_fit": null,
            "object_position": null,
            "order": null,
            "overflow": null,
            "overflow_x": null,
            "overflow_y": null,
            "padding": null,
            "right": null,
            "top": null,
            "visibility": null,
            "width": null
          }
        },
        "7534650e43604e8f9c0c6ec2d2d8f719": {
          "model_module": "@jupyter-widgets/base",
          "model_name": "LayoutModel",
          "model_module_version": "1.2.0",
          "state": {
            "_model_module": "@jupyter-widgets/base",
            "_model_module_version": "1.2.0",
            "_model_name": "LayoutModel",
            "_view_count": null,
            "_view_module": "@jupyter-widgets/base",
            "_view_module_version": "1.2.0",
            "_view_name": "LayoutView",
            "align_content": null,
            "align_items": null,
            "align_self": null,
            "border": null,
            "bottom": null,
            "display": null,
            "flex": null,
            "flex_flow": null,
            "grid_area": null,
            "grid_auto_columns": null,
            "grid_auto_flow": null,
            "grid_auto_rows": null,
            "grid_column": null,
            "grid_gap": null,
            "grid_row": null,
            "grid_template_areas": null,
            "grid_template_columns": null,
            "grid_template_rows": null,
            "height": null,
            "justify_content": null,
            "justify_items": null,
            "left": null,
            "margin": null,
            "max_height": null,
            "max_width": null,
            "min_height": null,
            "min_width": null,
            "object_fit": null,
            "object_position": null,
            "order": null,
            "overflow": null,
            "overflow_x": null,
            "overflow_y": null,
            "padding": null,
            "right": null,
            "top": null,
            "visibility": null,
            "width": null
          }
        },
        "865280f104ff40bfadddfd97e4f49687": {
          "model_module": "@jupyter-widgets/controls",
          "model_name": "DescriptionStyleModel",
          "model_module_version": "1.5.0",
          "state": {
            "_model_module": "@jupyter-widgets/controls",
            "_model_module_version": "1.5.0",
            "_model_name": "DescriptionStyleModel",
            "_view_count": null,
            "_view_module": "@jupyter-widgets/base",
            "_view_module_version": "1.2.0",
            "_view_name": "StyleView",
            "description_width": ""
          }
        },
        "beac2188206b48868ce5b19a9e5b822a": {
          "model_module": "@jupyter-widgets/base",
          "model_name": "LayoutModel",
          "model_module_version": "1.2.0",
          "state": {
            "_model_module": "@jupyter-widgets/base",
            "_model_module_version": "1.2.0",
            "_model_name": "LayoutModel",
            "_view_count": null,
            "_view_module": "@jupyter-widgets/base",
            "_view_module_version": "1.2.0",
            "_view_name": "LayoutView",
            "align_content": null,
            "align_items": null,
            "align_self": null,
            "border": null,
            "bottom": null,
            "display": null,
            "flex": null,
            "flex_flow": null,
            "grid_area": null,
            "grid_auto_columns": null,
            "grid_auto_flow": null,
            "grid_auto_rows": null,
            "grid_column": null,
            "grid_gap": null,
            "grid_row": null,
            "grid_template_areas": null,
            "grid_template_columns": null,
            "grid_template_rows": null,
            "height": null,
            "justify_content": null,
            "justify_items": null,
            "left": null,
            "margin": null,
            "max_height": null,
            "max_width": null,
            "min_height": null,
            "min_width": null,
            "object_fit": null,
            "object_position": null,
            "order": null,
            "overflow": null,
            "overflow_x": null,
            "overflow_y": null,
            "padding": null,
            "right": null,
            "top": null,
            "visibility": null,
            "width": null
          }
        },
        "ffa9434babd6479a8b597b8de80d707e": {
          "model_module": "@jupyter-widgets/controls",
          "model_name": "ProgressStyleModel",
          "model_module_version": "1.5.0",
          "state": {
            "_model_module": "@jupyter-widgets/controls",
            "_model_module_version": "1.5.0",
            "_model_name": "ProgressStyleModel",
            "_view_count": null,
            "_view_module": "@jupyter-widgets/base",
            "_view_module_version": "1.2.0",
            "_view_name": "StyleView",
            "bar_color": null,
            "description_width": ""
          }
        },
        "4bd0b41bcf8f4da190fcbfc53395a97c": {
          "model_module": "@jupyter-widgets/base",
          "model_name": "LayoutModel",
          "model_module_version": "1.2.0",
          "state": {
            "_model_module": "@jupyter-widgets/base",
            "_model_module_version": "1.2.0",
            "_model_name": "LayoutModel",
            "_view_count": null,
            "_view_module": "@jupyter-widgets/base",
            "_view_module_version": "1.2.0",
            "_view_name": "LayoutView",
            "align_content": null,
            "align_items": null,
            "align_self": null,
            "border": null,
            "bottom": null,
            "display": null,
            "flex": null,
            "flex_flow": null,
            "grid_area": null,
            "grid_auto_columns": null,
            "grid_auto_flow": null,
            "grid_auto_rows": null,
            "grid_column": null,
            "grid_gap": null,
            "grid_row": null,
            "grid_template_areas": null,
            "grid_template_columns": null,
            "grid_template_rows": null,
            "height": null,
            "justify_content": null,
            "justify_items": null,
            "left": null,
            "margin": null,
            "max_height": null,
            "max_width": null,
            "min_height": null,
            "min_width": null,
            "object_fit": null,
            "object_position": null,
            "order": null,
            "overflow": null,
            "overflow_x": null,
            "overflow_y": null,
            "padding": null,
            "right": null,
            "top": null,
            "visibility": null,
            "width": null
          }
        },
        "a7b4a63025f84ea2a885bb81e8c9a492": {
          "model_module": "@jupyter-widgets/controls",
          "model_name": "DescriptionStyleModel",
          "model_module_version": "1.5.0",
          "state": {
            "_model_module": "@jupyter-widgets/controls",
            "_model_module_version": "1.5.0",
            "_model_name": "DescriptionStyleModel",
            "_view_count": null,
            "_view_module": "@jupyter-widgets/base",
            "_view_module_version": "1.2.0",
            "_view_name": "StyleView",
            "description_width": ""
          }
        },
        "311cbb4c54a24ba087abddfa78f00143": {
          "model_module": "@jupyter-widgets/controls",
          "model_name": "HBoxModel",
          "model_module_version": "1.5.0",
          "state": {
            "_dom_classes": [],
            "_model_module": "@jupyter-widgets/controls",
            "_model_module_version": "1.5.0",
            "_model_name": "HBoxModel",
            "_view_count": null,
            "_view_module": "@jupyter-widgets/controls",
            "_view_module_version": "1.5.0",
            "_view_name": "HBoxView",
            "box_style": "",
            "children": [
              "IPY_MODEL_1b152d64b1d2434f90946c14354a1ffa",
              "IPY_MODEL_ea708543ecf04288ba6b737604c515b8",
              "IPY_MODEL_b435b4f8d4784035b4285e76db0bbd32"
            ],
            "layout": "IPY_MODEL_1437dd4ce0684688a2b8d7279dc1aea4"
          }
        },
        "1b152d64b1d2434f90946c14354a1ffa": {
          "model_module": "@jupyter-widgets/controls",
          "model_name": "HTMLModel",
          "model_module_version": "1.5.0",
          "state": {
            "_dom_classes": [],
            "_model_module": "@jupyter-widgets/controls",
            "_model_module_version": "1.5.0",
            "_model_name": "HTMLModel",
            "_view_count": null,
            "_view_module": "@jupyter-widgets/controls",
            "_view_module_version": "1.5.0",
            "_view_name": "HTMLView",
            "description": "",
            "description_tooltip": null,
            "layout": "IPY_MODEL_97ac7dfdecff47a096bea8e483f4aa42",
            "placeholder": "​",
            "style": "IPY_MODEL_c1a4fde0bb2740cc9ec4b02077cfbc58",
            "value": "Generating test split: 100%"
          }
        },
        "ea708543ecf04288ba6b737604c515b8": {
          "model_module": "@jupyter-widgets/controls",
          "model_name": "FloatProgressModel",
          "model_module_version": "1.5.0",
          "state": {
            "_dom_classes": [],
            "_model_module": "@jupyter-widgets/controls",
            "_model_module_version": "1.5.0",
            "_model_name": "FloatProgressModel",
            "_view_count": null,
            "_view_module": "@jupyter-widgets/controls",
            "_view_module_version": "1.5.0",
            "_view_name": "ProgressView",
            "bar_style": "success",
            "description": "",
            "description_tooltip": null,
            "layout": "IPY_MODEL_90167551d22a4b588bb2148b64eae4ce",
            "max": 604,
            "min": 0,
            "orientation": "horizontal",
            "style": "IPY_MODEL_da35b26875494e38b1b3bc51358742fb",
            "value": 604
          }
        },
        "b435b4f8d4784035b4285e76db0bbd32": {
          "model_module": "@jupyter-widgets/controls",
          "model_name": "HTMLModel",
          "model_module_version": "1.5.0",
          "state": {
            "_dom_classes": [],
            "_model_module": "@jupyter-widgets/controls",
            "_model_module_version": "1.5.0",
            "_model_name": "HTMLModel",
            "_view_count": null,
            "_view_module": "@jupyter-widgets/controls",
            "_view_module_version": "1.5.0",
            "_view_name": "HTMLView",
            "description": "",
            "description_tooltip": null,
            "layout": "IPY_MODEL_7e56a2550a6e48a695532622babc0fc0",
            "placeholder": "​",
            "style": "IPY_MODEL_2f4bfe103fe549a9a2752e58d6742748",
            "value": " 604/604 [00:00&lt;00:00, 3091.02 examples/s]"
          }
        },
        "1437dd4ce0684688a2b8d7279dc1aea4": {
          "model_module": "@jupyter-widgets/base",
          "model_name": "LayoutModel",
          "model_module_version": "1.2.0",
          "state": {
            "_model_module": "@jupyter-widgets/base",
            "_model_module_version": "1.2.0",
            "_model_name": "LayoutModel",
            "_view_count": null,
            "_view_module": "@jupyter-widgets/base",
            "_view_module_version": "1.2.0",
            "_view_name": "LayoutView",
            "align_content": null,
            "align_items": null,
            "align_self": null,
            "border": null,
            "bottom": null,
            "display": null,
            "flex": null,
            "flex_flow": null,
            "grid_area": null,
            "grid_auto_columns": null,
            "grid_auto_flow": null,
            "grid_auto_rows": null,
            "grid_column": null,
            "grid_gap": null,
            "grid_row": null,
            "grid_template_areas": null,
            "grid_template_columns": null,
            "grid_template_rows": null,
            "height": null,
            "justify_content": null,
            "justify_items": null,
            "left": null,
            "margin": null,
            "max_height": null,
            "max_width": null,
            "min_height": null,
            "min_width": null,
            "object_fit": null,
            "object_position": null,
            "order": null,
            "overflow": null,
            "overflow_x": null,
            "overflow_y": null,
            "padding": null,
            "right": null,
            "top": null,
            "visibility": null,
            "width": null
          }
        },
        "97ac7dfdecff47a096bea8e483f4aa42": {
          "model_module": "@jupyter-widgets/base",
          "model_name": "LayoutModel",
          "model_module_version": "1.2.0",
          "state": {
            "_model_module": "@jupyter-widgets/base",
            "_model_module_version": "1.2.0",
            "_model_name": "LayoutModel",
            "_view_count": null,
            "_view_module": "@jupyter-widgets/base",
            "_view_module_version": "1.2.0",
            "_view_name": "LayoutView",
            "align_content": null,
            "align_items": null,
            "align_self": null,
            "border": null,
            "bottom": null,
            "display": null,
            "flex": null,
            "flex_flow": null,
            "grid_area": null,
            "grid_auto_columns": null,
            "grid_auto_flow": null,
            "grid_auto_rows": null,
            "grid_column": null,
            "grid_gap": null,
            "grid_row": null,
            "grid_template_areas": null,
            "grid_template_columns": null,
            "grid_template_rows": null,
            "height": null,
            "justify_content": null,
            "justify_items": null,
            "left": null,
            "margin": null,
            "max_height": null,
            "max_width": null,
            "min_height": null,
            "min_width": null,
            "object_fit": null,
            "object_position": null,
            "order": null,
            "overflow": null,
            "overflow_x": null,
            "overflow_y": null,
            "padding": null,
            "right": null,
            "top": null,
            "visibility": null,
            "width": null
          }
        },
        "c1a4fde0bb2740cc9ec4b02077cfbc58": {
          "model_module": "@jupyter-widgets/controls",
          "model_name": "DescriptionStyleModel",
          "model_module_version": "1.5.0",
          "state": {
            "_model_module": "@jupyter-widgets/controls",
            "_model_module_version": "1.5.0",
            "_model_name": "DescriptionStyleModel",
            "_view_count": null,
            "_view_module": "@jupyter-widgets/base",
            "_view_module_version": "1.2.0",
            "_view_name": "StyleView",
            "description_width": ""
          }
        },
        "90167551d22a4b588bb2148b64eae4ce": {
          "model_module": "@jupyter-widgets/base",
          "model_name": "LayoutModel",
          "model_module_version": "1.2.0",
          "state": {
            "_model_module": "@jupyter-widgets/base",
            "_model_module_version": "1.2.0",
            "_model_name": "LayoutModel",
            "_view_count": null,
            "_view_module": "@jupyter-widgets/base",
            "_view_module_version": "1.2.0",
            "_view_name": "LayoutView",
            "align_content": null,
            "align_items": null,
            "align_self": null,
            "border": null,
            "bottom": null,
            "display": null,
            "flex": null,
            "flex_flow": null,
            "grid_area": null,
            "grid_auto_columns": null,
            "grid_auto_flow": null,
            "grid_auto_rows": null,
            "grid_column": null,
            "grid_gap": null,
            "grid_row": null,
            "grid_template_areas": null,
            "grid_template_columns": null,
            "grid_template_rows": null,
            "height": null,
            "justify_content": null,
            "justify_items": null,
            "left": null,
            "margin": null,
            "max_height": null,
            "max_width": null,
            "min_height": null,
            "min_width": null,
            "object_fit": null,
            "object_position": null,
            "order": null,
            "overflow": null,
            "overflow_x": null,
            "overflow_y": null,
            "padding": null,
            "right": null,
            "top": null,
            "visibility": null,
            "width": null
          }
        },
        "da35b26875494e38b1b3bc51358742fb": {
          "model_module": "@jupyter-widgets/controls",
          "model_name": "ProgressStyleModel",
          "model_module_version": "1.5.0",
          "state": {
            "_model_module": "@jupyter-widgets/controls",
            "_model_module_version": "1.5.0",
            "_model_name": "ProgressStyleModel",
            "_view_count": null,
            "_view_module": "@jupyter-widgets/base",
            "_view_module_version": "1.2.0",
            "_view_name": "StyleView",
            "bar_color": null,
            "description_width": ""
          }
        },
        "7e56a2550a6e48a695532622babc0fc0": {
          "model_module": "@jupyter-widgets/base",
          "model_name": "LayoutModel",
          "model_module_version": "1.2.0",
          "state": {
            "_model_module": "@jupyter-widgets/base",
            "_model_module_version": "1.2.0",
            "_model_name": "LayoutModel",
            "_view_count": null,
            "_view_module": "@jupyter-widgets/base",
            "_view_module_version": "1.2.0",
            "_view_name": "LayoutView",
            "align_content": null,
            "align_items": null,
            "align_self": null,
            "border": null,
            "bottom": null,
            "display": null,
            "flex": null,
            "flex_flow": null,
            "grid_area": null,
            "grid_auto_columns": null,
            "grid_auto_flow": null,
            "grid_auto_rows": null,
            "grid_column": null,
            "grid_gap": null,
            "grid_row": null,
            "grid_template_areas": null,
            "grid_template_columns": null,
            "grid_template_rows": null,
            "height": null,
            "justify_content": null,
            "justify_items": null,
            "left": null,
            "margin": null,
            "max_height": null,
            "max_width": null,
            "min_height": null,
            "min_width": null,
            "object_fit": null,
            "object_position": null,
            "order": null,
            "overflow": null,
            "overflow_x": null,
            "overflow_y": null,
            "padding": null,
            "right": null,
            "top": null,
            "visibility": null,
            "width": null
          }
        },
        "2f4bfe103fe549a9a2752e58d6742748": {
          "model_module": "@jupyter-widgets/controls",
          "model_name": "DescriptionStyleModel",
          "model_module_version": "1.5.0",
          "state": {
            "_model_module": "@jupyter-widgets/controls",
            "_model_module_version": "1.5.0",
            "_model_name": "DescriptionStyleModel",
            "_view_count": null,
            "_view_module": "@jupyter-widgets/base",
            "_view_module_version": "1.2.0",
            "_view_name": "StyleView",
            "description_width": ""
          }
        },
        "845132130e5f4b649d5134a9ff55775d": {
          "model_module": "@jupyter-widgets/controls",
          "model_name": "HBoxModel",
          "model_module_version": "1.5.0",
          "state": {
            "_dom_classes": [],
            "_model_module": "@jupyter-widgets/controls",
            "_model_module_version": "1.5.0",
            "_model_name": "HBoxModel",
            "_view_count": null,
            "_view_module": "@jupyter-widgets/controls",
            "_view_module_version": "1.5.0",
            "_view_name": "HBoxView",
            "box_style": "",
            "children": [
              "IPY_MODEL_e9d85bd04587485398144c219e16217e",
              "IPY_MODEL_26abd68056b44653984fbfb880655ee4",
              "IPY_MODEL_e7ea3d9c5deb4bcabfe103cf783b8e64"
            ],
            "layout": "IPY_MODEL_347b0ac7040c4713a870ffb471baa7a5"
          }
        },
        "e9d85bd04587485398144c219e16217e": {
          "model_module": "@jupyter-widgets/controls",
          "model_name": "HTMLModel",
          "model_module_version": "1.5.0",
          "state": {
            "_dom_classes": [],
            "_model_module": "@jupyter-widgets/controls",
            "_model_module_version": "1.5.0",
            "_model_name": "HTMLModel",
            "_view_count": null,
            "_view_module": "@jupyter-widgets/controls",
            "_view_module_version": "1.5.0",
            "_view_name": "HTMLView",
            "description": "",
            "description_tooltip": null,
            "layout": "IPY_MODEL_c986c2d00e7e47cda7caed36392f452a",
            "placeholder": "​",
            "style": "IPY_MODEL_83f8d9a7b72c4979b8cf6c748ab8f673",
            "value": ""
          }
        },
        "26abd68056b44653984fbfb880655ee4": {
          "model_module": "@jupyter-widgets/controls",
          "model_name": "FloatProgressModel",
          "model_module_version": "1.5.0",
          "state": {
            "_dom_classes": [],
            "_model_module": "@jupyter-widgets/controls",
            "_model_module_version": "1.5.0",
            "_model_name": "FloatProgressModel",
            "_view_count": null,
            "_view_module": "@jupyter-widgets/controls",
            "_view_module_version": "1.5.0",
            "_view_name": "ProgressView",
            "bar_style": "success",
            "description": "",
            "description_tooltip": null,
            "layout": "IPY_MODEL_4dcfdf5c6f3a4a3189d894925e706c4c",
            "max": 1,
            "min": 0,
            "orientation": "horizontal",
            "style": "IPY_MODEL_7c109866793747f7927fe17036caed84",
            "value": 0
          }
        },
        "e7ea3d9c5deb4bcabfe103cf783b8e64": {
          "model_module": "@jupyter-widgets/controls",
          "model_name": "HTMLModel",
          "model_module_version": "1.5.0",
          "state": {
            "_dom_classes": [],
            "_model_module": "@jupyter-widgets/controls",
            "_model_module_version": "1.5.0",
            "_model_name": "HTMLModel",
            "_view_count": null,
            "_view_module": "@jupyter-widgets/controls",
            "_view_module_version": "1.5.0",
            "_view_name": "HTMLView",
            "description": "",
            "description_tooltip": null,
            "layout": "IPY_MODEL_42c63cae35654d769187c5ce3b5d50a1",
            "placeholder": "​",
            "style": "IPY_MODEL_a9f81d57d0f34ff9bb0bb419666fe419",
            "value": " 0/0 [00:00&lt;?, ?it/s]"
          }
        },
        "347b0ac7040c4713a870ffb471baa7a5": {
          "model_module": "@jupyter-widgets/base",
          "model_name": "LayoutModel",
          "model_module_version": "1.2.0",
          "state": {
            "_model_module": "@jupyter-widgets/base",
            "_model_module_version": "1.2.0",
            "_model_name": "LayoutModel",
            "_view_count": null,
            "_view_module": "@jupyter-widgets/base",
            "_view_module_version": "1.2.0",
            "_view_name": "LayoutView",
            "align_content": null,
            "align_items": null,
            "align_self": null,
            "border": null,
            "bottom": null,
            "display": null,
            "flex": null,
            "flex_flow": null,
            "grid_area": null,
            "grid_auto_columns": null,
            "grid_auto_flow": null,
            "grid_auto_rows": null,
            "grid_column": null,
            "grid_gap": null,
            "grid_row": null,
            "grid_template_areas": null,
            "grid_template_columns": null,
            "grid_template_rows": null,
            "height": null,
            "justify_content": null,
            "justify_items": null,
            "left": null,
            "margin": null,
            "max_height": null,
            "max_width": null,
            "min_height": null,
            "min_width": null,
            "object_fit": null,
            "object_position": null,
            "order": null,
            "overflow": null,
            "overflow_x": null,
            "overflow_y": null,
            "padding": null,
            "right": null,
            "top": null,
            "visibility": null,
            "width": null
          }
        },
        "c986c2d00e7e47cda7caed36392f452a": {
          "model_module": "@jupyter-widgets/base",
          "model_name": "LayoutModel",
          "model_module_version": "1.2.0",
          "state": {
            "_model_module": "@jupyter-widgets/base",
            "_model_module_version": "1.2.0",
            "_model_name": "LayoutModel",
            "_view_count": null,
            "_view_module": "@jupyter-widgets/base",
            "_view_module_version": "1.2.0",
            "_view_name": "LayoutView",
            "align_content": null,
            "align_items": null,
            "align_self": null,
            "border": null,
            "bottom": null,
            "display": null,
            "flex": null,
            "flex_flow": null,
            "grid_area": null,
            "grid_auto_columns": null,
            "grid_auto_flow": null,
            "grid_auto_rows": null,
            "grid_column": null,
            "grid_gap": null,
            "grid_row": null,
            "grid_template_areas": null,
            "grid_template_columns": null,
            "grid_template_rows": null,
            "height": null,
            "justify_content": null,
            "justify_items": null,
            "left": null,
            "margin": null,
            "max_height": null,
            "max_width": null,
            "min_height": null,
            "min_width": null,
            "object_fit": null,
            "object_position": null,
            "order": null,
            "overflow": null,
            "overflow_x": null,
            "overflow_y": null,
            "padding": null,
            "right": null,
            "top": null,
            "visibility": null,
            "width": null
          }
        },
        "83f8d9a7b72c4979b8cf6c748ab8f673": {
          "model_module": "@jupyter-widgets/controls",
          "model_name": "DescriptionStyleModel",
          "model_module_version": "1.5.0",
          "state": {
            "_model_module": "@jupyter-widgets/controls",
            "_model_module_version": "1.5.0",
            "_model_name": "DescriptionStyleModel",
            "_view_count": null,
            "_view_module": "@jupyter-widgets/base",
            "_view_module_version": "1.2.0",
            "_view_name": "StyleView",
            "description_width": ""
          }
        },
        "4dcfdf5c6f3a4a3189d894925e706c4c": {
          "model_module": "@jupyter-widgets/base",
          "model_name": "LayoutModel",
          "model_module_version": "1.2.0",
          "state": {
            "_model_module": "@jupyter-widgets/base",
            "_model_module_version": "1.2.0",
            "_model_name": "LayoutModel",
            "_view_count": null,
            "_view_module": "@jupyter-widgets/base",
            "_view_module_version": "1.2.0",
            "_view_name": "LayoutView",
            "align_content": null,
            "align_items": null,
            "align_self": null,
            "border": null,
            "bottom": null,
            "display": null,
            "flex": null,
            "flex_flow": null,
            "grid_area": null,
            "grid_auto_columns": null,
            "grid_auto_flow": null,
            "grid_auto_rows": null,
            "grid_column": null,
            "grid_gap": null,
            "grid_row": null,
            "grid_template_areas": null,
            "grid_template_columns": null,
            "grid_template_rows": null,
            "height": null,
            "justify_content": null,
            "justify_items": null,
            "left": null,
            "margin": null,
            "max_height": null,
            "max_width": null,
            "min_height": null,
            "min_width": null,
            "object_fit": null,
            "object_position": null,
            "order": null,
            "overflow": null,
            "overflow_x": null,
            "overflow_y": null,
            "padding": null,
            "right": null,
            "top": null,
            "visibility": null,
            "width": "20px"
          }
        },
        "7c109866793747f7927fe17036caed84": {
          "model_module": "@jupyter-widgets/controls",
          "model_name": "ProgressStyleModel",
          "model_module_version": "1.5.0",
          "state": {
            "_model_module": "@jupyter-widgets/controls",
            "_model_module_version": "1.5.0",
            "_model_name": "ProgressStyleModel",
            "_view_count": null,
            "_view_module": "@jupyter-widgets/base",
            "_view_module_version": "1.2.0",
            "_view_name": "StyleView",
            "bar_color": null,
            "description_width": ""
          }
        },
        "42c63cae35654d769187c5ce3b5d50a1": {
          "model_module": "@jupyter-widgets/base",
          "model_name": "LayoutModel",
          "model_module_version": "1.2.0",
          "state": {
            "_model_module": "@jupyter-widgets/base",
            "_model_module_version": "1.2.0",
            "_model_name": "LayoutModel",
            "_view_count": null,
            "_view_module": "@jupyter-widgets/base",
            "_view_module_version": "1.2.0",
            "_view_name": "LayoutView",
            "align_content": null,
            "align_items": null,
            "align_self": null,
            "border": null,
            "bottom": null,
            "display": null,
            "flex": null,
            "flex_flow": null,
            "grid_area": null,
            "grid_auto_columns": null,
            "grid_auto_flow": null,
            "grid_auto_rows": null,
            "grid_column": null,
            "grid_gap": null,
            "grid_row": null,
            "grid_template_areas": null,
            "grid_template_columns": null,
            "grid_template_rows": null,
            "height": null,
            "justify_content": null,
            "justify_items": null,
            "left": null,
            "margin": null,
            "max_height": null,
            "max_width": null,
            "min_height": null,
            "min_width": null,
            "object_fit": null,
            "object_position": null,
            "order": null,
            "overflow": null,
            "overflow_x": null,
            "overflow_y": null,
            "padding": null,
            "right": null,
            "top": null,
            "visibility": null,
            "width": null
          }
        },
        "a9f81d57d0f34ff9bb0bb419666fe419": {
          "model_module": "@jupyter-widgets/controls",
          "model_name": "DescriptionStyleModel",
          "model_module_version": "1.5.0",
          "state": {
            "_model_module": "@jupyter-widgets/controls",
            "_model_module_version": "1.5.0",
            "_model_name": "DescriptionStyleModel",
            "_view_count": null,
            "_view_module": "@jupyter-widgets/base",
            "_view_module_version": "1.2.0",
            "_view_name": "StyleView",
            "description_width": ""
          }
        },
        "4919941e54bd4e73bc9fdf335d773e41": {
          "model_module": "@jupyter-widgets/controls",
          "model_name": "HBoxModel",
          "model_module_version": "1.5.0",
          "state": {
            "_dom_classes": [],
            "_model_module": "@jupyter-widgets/controls",
            "_model_module_version": "1.5.0",
            "_model_name": "HBoxModel",
            "_view_count": null,
            "_view_module": "@jupyter-widgets/controls",
            "_view_module_version": "1.5.0",
            "_view_name": "HBoxView",
            "box_style": "",
            "children": [
              "IPY_MODEL_f2c113d884c14bfb9b29f041292ece47",
              "IPY_MODEL_707533a02133428bbd55e4014eb910f3",
              "IPY_MODEL_745aa105f8af4955aaf98a2e64f9c27f"
            ],
            "layout": "IPY_MODEL_49fc63ba7b3147049218c1f59f1fa41b"
          }
        },
        "f2c113d884c14bfb9b29f041292ece47": {
          "model_module": "@jupyter-widgets/controls",
          "model_name": "HTMLModel",
          "model_module_version": "1.5.0",
          "state": {
            "_dom_classes": [],
            "_model_module": "@jupyter-widgets/controls",
            "_model_module_version": "1.5.0",
            "_model_name": "HTMLModel",
            "_view_count": null,
            "_view_module": "@jupyter-widgets/controls",
            "_view_module_version": "1.5.0",
            "_view_name": "HTMLView",
            "description": "",
            "description_tooltip": null,
            "layout": "IPY_MODEL_dde45c0f85e447dba3a1a5b1b63bb893",
            "placeholder": "​",
            "style": "IPY_MODEL_011fd6d7acb141598cbbd66bb376d54b",
            "value": "preprocessor_config.json: 100%"
          }
        },
        "707533a02133428bbd55e4014eb910f3": {
          "model_module": "@jupyter-widgets/controls",
          "model_name": "FloatProgressModel",
          "model_module_version": "1.5.0",
          "state": {
            "_dom_classes": [],
            "_model_module": "@jupyter-widgets/controls",
            "_model_module_version": "1.5.0",
            "_model_name": "FloatProgressModel",
            "_view_count": null,
            "_view_module": "@jupyter-widgets/controls",
            "_view_module_version": "1.5.0",
            "_view_name": "ProgressView",
            "bar_style": "success",
            "description": "",
            "description_tooltip": null,
            "layout": "IPY_MODEL_1b1334de6f15449bbada751cb6a54cc1",
            "max": 184990,
            "min": 0,
            "orientation": "horizontal",
            "style": "IPY_MODEL_6eacb9bb2330426caa013b5fc5bd1d9f",
            "value": 184990
          }
        },
        "745aa105f8af4955aaf98a2e64f9c27f": {
          "model_module": "@jupyter-widgets/controls",
          "model_name": "HTMLModel",
          "model_module_version": "1.5.0",
          "state": {
            "_dom_classes": [],
            "_model_module": "@jupyter-widgets/controls",
            "_model_module_version": "1.5.0",
            "_model_name": "HTMLModel",
            "_view_count": null,
            "_view_module": "@jupyter-widgets/controls",
            "_view_module_version": "1.5.0",
            "_view_name": "HTMLView",
            "description": "",
            "description_tooltip": null,
            "layout": "IPY_MODEL_42a507f169654ee0916d11822135d560",
            "placeholder": "​",
            "style": "IPY_MODEL_ded658f9cf9c4732ab45fef934bb8ba0",
            "value": " 185k/185k [00:00&lt;00:00, 10.9MB/s]"
          }
        },
        "49fc63ba7b3147049218c1f59f1fa41b": {
          "model_module": "@jupyter-widgets/base",
          "model_name": "LayoutModel",
          "model_module_version": "1.2.0",
          "state": {
            "_model_module": "@jupyter-widgets/base",
            "_model_module_version": "1.2.0",
            "_model_name": "LayoutModel",
            "_view_count": null,
            "_view_module": "@jupyter-widgets/base",
            "_view_module_version": "1.2.0",
            "_view_name": "LayoutView",
            "align_content": null,
            "align_items": null,
            "align_self": null,
            "border": null,
            "bottom": null,
            "display": null,
            "flex": null,
            "flex_flow": null,
            "grid_area": null,
            "grid_auto_columns": null,
            "grid_auto_flow": null,
            "grid_auto_rows": null,
            "grid_column": null,
            "grid_gap": null,
            "grid_row": null,
            "grid_template_areas": null,
            "grid_template_columns": null,
            "grid_template_rows": null,
            "height": null,
            "justify_content": null,
            "justify_items": null,
            "left": null,
            "margin": null,
            "max_height": null,
            "max_width": null,
            "min_height": null,
            "min_width": null,
            "object_fit": null,
            "object_position": null,
            "order": null,
            "overflow": null,
            "overflow_x": null,
            "overflow_y": null,
            "padding": null,
            "right": null,
            "top": null,
            "visibility": null,
            "width": null
          }
        },
        "dde45c0f85e447dba3a1a5b1b63bb893": {
          "model_module": "@jupyter-widgets/base",
          "model_name": "LayoutModel",
          "model_module_version": "1.2.0",
          "state": {
            "_model_module": "@jupyter-widgets/base",
            "_model_module_version": "1.2.0",
            "_model_name": "LayoutModel",
            "_view_count": null,
            "_view_module": "@jupyter-widgets/base",
            "_view_module_version": "1.2.0",
            "_view_name": "LayoutView",
            "align_content": null,
            "align_items": null,
            "align_self": null,
            "border": null,
            "bottom": null,
            "display": null,
            "flex": null,
            "flex_flow": null,
            "grid_area": null,
            "grid_auto_columns": null,
            "grid_auto_flow": null,
            "grid_auto_rows": null,
            "grid_column": null,
            "grid_gap": null,
            "grid_row": null,
            "grid_template_areas": null,
            "grid_template_columns": null,
            "grid_template_rows": null,
            "height": null,
            "justify_content": null,
            "justify_items": null,
            "left": null,
            "margin": null,
            "max_height": null,
            "max_width": null,
            "min_height": null,
            "min_width": null,
            "object_fit": null,
            "object_position": null,
            "order": null,
            "overflow": null,
            "overflow_x": null,
            "overflow_y": null,
            "padding": null,
            "right": null,
            "top": null,
            "visibility": null,
            "width": null
          }
        },
        "011fd6d7acb141598cbbd66bb376d54b": {
          "model_module": "@jupyter-widgets/controls",
          "model_name": "DescriptionStyleModel",
          "model_module_version": "1.5.0",
          "state": {
            "_model_module": "@jupyter-widgets/controls",
            "_model_module_version": "1.5.0",
            "_model_name": "DescriptionStyleModel",
            "_view_count": null,
            "_view_module": "@jupyter-widgets/base",
            "_view_module_version": "1.2.0",
            "_view_name": "StyleView",
            "description_width": ""
          }
        },
        "1b1334de6f15449bbada751cb6a54cc1": {
          "model_module": "@jupyter-widgets/base",
          "model_name": "LayoutModel",
          "model_module_version": "1.2.0",
          "state": {
            "_model_module": "@jupyter-widgets/base",
            "_model_module_version": "1.2.0",
            "_model_name": "LayoutModel",
            "_view_count": null,
            "_view_module": "@jupyter-widgets/base",
            "_view_module_version": "1.2.0",
            "_view_name": "LayoutView",
            "align_content": null,
            "align_items": null,
            "align_self": null,
            "border": null,
            "bottom": null,
            "display": null,
            "flex": null,
            "flex_flow": null,
            "grid_area": null,
            "grid_auto_columns": null,
            "grid_auto_flow": null,
            "grid_auto_rows": null,
            "grid_column": null,
            "grid_gap": null,
            "grid_row": null,
            "grid_template_areas": null,
            "grid_template_columns": null,
            "grid_template_rows": null,
            "height": null,
            "justify_content": null,
            "justify_items": null,
            "left": null,
            "margin": null,
            "max_height": null,
            "max_width": null,
            "min_height": null,
            "min_width": null,
            "object_fit": null,
            "object_position": null,
            "order": null,
            "overflow": null,
            "overflow_x": null,
            "overflow_y": null,
            "padding": null,
            "right": null,
            "top": null,
            "visibility": null,
            "width": null
          }
        },
        "6eacb9bb2330426caa013b5fc5bd1d9f": {
          "model_module": "@jupyter-widgets/controls",
          "model_name": "ProgressStyleModel",
          "model_module_version": "1.5.0",
          "state": {
            "_model_module": "@jupyter-widgets/controls",
            "_model_module_version": "1.5.0",
            "_model_name": "ProgressStyleModel",
            "_view_count": null,
            "_view_module": "@jupyter-widgets/base",
            "_view_module_version": "1.2.0",
            "_view_name": "StyleView",
            "bar_color": null,
            "description_width": ""
          }
        },
        "42a507f169654ee0916d11822135d560": {
          "model_module": "@jupyter-widgets/base",
          "model_name": "LayoutModel",
          "model_module_version": "1.2.0",
          "state": {
            "_model_module": "@jupyter-widgets/base",
            "_model_module_version": "1.2.0",
            "_model_name": "LayoutModel",
            "_view_count": null,
            "_view_module": "@jupyter-widgets/base",
            "_view_module_version": "1.2.0",
            "_view_name": "LayoutView",
            "align_content": null,
            "align_items": null,
            "align_self": null,
            "border": null,
            "bottom": null,
            "display": null,
            "flex": null,
            "flex_flow": null,
            "grid_area": null,
            "grid_auto_columns": null,
            "grid_auto_flow": null,
            "grid_auto_rows": null,
            "grid_column": null,
            "grid_gap": null,
            "grid_row": null,
            "grid_template_areas": null,
            "grid_template_columns": null,
            "grid_template_rows": null,
            "height": null,
            "justify_content": null,
            "justify_items": null,
            "left": null,
            "margin": null,
            "max_height": null,
            "max_width": null,
            "min_height": null,
            "min_width": null,
            "object_fit": null,
            "object_position": null,
            "order": null,
            "overflow": null,
            "overflow_x": null,
            "overflow_y": null,
            "padding": null,
            "right": null,
            "top": null,
            "visibility": null,
            "width": null
          }
        },
        "ded658f9cf9c4732ab45fef934bb8ba0": {
          "model_module": "@jupyter-widgets/controls",
          "model_name": "DescriptionStyleModel",
          "model_module_version": "1.5.0",
          "state": {
            "_model_module": "@jupyter-widgets/controls",
            "_model_module_version": "1.5.0",
            "_model_name": "DescriptionStyleModel",
            "_view_count": null,
            "_view_module": "@jupyter-widgets/base",
            "_view_module_version": "1.2.0",
            "_view_name": "StyleView",
            "description_width": ""
          }
        },
        "999a59d8d281448793c15ffeefcde5c0": {
          "model_module": "@jupyter-widgets/controls",
          "model_name": "HBoxModel",
          "model_module_version": "1.5.0",
          "state": {
            "_dom_classes": [],
            "_model_module": "@jupyter-widgets/controls",
            "_model_module_version": "1.5.0",
            "_model_name": "HBoxModel",
            "_view_count": null,
            "_view_module": "@jupyter-widgets/controls",
            "_view_module_version": "1.5.0",
            "_view_name": "HBoxView",
            "box_style": "",
            "children": [
              "IPY_MODEL_9fd47b2265d8461ea253ebe523f92ac2",
              "IPY_MODEL_af79b4b8dc0245d08e09c288bd2bfce7",
              "IPY_MODEL_f3fe9c5467e542d69961b1f81bbc5274"
            ],
            "layout": "IPY_MODEL_73d15c9cdabc48cea85415561b05a6af"
          }
        },
        "9fd47b2265d8461ea253ebe523f92ac2": {
          "model_module": "@jupyter-widgets/controls",
          "model_name": "HTMLModel",
          "model_module_version": "1.5.0",
          "state": {
            "_dom_classes": [],
            "_model_module": "@jupyter-widgets/controls",
            "_model_module_version": "1.5.0",
            "_model_name": "HTMLModel",
            "_view_count": null,
            "_view_module": "@jupyter-widgets/controls",
            "_view_module_version": "1.5.0",
            "_view_name": "HTMLView",
            "description": "",
            "description_tooltip": null,
            "layout": "IPY_MODEL_93964531094b480ca4809438db6cb78b",
            "placeholder": "​",
            "style": "IPY_MODEL_ae3f688719e44c76a91b1a7139975db0",
            "value": "tokenizer_config.json: 100%"
          }
        },
        "af79b4b8dc0245d08e09c288bd2bfce7": {
          "model_module": "@jupyter-widgets/controls",
          "model_name": "FloatProgressModel",
          "model_module_version": "1.5.0",
          "state": {
            "_dom_classes": [],
            "_model_module": "@jupyter-widgets/controls",
            "_model_module_version": "1.5.0",
            "_model_name": "FloatProgressModel",
            "_view_count": null,
            "_view_module": "@jupyter-widgets/controls",
            "_view_module_version": "1.5.0",
            "_view_name": "ProgressView",
            "bar_style": "success",
            "description": "",
            "description_tooltip": null,
            "layout": "IPY_MODEL_27c839ad4bc748bf8e2f93d14adae96f",
            "max": 282683,
            "min": 0,
            "orientation": "horizontal",
            "style": "IPY_MODEL_1e6c0cee09884de39c7650639ad3b521",
            "value": 282683
          }
        },
        "f3fe9c5467e542d69961b1f81bbc5274": {
          "model_module": "@jupyter-widgets/controls",
          "model_name": "HTMLModel",
          "model_module_version": "1.5.0",
          "state": {
            "_dom_classes": [],
            "_model_module": "@jupyter-widgets/controls",
            "_model_module_version": "1.5.0",
            "_model_name": "HTMLModel",
            "_view_count": null,
            "_view_module": "@jupyter-widgets/controls",
            "_view_module_version": "1.5.0",
            "_view_name": "HTMLView",
            "description": "",
            "description_tooltip": null,
            "layout": "IPY_MODEL_018e4acd3f9946aaa0357593b2d74df2",
            "placeholder": "​",
            "style": "IPY_MODEL_8ac2ab9f6222498f924b66250151d3ae",
            "value": " 283k/283k [00:00&lt;00:00, 16.8MB/s]"
          }
        },
        "73d15c9cdabc48cea85415561b05a6af": {
          "model_module": "@jupyter-widgets/base",
          "model_name": "LayoutModel",
          "model_module_version": "1.2.0",
          "state": {
            "_model_module": "@jupyter-widgets/base",
            "_model_module_version": "1.2.0",
            "_model_name": "LayoutModel",
            "_view_count": null,
            "_view_module": "@jupyter-widgets/base",
            "_view_module_version": "1.2.0",
            "_view_name": "LayoutView",
            "align_content": null,
            "align_items": null,
            "align_self": null,
            "border": null,
            "bottom": null,
            "display": null,
            "flex": null,
            "flex_flow": null,
            "grid_area": null,
            "grid_auto_columns": null,
            "grid_auto_flow": null,
            "grid_auto_rows": null,
            "grid_column": null,
            "grid_gap": null,
            "grid_row": null,
            "grid_template_areas": null,
            "grid_template_columns": null,
            "grid_template_rows": null,
            "height": null,
            "justify_content": null,
            "justify_items": null,
            "left": null,
            "margin": null,
            "max_height": null,
            "max_width": null,
            "min_height": null,
            "min_width": null,
            "object_fit": null,
            "object_position": null,
            "order": null,
            "overflow": null,
            "overflow_x": null,
            "overflow_y": null,
            "padding": null,
            "right": null,
            "top": null,
            "visibility": null,
            "width": null
          }
        },
        "93964531094b480ca4809438db6cb78b": {
          "model_module": "@jupyter-widgets/base",
          "model_name": "LayoutModel",
          "model_module_version": "1.2.0",
          "state": {
            "_model_module": "@jupyter-widgets/base",
            "_model_module_version": "1.2.0",
            "_model_name": "LayoutModel",
            "_view_count": null,
            "_view_module": "@jupyter-widgets/base",
            "_view_module_version": "1.2.0",
            "_view_name": "LayoutView",
            "align_content": null,
            "align_items": null,
            "align_self": null,
            "border": null,
            "bottom": null,
            "display": null,
            "flex": null,
            "flex_flow": null,
            "grid_area": null,
            "grid_auto_columns": null,
            "grid_auto_flow": null,
            "grid_auto_rows": null,
            "grid_column": null,
            "grid_gap": null,
            "grid_row": null,
            "grid_template_areas": null,
            "grid_template_columns": null,
            "grid_template_rows": null,
            "height": null,
            "justify_content": null,
            "justify_items": null,
            "left": null,
            "margin": null,
            "max_height": null,
            "max_width": null,
            "min_height": null,
            "min_width": null,
            "object_fit": null,
            "object_position": null,
            "order": null,
            "overflow": null,
            "overflow_x": null,
            "overflow_y": null,
            "padding": null,
            "right": null,
            "top": null,
            "visibility": null,
            "width": null
          }
        },
        "ae3f688719e44c76a91b1a7139975db0": {
          "model_module": "@jupyter-widgets/controls",
          "model_name": "DescriptionStyleModel",
          "model_module_version": "1.5.0",
          "state": {
            "_model_module": "@jupyter-widgets/controls",
            "_model_module_version": "1.5.0",
            "_model_name": "DescriptionStyleModel",
            "_view_count": null,
            "_view_module": "@jupyter-widgets/base",
            "_view_module_version": "1.2.0",
            "_view_name": "StyleView",
            "description_width": ""
          }
        },
        "27c839ad4bc748bf8e2f93d14adae96f": {
          "model_module": "@jupyter-widgets/base",
          "model_name": "LayoutModel",
          "model_module_version": "1.2.0",
          "state": {
            "_model_module": "@jupyter-widgets/base",
            "_model_module_version": "1.2.0",
            "_model_name": "LayoutModel",
            "_view_count": null,
            "_view_module": "@jupyter-widgets/base",
            "_view_module_version": "1.2.0",
            "_view_name": "LayoutView",
            "align_content": null,
            "align_items": null,
            "align_self": null,
            "border": null,
            "bottom": null,
            "display": null,
            "flex": null,
            "flex_flow": null,
            "grid_area": null,
            "grid_auto_columns": null,
            "grid_auto_flow": null,
            "grid_auto_rows": null,
            "grid_column": null,
            "grid_gap": null,
            "grid_row": null,
            "grid_template_areas": null,
            "grid_template_columns": null,
            "grid_template_rows": null,
            "height": null,
            "justify_content": null,
            "justify_items": null,
            "left": null,
            "margin": null,
            "max_height": null,
            "max_width": null,
            "min_height": null,
            "min_width": null,
            "object_fit": null,
            "object_position": null,
            "order": null,
            "overflow": null,
            "overflow_x": null,
            "overflow_y": null,
            "padding": null,
            "right": null,
            "top": null,
            "visibility": null,
            "width": null
          }
        },
        "1e6c0cee09884de39c7650639ad3b521": {
          "model_module": "@jupyter-widgets/controls",
          "model_name": "ProgressStyleModel",
          "model_module_version": "1.5.0",
          "state": {
            "_model_module": "@jupyter-widgets/controls",
            "_model_module_version": "1.5.0",
            "_model_name": "ProgressStyleModel",
            "_view_count": null,
            "_view_module": "@jupyter-widgets/base",
            "_view_module_version": "1.2.0",
            "_view_name": "StyleView",
            "bar_color": null,
            "description_width": ""
          }
        },
        "018e4acd3f9946aaa0357593b2d74df2": {
          "model_module": "@jupyter-widgets/base",
          "model_name": "LayoutModel",
          "model_module_version": "1.2.0",
          "state": {
            "_model_module": "@jupyter-widgets/base",
            "_model_module_version": "1.2.0",
            "_model_name": "LayoutModel",
            "_view_count": null,
            "_view_module": "@jupyter-widgets/base",
            "_view_module_version": "1.2.0",
            "_view_name": "LayoutView",
            "align_content": null,
            "align_items": null,
            "align_self": null,
            "border": null,
            "bottom": null,
            "display": null,
            "flex": null,
            "flex_flow": null,
            "grid_area": null,
            "grid_auto_columns": null,
            "grid_auto_flow": null,
            "grid_auto_rows": null,
            "grid_column": null,
            "grid_gap": null,
            "grid_row": null,
            "grid_template_areas": null,
            "grid_template_columns": null,
            "grid_template_rows": null,
            "height": null,
            "justify_content": null,
            "justify_items": null,
            "left": null,
            "margin": null,
            "max_height": null,
            "max_width": null,
            "min_height": null,
            "min_width": null,
            "object_fit": null,
            "object_position": null,
            "order": null,
            "overflow": null,
            "overflow_x": null,
            "overflow_y": null,
            "padding": null,
            "right": null,
            "top": null,
            "visibility": null,
            "width": null
          }
        },
        "8ac2ab9f6222498f924b66250151d3ae": {
          "model_module": "@jupyter-widgets/controls",
          "model_name": "DescriptionStyleModel",
          "model_module_version": "1.5.0",
          "state": {
            "_model_module": "@jupyter-widgets/controls",
            "_model_module_version": "1.5.0",
            "_model_name": "DescriptionStyleModel",
            "_view_count": null,
            "_view_module": "@jupyter-widgets/base",
            "_view_module_version": "1.2.0",
            "_view_name": "StyleView",
            "description_width": ""
          }
        },
        "7022ad753d814ebc8a9dafe23f06a5cf": {
          "model_module": "@jupyter-widgets/controls",
          "model_name": "HBoxModel",
          "model_module_version": "1.5.0",
          "state": {
            "_dom_classes": [],
            "_model_module": "@jupyter-widgets/controls",
            "_model_module_version": "1.5.0",
            "_model_name": "HBoxModel",
            "_view_count": null,
            "_view_module": "@jupyter-widgets/controls",
            "_view_module_version": "1.5.0",
            "_view_name": "HBoxView",
            "box_style": "",
            "children": [
              "IPY_MODEL_a3c69d02925e4ccf89d85b08b0f38535",
              "IPY_MODEL_246220ad89f846388d0f1b75e2165921",
              "IPY_MODEL_da8f6be9c258414b93a5fb9f0865c8d4"
            ],
            "layout": "IPY_MODEL_52bec75e73904c5e9ec591a890c73faf"
          }
        },
        "a3c69d02925e4ccf89d85b08b0f38535": {
          "model_module": "@jupyter-widgets/controls",
          "model_name": "HTMLModel",
          "model_module_version": "1.5.0",
          "state": {
            "_dom_classes": [],
            "_model_module": "@jupyter-widgets/controls",
            "_model_module_version": "1.5.0",
            "_model_name": "HTMLModel",
            "_view_count": null,
            "_view_module": "@jupyter-widgets/controls",
            "_view_module_version": "1.5.0",
            "_view_name": "HTMLView",
            "description": "",
            "description_tooltip": null,
            "layout": "IPY_MODEL_95eecb516dbd464cbb57098e932c594c",
            "placeholder": "​",
            "style": "IPY_MODEL_ba3dbb9c2f2041939702d4688d859f26",
            "value": "vocab.json: 100%"
          }
        },
        "246220ad89f846388d0f1b75e2165921": {
          "model_module": "@jupyter-widgets/controls",
          "model_name": "FloatProgressModel",
          "model_module_version": "1.5.0",
          "state": {
            "_dom_classes": [],
            "_model_module": "@jupyter-widgets/controls",
            "_model_module_version": "1.5.0",
            "_model_name": "FloatProgressModel",
            "_view_count": null,
            "_view_module": "@jupyter-widgets/controls",
            "_view_module_version": "1.5.0",
            "_view_name": "ProgressView",
            "bar_style": "success",
            "description": "",
            "description_tooltip": null,
            "layout": "IPY_MODEL_83b3c56c0a8942d08d23248bc501cca8",
            "max": 835550,
            "min": 0,
            "orientation": "horizontal",
            "style": "IPY_MODEL_e993a940147f407dbf5e80b075debe37",
            "value": 835550
          }
        },
        "da8f6be9c258414b93a5fb9f0865c8d4": {
          "model_module": "@jupyter-widgets/controls",
          "model_name": "HTMLModel",
          "model_module_version": "1.5.0",
          "state": {
            "_dom_classes": [],
            "_model_module": "@jupyter-widgets/controls",
            "_model_module_version": "1.5.0",
            "_model_name": "HTMLModel",
            "_view_count": null,
            "_view_module": "@jupyter-widgets/controls",
            "_view_module_version": "1.5.0",
            "_view_name": "HTMLView",
            "description": "",
            "description_tooltip": null,
            "layout": "IPY_MODEL_7716782fff10407f8e3f77a31872075a",
            "placeholder": "​",
            "style": "IPY_MODEL_89fb18d125f04ea8ac1e5224cfa9ecc5",
            "value": " 836k/836k [00:00&lt;00:00, 969kB/s]"
          }
        },
        "52bec75e73904c5e9ec591a890c73faf": {
          "model_module": "@jupyter-widgets/base",
          "model_name": "LayoutModel",
          "model_module_version": "1.2.0",
          "state": {
            "_model_module": "@jupyter-widgets/base",
            "_model_module_version": "1.2.0",
            "_model_name": "LayoutModel",
            "_view_count": null,
            "_view_module": "@jupyter-widgets/base",
            "_view_module_version": "1.2.0",
            "_view_name": "LayoutView",
            "align_content": null,
            "align_items": null,
            "align_self": null,
            "border": null,
            "bottom": null,
            "display": null,
            "flex": null,
            "flex_flow": null,
            "grid_area": null,
            "grid_auto_columns": null,
            "grid_auto_flow": null,
            "grid_auto_rows": null,
            "grid_column": null,
            "grid_gap": null,
            "grid_row": null,
            "grid_template_areas": null,
            "grid_template_columns": null,
            "grid_template_rows": null,
            "height": null,
            "justify_content": null,
            "justify_items": null,
            "left": null,
            "margin": null,
            "max_height": null,
            "max_width": null,
            "min_height": null,
            "min_width": null,
            "object_fit": null,
            "object_position": null,
            "order": null,
            "overflow": null,
            "overflow_x": null,
            "overflow_y": null,
            "padding": null,
            "right": null,
            "top": null,
            "visibility": null,
            "width": null
          }
        },
        "95eecb516dbd464cbb57098e932c594c": {
          "model_module": "@jupyter-widgets/base",
          "model_name": "LayoutModel",
          "model_module_version": "1.2.0",
          "state": {
            "_model_module": "@jupyter-widgets/base",
            "_model_module_version": "1.2.0",
            "_model_name": "LayoutModel",
            "_view_count": null,
            "_view_module": "@jupyter-widgets/base",
            "_view_module_version": "1.2.0",
            "_view_name": "LayoutView",
            "align_content": null,
            "align_items": null,
            "align_self": null,
            "border": null,
            "bottom": null,
            "display": null,
            "flex": null,
            "flex_flow": null,
            "grid_area": null,
            "grid_auto_columns": null,
            "grid_auto_flow": null,
            "grid_auto_rows": null,
            "grid_column": null,
            "grid_gap": null,
            "grid_row": null,
            "grid_template_areas": null,
            "grid_template_columns": null,
            "grid_template_rows": null,
            "height": null,
            "justify_content": null,
            "justify_items": null,
            "left": null,
            "margin": null,
            "max_height": null,
            "max_width": null,
            "min_height": null,
            "min_width": null,
            "object_fit": null,
            "object_position": null,
            "order": null,
            "overflow": null,
            "overflow_x": null,
            "overflow_y": null,
            "padding": null,
            "right": null,
            "top": null,
            "visibility": null,
            "width": null
          }
        },
        "ba3dbb9c2f2041939702d4688d859f26": {
          "model_module": "@jupyter-widgets/controls",
          "model_name": "DescriptionStyleModel",
          "model_module_version": "1.5.0",
          "state": {
            "_model_module": "@jupyter-widgets/controls",
            "_model_module_version": "1.5.0",
            "_model_name": "DescriptionStyleModel",
            "_view_count": null,
            "_view_module": "@jupyter-widgets/base",
            "_view_module_version": "1.2.0",
            "_view_name": "StyleView",
            "description_width": ""
          }
        },
        "83b3c56c0a8942d08d23248bc501cca8": {
          "model_module": "@jupyter-widgets/base",
          "model_name": "LayoutModel",
          "model_module_version": "1.2.0",
          "state": {
            "_model_module": "@jupyter-widgets/base",
            "_model_module_version": "1.2.0",
            "_model_name": "LayoutModel",
            "_view_count": null,
            "_view_module": "@jupyter-widgets/base",
            "_view_module_version": "1.2.0",
            "_view_name": "LayoutView",
            "align_content": null,
            "align_items": null,
            "align_self": null,
            "border": null,
            "bottom": null,
            "display": null,
            "flex": null,
            "flex_flow": null,
            "grid_area": null,
            "grid_auto_columns": null,
            "grid_auto_flow": null,
            "grid_auto_rows": null,
            "grid_column": null,
            "grid_gap": null,
            "grid_row": null,
            "grid_template_areas": null,
            "grid_template_columns": null,
            "grid_template_rows": null,
            "height": null,
            "justify_content": null,
            "justify_items": null,
            "left": null,
            "margin": null,
            "max_height": null,
            "max_width": null,
            "min_height": null,
            "min_width": null,
            "object_fit": null,
            "object_position": null,
            "order": null,
            "overflow": null,
            "overflow_x": null,
            "overflow_y": null,
            "padding": null,
            "right": null,
            "top": null,
            "visibility": null,
            "width": null
          }
        },
        "e993a940147f407dbf5e80b075debe37": {
          "model_module": "@jupyter-widgets/controls",
          "model_name": "ProgressStyleModel",
          "model_module_version": "1.5.0",
          "state": {
            "_model_module": "@jupyter-widgets/controls",
            "_model_module_version": "1.5.0",
            "_model_name": "ProgressStyleModel",
            "_view_count": null,
            "_view_module": "@jupyter-widgets/base",
            "_view_module_version": "1.2.0",
            "_view_name": "StyleView",
            "bar_color": null,
            "description_width": ""
          }
        },
        "7716782fff10407f8e3f77a31872075a": {
          "model_module": "@jupyter-widgets/base",
          "model_name": "LayoutModel",
          "model_module_version": "1.2.0",
          "state": {
            "_model_module": "@jupyter-widgets/base",
            "_model_module_version": "1.2.0",
            "_model_name": "LayoutModel",
            "_view_count": null,
            "_view_module": "@jupyter-widgets/base",
            "_view_module_version": "1.2.0",
            "_view_name": "LayoutView",
            "align_content": null,
            "align_items": null,
            "align_self": null,
            "border": null,
            "bottom": null,
            "display": null,
            "flex": null,
            "flex_flow": null,
            "grid_area": null,
            "grid_auto_columns": null,
            "grid_auto_flow": null,
            "grid_auto_rows": null,
            "grid_column": null,
            "grid_gap": null,
            "grid_row": null,
            "grid_template_areas": null,
            "grid_template_columns": null,
            "grid_template_rows": null,
            "height": null,
            "justify_content": null,
            "justify_items": null,
            "left": null,
            "margin": null,
            "max_height": null,
            "max_width": null,
            "min_height": null,
            "min_width": null,
            "object_fit": null,
            "object_position": null,
            "order": null,
            "overflow": null,
            "overflow_x": null,
            "overflow_y": null,
            "padding": null,
            "right": null,
            "top": null,
            "visibility": null,
            "width": null
          }
        },
        "89fb18d125f04ea8ac1e5224cfa9ecc5": {
          "model_module": "@jupyter-widgets/controls",
          "model_name": "DescriptionStyleModel",
          "model_module_version": "1.5.0",
          "state": {
            "_model_module": "@jupyter-widgets/controls",
            "_model_module_version": "1.5.0",
            "_model_name": "DescriptionStyleModel",
            "_view_count": null,
            "_view_module": "@jupyter-widgets/base",
            "_view_module_version": "1.2.0",
            "_view_name": "StyleView",
            "description_width": ""
          }
        },
        "b15039993ed2494f8c45e39aac768a1a": {
          "model_module": "@jupyter-widgets/controls",
          "model_name": "HBoxModel",
          "model_module_version": "1.5.0",
          "state": {
            "_dom_classes": [],
            "_model_module": "@jupyter-widgets/controls",
            "_model_module_version": "1.5.0",
            "_model_name": "HBoxModel",
            "_view_count": null,
            "_view_module": "@jupyter-widgets/controls",
            "_view_module_version": "1.5.0",
            "_view_name": "HBoxView",
            "box_style": "",
            "children": [
              "IPY_MODEL_a3ffcec237f148c8925126fdcb756d7e",
              "IPY_MODEL_ab4966006f5149d5b9c1788ac632dee0",
              "IPY_MODEL_dc220dc7d45841058b8edd4aabad86b9"
            ],
            "layout": "IPY_MODEL_d9eeed1e7356486bbd826e9f06463c17"
          }
        },
        "a3ffcec237f148c8925126fdcb756d7e": {
          "model_module": "@jupyter-widgets/controls",
          "model_name": "HTMLModel",
          "model_module_version": "1.5.0",
          "state": {
            "_dom_classes": [],
            "_model_module": "@jupyter-widgets/controls",
            "_model_module_version": "1.5.0",
            "_model_name": "HTMLModel",
            "_view_count": null,
            "_view_module": "@jupyter-widgets/controls",
            "_view_module_version": "1.5.0",
            "_view_name": "HTMLView",
            "description": "",
            "description_tooltip": null,
            "layout": "IPY_MODEL_7a78beb9d46449698765ea28102b0b3c",
            "placeholder": "​",
            "style": "IPY_MODEL_bfc20972ba884e16abefea2c983fe396",
            "value": "tokenizer.json: 100%"
          }
        },
        "ab4966006f5149d5b9c1788ac632dee0": {
          "model_module": "@jupyter-widgets/controls",
          "model_name": "FloatProgressModel",
          "model_module_version": "1.5.0",
          "state": {
            "_dom_classes": [],
            "_model_module": "@jupyter-widgets/controls",
            "_model_module_version": "1.5.0",
            "_model_name": "FloatProgressModel",
            "_view_count": null,
            "_view_module": "@jupyter-widgets/controls",
            "_view_module_version": "1.5.0",
            "_view_name": "ProgressView",
            "bar_style": "success",
            "description": "",
            "description_tooltip": null,
            "layout": "IPY_MODEL_89edef19647d45ff90a1de6148459d8f",
            "max": 2480466,
            "min": 0,
            "orientation": "horizontal",
            "style": "IPY_MODEL_a0379e4665ab439a86de0c0797b3ff3e",
            "value": 2480466
          }
        },
        "dc220dc7d45841058b8edd4aabad86b9": {
          "model_module": "@jupyter-widgets/controls",
          "model_name": "HTMLModel",
          "model_module_version": "1.5.0",
          "state": {
            "_dom_classes": [],
            "_model_module": "@jupyter-widgets/controls",
            "_model_module_version": "1.5.0",
            "_model_name": "HTMLModel",
            "_view_count": null,
            "_view_module": "@jupyter-widgets/controls",
            "_view_module_version": "1.5.0",
            "_view_name": "HTMLView",
            "description": "",
            "description_tooltip": null,
            "layout": "IPY_MODEL_2bc5b23a10af4ee1b14b250b4c8b2f74",
            "placeholder": "​",
            "style": "IPY_MODEL_02565c09c5804c3aad00fe8f6c675f11",
            "value": " 2.48M/2.48M [00:00&lt;00:00, 3.80MB/s]"
          }
        },
        "d9eeed1e7356486bbd826e9f06463c17": {
          "model_module": "@jupyter-widgets/base",
          "model_name": "LayoutModel",
          "model_module_version": "1.2.0",
          "state": {
            "_model_module": "@jupyter-widgets/base",
            "_model_module_version": "1.2.0",
            "_model_name": "LayoutModel",
            "_view_count": null,
            "_view_module": "@jupyter-widgets/base",
            "_view_module_version": "1.2.0",
            "_view_name": "LayoutView",
            "align_content": null,
            "align_items": null,
            "align_self": null,
            "border": null,
            "bottom": null,
            "display": null,
            "flex": null,
            "flex_flow": null,
            "grid_area": null,
            "grid_auto_columns": null,
            "grid_auto_flow": null,
            "grid_auto_rows": null,
            "grid_column": null,
            "grid_gap": null,
            "grid_row": null,
            "grid_template_areas": null,
            "grid_template_columns": null,
            "grid_template_rows": null,
            "height": null,
            "justify_content": null,
            "justify_items": null,
            "left": null,
            "margin": null,
            "max_height": null,
            "max_width": null,
            "min_height": null,
            "min_width": null,
            "object_fit": null,
            "object_position": null,
            "order": null,
            "overflow": null,
            "overflow_x": null,
            "overflow_y": null,
            "padding": null,
            "right": null,
            "top": null,
            "visibility": null,
            "width": null
          }
        },
        "7a78beb9d46449698765ea28102b0b3c": {
          "model_module": "@jupyter-widgets/base",
          "model_name": "LayoutModel",
          "model_module_version": "1.2.0",
          "state": {
            "_model_module": "@jupyter-widgets/base",
            "_model_module_version": "1.2.0",
            "_model_name": "LayoutModel",
            "_view_count": null,
            "_view_module": "@jupyter-widgets/base",
            "_view_module_version": "1.2.0",
            "_view_name": "LayoutView",
            "align_content": null,
            "align_items": null,
            "align_self": null,
            "border": null,
            "bottom": null,
            "display": null,
            "flex": null,
            "flex_flow": null,
            "grid_area": null,
            "grid_auto_columns": null,
            "grid_auto_flow": null,
            "grid_auto_rows": null,
            "grid_column": null,
            "grid_gap": null,
            "grid_row": null,
            "grid_template_areas": null,
            "grid_template_columns": null,
            "grid_template_rows": null,
            "height": null,
            "justify_content": null,
            "justify_items": null,
            "left": null,
            "margin": null,
            "max_height": null,
            "max_width": null,
            "min_height": null,
            "min_width": null,
            "object_fit": null,
            "object_position": null,
            "order": null,
            "overflow": null,
            "overflow_x": null,
            "overflow_y": null,
            "padding": null,
            "right": null,
            "top": null,
            "visibility": null,
            "width": null
          }
        },
        "bfc20972ba884e16abefea2c983fe396": {
          "model_module": "@jupyter-widgets/controls",
          "model_name": "DescriptionStyleModel",
          "model_module_version": "1.5.0",
          "state": {
            "_model_module": "@jupyter-widgets/controls",
            "_model_module_version": "1.5.0",
            "_model_name": "DescriptionStyleModel",
            "_view_count": null,
            "_view_module": "@jupyter-widgets/base",
            "_view_module_version": "1.2.0",
            "_view_name": "StyleView",
            "description_width": ""
          }
        },
        "89edef19647d45ff90a1de6148459d8f": {
          "model_module": "@jupyter-widgets/base",
          "model_name": "LayoutModel",
          "model_module_version": "1.2.0",
          "state": {
            "_model_module": "@jupyter-widgets/base",
            "_model_module_version": "1.2.0",
            "_model_name": "LayoutModel",
            "_view_count": null,
            "_view_module": "@jupyter-widgets/base",
            "_view_module_version": "1.2.0",
            "_view_name": "LayoutView",
            "align_content": null,
            "align_items": null,
            "align_self": null,
            "border": null,
            "bottom": null,
            "display": null,
            "flex": null,
            "flex_flow": null,
            "grid_area": null,
            "grid_auto_columns": null,
            "grid_auto_flow": null,
            "grid_auto_rows": null,
            "grid_column": null,
            "grid_gap": null,
            "grid_row": null,
            "grid_template_areas": null,
            "grid_template_columns": null,
            "grid_template_rows": null,
            "height": null,
            "justify_content": null,
            "justify_items": null,
            "left": null,
            "margin": null,
            "max_height": null,
            "max_width": null,
            "min_height": null,
            "min_width": null,
            "object_fit": null,
            "object_position": null,
            "order": null,
            "overflow": null,
            "overflow_x": null,
            "overflow_y": null,
            "padding": null,
            "right": null,
            "top": null,
            "visibility": null,
            "width": null
          }
        },
        "a0379e4665ab439a86de0c0797b3ff3e": {
          "model_module": "@jupyter-widgets/controls",
          "model_name": "ProgressStyleModel",
          "model_module_version": "1.5.0",
          "state": {
            "_model_module": "@jupyter-widgets/controls",
            "_model_module_version": "1.5.0",
            "_model_name": "ProgressStyleModel",
            "_view_count": null,
            "_view_module": "@jupyter-widgets/base",
            "_view_module_version": "1.2.0",
            "_view_name": "StyleView",
            "bar_color": null,
            "description_width": ""
          }
        },
        "2bc5b23a10af4ee1b14b250b4c8b2f74": {
          "model_module": "@jupyter-widgets/base",
          "model_name": "LayoutModel",
          "model_module_version": "1.2.0",
          "state": {
            "_model_module": "@jupyter-widgets/base",
            "_model_module_version": "1.2.0",
            "_model_name": "LayoutModel",
            "_view_count": null,
            "_view_module": "@jupyter-widgets/base",
            "_view_module_version": "1.2.0",
            "_view_name": "LayoutView",
            "align_content": null,
            "align_items": null,
            "align_self": null,
            "border": null,
            "bottom": null,
            "display": null,
            "flex": null,
            "flex_flow": null,
            "grid_area": null,
            "grid_auto_columns": null,
            "grid_auto_flow": null,
            "grid_auto_rows": null,
            "grid_column": null,
            "grid_gap": null,
            "grid_row": null,
            "grid_template_areas": null,
            "grid_template_columns": null,
            "grid_template_rows": null,
            "height": null,
            "justify_content": null,
            "justify_items": null,
            "left": null,
            "margin": null,
            "max_height": null,
            "max_width": null,
            "min_height": null,
            "min_width": null,
            "object_fit": null,
            "object_position": null,
            "order": null,
            "overflow": null,
            "overflow_x": null,
            "overflow_y": null,
            "padding": null,
            "right": null,
            "top": null,
            "visibility": null,
            "width": null
          }
        },
        "02565c09c5804c3aad00fe8f6c675f11": {
          "model_module": "@jupyter-widgets/controls",
          "model_name": "DescriptionStyleModel",
          "model_module_version": "1.5.0",
          "state": {
            "_model_module": "@jupyter-widgets/controls",
            "_model_module_version": "1.5.0",
            "_model_name": "DescriptionStyleModel",
            "_view_count": null,
            "_view_module": "@jupyter-widgets/base",
            "_view_module_version": "1.2.0",
            "_view_name": "StyleView",
            "description_width": ""
          }
        },
        "b2c27181c0fb4dbfa39b1647af458c39": {
          "model_module": "@jupyter-widgets/controls",
          "model_name": "HBoxModel",
          "model_module_version": "1.5.0",
          "state": {
            "_dom_classes": [],
            "_model_module": "@jupyter-widgets/controls",
            "_model_module_version": "1.5.0",
            "_model_name": "HBoxModel",
            "_view_count": null,
            "_view_module": "@jupyter-widgets/controls",
            "_view_module_version": "1.5.0",
            "_view_name": "HBoxView",
            "box_style": "",
            "children": [
              "IPY_MODEL_3cfea349fc24410d8dab873ccc83fbc5",
              "IPY_MODEL_5567e51368c94f1baccefe05ed06ca67",
              "IPY_MODEL_bbf5ead62ed24f5bb633c051da47b52e"
            ],
            "layout": "IPY_MODEL_b74219fe910e4d78a00f04754a62be5d"
          }
        },
        "3cfea349fc24410d8dab873ccc83fbc5": {
          "model_module": "@jupyter-widgets/controls",
          "model_name": "HTMLModel",
          "model_module_version": "1.5.0",
          "state": {
            "_dom_classes": [],
            "_model_module": "@jupyter-widgets/controls",
            "_model_module_version": "1.5.0",
            "_model_name": "HTMLModel",
            "_view_count": null,
            "_view_module": "@jupyter-widgets/controls",
            "_view_module_version": "1.5.0",
            "_view_name": "HTMLView",
            "description": "",
            "description_tooltip": null,
            "layout": "IPY_MODEL_4a7e2e394c94497dbf6b9ad938d34409",
            "placeholder": "​",
            "style": "IPY_MODEL_c39e70b720d443f9b3c6499f8b265dcd",
            "value": "merges.txt: 100%"
          }
        },
        "5567e51368c94f1baccefe05ed06ca67": {
          "model_module": "@jupyter-widgets/controls",
          "model_name": "FloatProgressModel",
          "model_module_version": "1.5.0",
          "state": {
            "_dom_classes": [],
            "_model_module": "@jupyter-widgets/controls",
            "_model_module_version": "1.5.0",
            "_model_name": "FloatProgressModel",
            "_view_count": null,
            "_view_module": "@jupyter-widgets/controls",
            "_view_module_version": "1.5.0",
            "_view_name": "ProgressView",
            "bar_style": "success",
            "description": "",
            "description_tooltip": null,
            "layout": "IPY_MODEL_8bc6217a14c1437399925e2b1c0f02c2",
            "max": 493869,
            "min": 0,
            "orientation": "horizontal",
            "style": "IPY_MODEL_5919aa00b4a546ae90f8387edeaac19a",
            "value": 493869
          }
        },
        "bbf5ead62ed24f5bb633c051da47b52e": {
          "model_module": "@jupyter-widgets/controls",
          "model_name": "HTMLModel",
          "model_module_version": "1.5.0",
          "state": {
            "_dom_classes": [],
            "_model_module": "@jupyter-widgets/controls",
            "_model_module_version": "1.5.0",
            "_model_name": "HTMLModel",
            "_view_count": null,
            "_view_module": "@jupyter-widgets/controls",
            "_view_module_version": "1.5.0",
            "_view_name": "HTMLView",
            "description": "",
            "description_tooltip": null,
            "layout": "IPY_MODEL_e4c153514c21452092cdf539aa7fffe4",
            "placeholder": "​",
            "style": "IPY_MODEL_adb1538627b04a72a469455548ac44e0",
            "value": " 494k/494k [00:00&lt;00:00, 2.30MB/s]"
          }
        },
        "b74219fe910e4d78a00f04754a62be5d": {
          "model_module": "@jupyter-widgets/base",
          "model_name": "LayoutModel",
          "model_module_version": "1.2.0",
          "state": {
            "_model_module": "@jupyter-widgets/base",
            "_model_module_version": "1.2.0",
            "_model_name": "LayoutModel",
            "_view_count": null,
            "_view_module": "@jupyter-widgets/base",
            "_view_module_version": "1.2.0",
            "_view_name": "LayoutView",
            "align_content": null,
            "align_items": null,
            "align_self": null,
            "border": null,
            "bottom": null,
            "display": null,
            "flex": null,
            "flex_flow": null,
            "grid_area": null,
            "grid_auto_columns": null,
            "grid_auto_flow": null,
            "grid_auto_rows": null,
            "grid_column": null,
            "grid_gap": null,
            "grid_row": null,
            "grid_template_areas": null,
            "grid_template_columns": null,
            "grid_template_rows": null,
            "height": null,
            "justify_content": null,
            "justify_items": null,
            "left": null,
            "margin": null,
            "max_height": null,
            "max_width": null,
            "min_height": null,
            "min_width": null,
            "object_fit": null,
            "object_position": null,
            "order": null,
            "overflow": null,
            "overflow_x": null,
            "overflow_y": null,
            "padding": null,
            "right": null,
            "top": null,
            "visibility": null,
            "width": null
          }
        },
        "4a7e2e394c94497dbf6b9ad938d34409": {
          "model_module": "@jupyter-widgets/base",
          "model_name": "LayoutModel",
          "model_module_version": "1.2.0",
          "state": {
            "_model_module": "@jupyter-widgets/base",
            "_model_module_version": "1.2.0",
            "_model_name": "LayoutModel",
            "_view_count": null,
            "_view_module": "@jupyter-widgets/base",
            "_view_module_version": "1.2.0",
            "_view_name": "LayoutView",
            "align_content": null,
            "align_items": null,
            "align_self": null,
            "border": null,
            "bottom": null,
            "display": null,
            "flex": null,
            "flex_flow": null,
            "grid_area": null,
            "grid_auto_columns": null,
            "grid_auto_flow": null,
            "grid_auto_rows": null,
            "grid_column": null,
            "grid_gap": null,
            "grid_row": null,
            "grid_template_areas": null,
            "grid_template_columns": null,
            "grid_template_rows": null,
            "height": null,
            "justify_content": null,
            "justify_items": null,
            "left": null,
            "margin": null,
            "max_height": null,
            "max_width": null,
            "min_height": null,
            "min_width": null,
            "object_fit": null,
            "object_position": null,
            "order": null,
            "overflow": null,
            "overflow_x": null,
            "overflow_y": null,
            "padding": null,
            "right": null,
            "top": null,
            "visibility": null,
            "width": null
          }
        },
        "c39e70b720d443f9b3c6499f8b265dcd": {
          "model_module": "@jupyter-widgets/controls",
          "model_name": "DescriptionStyleModel",
          "model_module_version": "1.5.0",
          "state": {
            "_model_module": "@jupyter-widgets/controls",
            "_model_module_version": "1.5.0",
            "_model_name": "DescriptionStyleModel",
            "_view_count": null,
            "_view_module": "@jupyter-widgets/base",
            "_view_module_version": "1.2.0",
            "_view_name": "StyleView",
            "description_width": ""
          }
        },
        "8bc6217a14c1437399925e2b1c0f02c2": {
          "model_module": "@jupyter-widgets/base",
          "model_name": "LayoutModel",
          "model_module_version": "1.2.0",
          "state": {
            "_model_module": "@jupyter-widgets/base",
            "_model_module_version": "1.2.0",
            "_model_name": "LayoutModel",
            "_view_count": null,
            "_view_module": "@jupyter-widgets/base",
            "_view_module_version": "1.2.0",
            "_view_name": "LayoutView",
            "align_content": null,
            "align_items": null,
            "align_self": null,
            "border": null,
            "bottom": null,
            "display": null,
            "flex": null,
            "flex_flow": null,
            "grid_area": null,
            "grid_auto_columns": null,
            "grid_auto_flow": null,
            "grid_auto_rows": null,
            "grid_column": null,
            "grid_gap": null,
            "grid_row": null,
            "grid_template_areas": null,
            "grid_template_columns": null,
            "grid_template_rows": null,
            "height": null,
            "justify_content": null,
            "justify_items": null,
            "left": null,
            "margin": null,
            "max_height": null,
            "max_width": null,
            "min_height": null,
            "min_width": null,
            "object_fit": null,
            "object_position": null,
            "order": null,
            "overflow": null,
            "overflow_x": null,
            "overflow_y": null,
            "padding": null,
            "right": null,
            "top": null,
            "visibility": null,
            "width": null
          }
        },
        "5919aa00b4a546ae90f8387edeaac19a": {
          "model_module": "@jupyter-widgets/controls",
          "model_name": "ProgressStyleModel",
          "model_module_version": "1.5.0",
          "state": {
            "_model_module": "@jupyter-widgets/controls",
            "_model_module_version": "1.5.0",
            "_model_name": "ProgressStyleModel",
            "_view_count": null,
            "_view_module": "@jupyter-widgets/base",
            "_view_module_version": "1.2.0",
            "_view_name": "StyleView",
            "bar_color": null,
            "description_width": ""
          }
        },
        "e4c153514c21452092cdf539aa7fffe4": {
          "model_module": "@jupyter-widgets/base",
          "model_name": "LayoutModel",
          "model_module_version": "1.2.0",
          "state": {
            "_model_module": "@jupyter-widgets/base",
            "_model_module_version": "1.2.0",
            "_model_name": "LayoutModel",
            "_view_count": null,
            "_view_module": "@jupyter-widgets/base",
            "_view_module_version": "1.2.0",
            "_view_name": "LayoutView",
            "align_content": null,
            "align_items": null,
            "align_self": null,
            "border": null,
            "bottom": null,
            "display": null,
            "flex": null,
            "flex_flow": null,
            "grid_area": null,
            "grid_auto_columns": null,
            "grid_auto_flow": null,
            "grid_auto_rows": null,
            "grid_column": null,
            "grid_gap": null,
            "grid_row": null,
            "grid_template_areas": null,
            "grid_template_columns": null,
            "grid_template_rows": null,
            "height": null,
            "justify_content": null,
            "justify_items": null,
            "left": null,
            "margin": null,
            "max_height": null,
            "max_width": null,
            "min_height": null,
            "min_width": null,
            "object_fit": null,
            "object_position": null,
            "order": null,
            "overflow": null,
            "overflow_x": null,
            "overflow_y": null,
            "padding": null,
            "right": null,
            "top": null,
            "visibility": null,
            "width": null
          }
        },
        "adb1538627b04a72a469455548ac44e0": {
          "model_module": "@jupyter-widgets/controls",
          "model_name": "DescriptionStyleModel",
          "model_module_version": "1.5.0",
          "state": {
            "_model_module": "@jupyter-widgets/controls",
            "_model_module_version": "1.5.0",
            "_model_name": "DescriptionStyleModel",
            "_view_count": null,
            "_view_module": "@jupyter-widgets/base",
            "_view_module_version": "1.2.0",
            "_view_name": "StyleView",
            "description_width": ""
          }
        },
        "29ecb99d4f24400f92e8e01af3c9a4f9": {
          "model_module": "@jupyter-widgets/controls",
          "model_name": "HBoxModel",
          "model_module_version": "1.5.0",
          "state": {
            "_dom_classes": [],
            "_model_module": "@jupyter-widgets/controls",
            "_model_module_version": "1.5.0",
            "_model_name": "HBoxModel",
            "_view_count": null,
            "_view_module": "@jupyter-widgets/controls",
            "_view_module_version": "1.5.0",
            "_view_name": "HBoxView",
            "box_style": "",
            "children": [
              "IPY_MODEL_67abc82026244ed88a0c6562ec186223",
              "IPY_MODEL_b3b0500528d64b26ae7b3ea284097d8f",
              "IPY_MODEL_80c1b0f5587844ee8976088ed2067735"
            ],
            "layout": "IPY_MODEL_cd2d144a265b4d2fa95b42d800f81382"
          }
        },
        "67abc82026244ed88a0c6562ec186223": {
          "model_module": "@jupyter-widgets/controls",
          "model_name": "HTMLModel",
          "model_module_version": "1.5.0",
          "state": {
            "_dom_classes": [],
            "_model_module": "@jupyter-widgets/controls",
            "_model_module_version": "1.5.0",
            "_model_name": "HTMLModel",
            "_view_count": null,
            "_view_module": "@jupyter-widgets/controls",
            "_view_module_version": "1.5.0",
            "_view_name": "HTMLView",
            "description": "",
            "description_tooltip": null,
            "layout": "IPY_MODEL_0fa2deb56ed246bcb334d29a0bb6034b",
            "placeholder": "​",
            "style": "IPY_MODEL_6674545873d545628f74113f43447f90",
            "value": "normalizer.json: 100%"
          }
        },
        "b3b0500528d64b26ae7b3ea284097d8f": {
          "model_module": "@jupyter-widgets/controls",
          "model_name": "FloatProgressModel",
          "model_module_version": "1.5.0",
          "state": {
            "_dom_classes": [],
            "_model_module": "@jupyter-widgets/controls",
            "_model_module_version": "1.5.0",
            "_model_name": "FloatProgressModel",
            "_view_count": null,
            "_view_module": "@jupyter-widgets/controls",
            "_view_module_version": "1.5.0",
            "_view_name": "ProgressView",
            "bar_style": "success",
            "description": "",
            "description_tooltip": null,
            "layout": "IPY_MODEL_80e58b92e50f44a8af19332f083204e6",
            "max": 52666,
            "min": 0,
            "orientation": "horizontal",
            "style": "IPY_MODEL_f03d9bc2dfad4e75a56235a7ee7251b1",
            "value": 52666
          }
        },
        "80c1b0f5587844ee8976088ed2067735": {
          "model_module": "@jupyter-widgets/controls",
          "model_name": "HTMLModel",
          "model_module_version": "1.5.0",
          "state": {
            "_dom_classes": [],
            "_model_module": "@jupyter-widgets/controls",
            "_model_module_version": "1.5.0",
            "_model_name": "HTMLModel",
            "_view_count": null,
            "_view_module": "@jupyter-widgets/controls",
            "_view_module_version": "1.5.0",
            "_view_name": "HTMLView",
            "description": "",
            "description_tooltip": null,
            "layout": "IPY_MODEL_14cf5fee026f4350ba431db3d5166918",
            "placeholder": "​",
            "style": "IPY_MODEL_2bd0d6820e48484c90138fdb6a9ef30a",
            "value": " 52.7k/52.7k [00:00&lt;00:00, 3.96MB/s]"
          }
        },
        "cd2d144a265b4d2fa95b42d800f81382": {
          "model_module": "@jupyter-widgets/base",
          "model_name": "LayoutModel",
          "model_module_version": "1.2.0",
          "state": {
            "_model_module": "@jupyter-widgets/base",
            "_model_module_version": "1.2.0",
            "_model_name": "LayoutModel",
            "_view_count": null,
            "_view_module": "@jupyter-widgets/base",
            "_view_module_version": "1.2.0",
            "_view_name": "LayoutView",
            "align_content": null,
            "align_items": null,
            "align_self": null,
            "border": null,
            "bottom": null,
            "display": null,
            "flex": null,
            "flex_flow": null,
            "grid_area": null,
            "grid_auto_columns": null,
            "grid_auto_flow": null,
            "grid_auto_rows": null,
            "grid_column": null,
            "grid_gap": null,
            "grid_row": null,
            "grid_template_areas": null,
            "grid_template_columns": null,
            "grid_template_rows": null,
            "height": null,
            "justify_content": null,
            "justify_items": null,
            "left": null,
            "margin": null,
            "max_height": null,
            "max_width": null,
            "min_height": null,
            "min_width": null,
            "object_fit": null,
            "object_position": null,
            "order": null,
            "overflow": null,
            "overflow_x": null,
            "overflow_y": null,
            "padding": null,
            "right": null,
            "top": null,
            "visibility": null,
            "width": null
          }
        },
        "0fa2deb56ed246bcb334d29a0bb6034b": {
          "model_module": "@jupyter-widgets/base",
          "model_name": "LayoutModel",
          "model_module_version": "1.2.0",
          "state": {
            "_model_module": "@jupyter-widgets/base",
            "_model_module_version": "1.2.0",
            "_model_name": "LayoutModel",
            "_view_count": null,
            "_view_module": "@jupyter-widgets/base",
            "_view_module_version": "1.2.0",
            "_view_name": "LayoutView",
            "align_content": null,
            "align_items": null,
            "align_self": null,
            "border": null,
            "bottom": null,
            "display": null,
            "flex": null,
            "flex_flow": null,
            "grid_area": null,
            "grid_auto_columns": null,
            "grid_auto_flow": null,
            "grid_auto_rows": null,
            "grid_column": null,
            "grid_gap": null,
            "grid_row": null,
            "grid_template_areas": null,
            "grid_template_columns": null,
            "grid_template_rows": null,
            "height": null,
            "justify_content": null,
            "justify_items": null,
            "left": null,
            "margin": null,
            "max_height": null,
            "max_width": null,
            "min_height": null,
            "min_width": null,
            "object_fit": null,
            "object_position": null,
            "order": null,
            "overflow": null,
            "overflow_x": null,
            "overflow_y": null,
            "padding": null,
            "right": null,
            "top": null,
            "visibility": null,
            "width": null
          }
        },
        "6674545873d545628f74113f43447f90": {
          "model_module": "@jupyter-widgets/controls",
          "model_name": "DescriptionStyleModel",
          "model_module_version": "1.5.0",
          "state": {
            "_model_module": "@jupyter-widgets/controls",
            "_model_module_version": "1.5.0",
            "_model_name": "DescriptionStyleModel",
            "_view_count": null,
            "_view_module": "@jupyter-widgets/base",
            "_view_module_version": "1.2.0",
            "_view_name": "StyleView",
            "description_width": ""
          }
        },
        "80e58b92e50f44a8af19332f083204e6": {
          "model_module": "@jupyter-widgets/base",
          "model_name": "LayoutModel",
          "model_module_version": "1.2.0",
          "state": {
            "_model_module": "@jupyter-widgets/base",
            "_model_module_version": "1.2.0",
            "_model_name": "LayoutModel",
            "_view_count": null,
            "_view_module": "@jupyter-widgets/base",
            "_view_module_version": "1.2.0",
            "_view_name": "LayoutView",
            "align_content": null,
            "align_items": null,
            "align_self": null,
            "border": null,
            "bottom": null,
            "display": null,
            "flex": null,
            "flex_flow": null,
            "grid_area": null,
            "grid_auto_columns": null,
            "grid_auto_flow": null,
            "grid_auto_rows": null,
            "grid_column": null,
            "grid_gap": null,
            "grid_row": null,
            "grid_template_areas": null,
            "grid_template_columns": null,
            "grid_template_rows": null,
            "height": null,
            "justify_content": null,
            "justify_items": null,
            "left": null,
            "margin": null,
            "max_height": null,
            "max_width": null,
            "min_height": null,
            "min_width": null,
            "object_fit": null,
            "object_position": null,
            "order": null,
            "overflow": null,
            "overflow_x": null,
            "overflow_y": null,
            "padding": null,
            "right": null,
            "top": null,
            "visibility": null,
            "width": null
          }
        },
        "f03d9bc2dfad4e75a56235a7ee7251b1": {
          "model_module": "@jupyter-widgets/controls",
          "model_name": "ProgressStyleModel",
          "model_module_version": "1.5.0",
          "state": {
            "_model_module": "@jupyter-widgets/controls",
            "_model_module_version": "1.5.0",
            "_model_name": "ProgressStyleModel",
            "_view_count": null,
            "_view_module": "@jupyter-widgets/base",
            "_view_module_version": "1.2.0",
            "_view_name": "StyleView",
            "bar_color": null,
            "description_width": ""
          }
        },
        "14cf5fee026f4350ba431db3d5166918": {
          "model_module": "@jupyter-widgets/base",
          "model_name": "LayoutModel",
          "model_module_version": "1.2.0",
          "state": {
            "_model_module": "@jupyter-widgets/base",
            "_model_module_version": "1.2.0",
            "_model_name": "LayoutModel",
            "_view_count": null,
            "_view_module": "@jupyter-widgets/base",
            "_view_module_version": "1.2.0",
            "_view_name": "LayoutView",
            "align_content": null,
            "align_items": null,
            "align_self": null,
            "border": null,
            "bottom": null,
            "display": null,
            "flex": null,
            "flex_flow": null,
            "grid_area": null,
            "grid_auto_columns": null,
            "grid_auto_flow": null,
            "grid_auto_rows": null,
            "grid_column": null,
            "grid_gap": null,
            "grid_row": null,
            "grid_template_areas": null,
            "grid_template_columns": null,
            "grid_template_rows": null,
            "height": null,
            "justify_content": null,
            "justify_items": null,
            "left": null,
            "margin": null,
            "max_height": null,
            "max_width": null,
            "min_height": null,
            "min_width": null,
            "object_fit": null,
            "object_position": null,
            "order": null,
            "overflow": null,
            "overflow_x": null,
            "overflow_y": null,
            "padding": null,
            "right": null,
            "top": null,
            "visibility": null,
            "width": null
          }
        },
        "2bd0d6820e48484c90138fdb6a9ef30a": {
          "model_module": "@jupyter-widgets/controls",
          "model_name": "DescriptionStyleModel",
          "model_module_version": "1.5.0",
          "state": {
            "_model_module": "@jupyter-widgets/controls",
            "_model_module_version": "1.5.0",
            "_model_name": "DescriptionStyleModel",
            "_view_count": null,
            "_view_module": "@jupyter-widgets/base",
            "_view_module_version": "1.2.0",
            "_view_name": "StyleView",
            "description_width": ""
          }
        },
        "e9740b6524484a1580793ee944a2a5bc": {
          "model_module": "@jupyter-widgets/controls",
          "model_name": "HBoxModel",
          "model_module_version": "1.5.0",
          "state": {
            "_dom_classes": [],
            "_model_module": "@jupyter-widgets/controls",
            "_model_module_version": "1.5.0",
            "_model_name": "HBoxModel",
            "_view_count": null,
            "_view_module": "@jupyter-widgets/controls",
            "_view_module_version": "1.5.0",
            "_view_name": "HBoxView",
            "box_style": "",
            "children": [
              "IPY_MODEL_025600ebc9924fd58ee1fd11ea751e28",
              "IPY_MODEL_cf2c01f9450b4f46a12085837ac7cd4f",
              "IPY_MODEL_9f4742e25fe54a039901065d2a35b1b1"
            ],
            "layout": "IPY_MODEL_8e192fd4abd94d178a29f619d6e604e1"
          }
        },
        "025600ebc9924fd58ee1fd11ea751e28": {
          "model_module": "@jupyter-widgets/controls",
          "model_name": "HTMLModel",
          "model_module_version": "1.5.0",
          "state": {
            "_dom_classes": [],
            "_model_module": "@jupyter-widgets/controls",
            "_model_module_version": "1.5.0",
            "_model_name": "HTMLModel",
            "_view_count": null,
            "_view_module": "@jupyter-widgets/controls",
            "_view_module_version": "1.5.0",
            "_view_name": "HTMLView",
            "description": "",
            "description_tooltip": null,
            "layout": "IPY_MODEL_0851f40575484fbe87bd33ecfb1e65cd",
            "placeholder": "​",
            "style": "IPY_MODEL_4528269f97cf4d65b70a79c95eaf9b77",
            "value": "added_tokens.json: 100%"
          }
        },
        "cf2c01f9450b4f46a12085837ac7cd4f": {
          "model_module": "@jupyter-widgets/controls",
          "model_name": "FloatProgressModel",
          "model_module_version": "1.5.0",
          "state": {
            "_dom_classes": [],
            "_model_module": "@jupyter-widgets/controls",
            "_model_module_version": "1.5.0",
            "_model_name": "FloatProgressModel",
            "_view_count": null,
            "_view_module": "@jupyter-widgets/controls",
            "_view_module_version": "1.5.0",
            "_view_name": "ProgressView",
            "bar_style": "success",
            "description": "",
            "description_tooltip": null,
            "layout": "IPY_MODEL_02314d1d9763414797704f8a93428507",
            "max": 34604,
            "min": 0,
            "orientation": "horizontal",
            "style": "IPY_MODEL_1a7ce9c7882e44ba9d4d999ae7120ef5",
            "value": 34604
          }
        },
        "9f4742e25fe54a039901065d2a35b1b1": {
          "model_module": "@jupyter-widgets/controls",
          "model_name": "HTMLModel",
          "model_module_version": "1.5.0",
          "state": {
            "_dom_classes": [],
            "_model_module": "@jupyter-widgets/controls",
            "_model_module_version": "1.5.0",
            "_model_name": "HTMLModel",
            "_view_count": null,
            "_view_module": "@jupyter-widgets/controls",
            "_view_module_version": "1.5.0",
            "_view_name": "HTMLView",
            "description": "",
            "description_tooltip": null,
            "layout": "IPY_MODEL_5b017b44f7f74ca5be121e9ebabf05e3",
            "placeholder": "​",
            "style": "IPY_MODEL_b47e63837905423182172a7b8efba3ed",
            "value": " 34.6k/34.6k [00:00&lt;00:00, 2.58MB/s]"
          }
        },
        "8e192fd4abd94d178a29f619d6e604e1": {
          "model_module": "@jupyter-widgets/base",
          "model_name": "LayoutModel",
          "model_module_version": "1.2.0",
          "state": {
            "_model_module": "@jupyter-widgets/base",
            "_model_module_version": "1.2.0",
            "_model_name": "LayoutModel",
            "_view_count": null,
            "_view_module": "@jupyter-widgets/base",
            "_view_module_version": "1.2.0",
            "_view_name": "LayoutView",
            "align_content": null,
            "align_items": null,
            "align_self": null,
            "border": null,
            "bottom": null,
            "display": null,
            "flex": null,
            "flex_flow": null,
            "grid_area": null,
            "grid_auto_columns": null,
            "grid_auto_flow": null,
            "grid_auto_rows": null,
            "grid_column": null,
            "grid_gap": null,
            "grid_row": null,
            "grid_template_areas": null,
            "grid_template_columns": null,
            "grid_template_rows": null,
            "height": null,
            "justify_content": null,
            "justify_items": null,
            "left": null,
            "margin": null,
            "max_height": null,
            "max_width": null,
            "min_height": null,
            "min_width": null,
            "object_fit": null,
            "object_position": null,
            "order": null,
            "overflow": null,
            "overflow_x": null,
            "overflow_y": null,
            "padding": null,
            "right": null,
            "top": null,
            "visibility": null,
            "width": null
          }
        },
        "0851f40575484fbe87bd33ecfb1e65cd": {
          "model_module": "@jupyter-widgets/base",
          "model_name": "LayoutModel",
          "model_module_version": "1.2.0",
          "state": {
            "_model_module": "@jupyter-widgets/base",
            "_model_module_version": "1.2.0",
            "_model_name": "LayoutModel",
            "_view_count": null,
            "_view_module": "@jupyter-widgets/base",
            "_view_module_version": "1.2.0",
            "_view_name": "LayoutView",
            "align_content": null,
            "align_items": null,
            "align_self": null,
            "border": null,
            "bottom": null,
            "display": null,
            "flex": null,
            "flex_flow": null,
            "grid_area": null,
            "grid_auto_columns": null,
            "grid_auto_flow": null,
            "grid_auto_rows": null,
            "grid_column": null,
            "grid_gap": null,
            "grid_row": null,
            "grid_template_areas": null,
            "grid_template_columns": null,
            "grid_template_rows": null,
            "height": null,
            "justify_content": null,
            "justify_items": null,
            "left": null,
            "margin": null,
            "max_height": null,
            "max_width": null,
            "min_height": null,
            "min_width": null,
            "object_fit": null,
            "object_position": null,
            "order": null,
            "overflow": null,
            "overflow_x": null,
            "overflow_y": null,
            "padding": null,
            "right": null,
            "top": null,
            "visibility": null,
            "width": null
          }
        },
        "4528269f97cf4d65b70a79c95eaf9b77": {
          "model_module": "@jupyter-widgets/controls",
          "model_name": "DescriptionStyleModel",
          "model_module_version": "1.5.0",
          "state": {
            "_model_module": "@jupyter-widgets/controls",
            "_model_module_version": "1.5.0",
            "_model_name": "DescriptionStyleModel",
            "_view_count": null,
            "_view_module": "@jupyter-widgets/base",
            "_view_module_version": "1.2.0",
            "_view_name": "StyleView",
            "description_width": ""
          }
        },
        "02314d1d9763414797704f8a93428507": {
          "model_module": "@jupyter-widgets/base",
          "model_name": "LayoutModel",
          "model_module_version": "1.2.0",
          "state": {
            "_model_module": "@jupyter-widgets/base",
            "_model_module_version": "1.2.0",
            "_model_name": "LayoutModel",
            "_view_count": null,
            "_view_module": "@jupyter-widgets/base",
            "_view_module_version": "1.2.0",
            "_view_name": "LayoutView",
            "align_content": null,
            "align_items": null,
            "align_self": null,
            "border": null,
            "bottom": null,
            "display": null,
            "flex": null,
            "flex_flow": null,
            "grid_area": null,
            "grid_auto_columns": null,
            "grid_auto_flow": null,
            "grid_auto_rows": null,
            "grid_column": null,
            "grid_gap": null,
            "grid_row": null,
            "grid_template_areas": null,
            "grid_template_columns": null,
            "grid_template_rows": null,
            "height": null,
            "justify_content": null,
            "justify_items": null,
            "left": null,
            "margin": null,
            "max_height": null,
            "max_width": null,
            "min_height": null,
            "min_width": null,
            "object_fit": null,
            "object_position": null,
            "order": null,
            "overflow": null,
            "overflow_x": null,
            "overflow_y": null,
            "padding": null,
            "right": null,
            "top": null,
            "visibility": null,
            "width": null
          }
        },
        "1a7ce9c7882e44ba9d4d999ae7120ef5": {
          "model_module": "@jupyter-widgets/controls",
          "model_name": "ProgressStyleModel",
          "model_module_version": "1.5.0",
          "state": {
            "_model_module": "@jupyter-widgets/controls",
            "_model_module_version": "1.5.0",
            "_model_name": "ProgressStyleModel",
            "_view_count": null,
            "_view_module": "@jupyter-widgets/base",
            "_view_module_version": "1.2.0",
            "_view_name": "StyleView",
            "bar_color": null,
            "description_width": ""
          }
        },
        "5b017b44f7f74ca5be121e9ebabf05e3": {
          "model_module": "@jupyter-widgets/base",
          "model_name": "LayoutModel",
          "model_module_version": "1.2.0",
          "state": {
            "_model_module": "@jupyter-widgets/base",
            "_model_module_version": "1.2.0",
            "_model_name": "LayoutModel",
            "_view_count": null,
            "_view_module": "@jupyter-widgets/base",
            "_view_module_version": "1.2.0",
            "_view_name": "LayoutView",
            "align_content": null,
            "align_items": null,
            "align_self": null,
            "border": null,
            "bottom": null,
            "display": null,
            "flex": null,
            "flex_flow": null,
            "grid_area": null,
            "grid_auto_columns": null,
            "grid_auto_flow": null,
            "grid_auto_rows": null,
            "grid_column": null,
            "grid_gap": null,
            "grid_row": null,
            "grid_template_areas": null,
            "grid_template_columns": null,
            "grid_template_rows": null,
            "height": null,
            "justify_content": null,
            "justify_items": null,
            "left": null,
            "margin": null,
            "max_height": null,
            "max_width": null,
            "min_height": null,
            "min_width": null,
            "object_fit": null,
            "object_position": null,
            "order": null,
            "overflow": null,
            "overflow_x": null,
            "overflow_y": null,
            "padding": null,
            "right": null,
            "top": null,
            "visibility": null,
            "width": null
          }
        },
        "b47e63837905423182172a7b8efba3ed": {
          "model_module": "@jupyter-widgets/controls",
          "model_name": "DescriptionStyleModel",
          "model_module_version": "1.5.0",
          "state": {
            "_model_module": "@jupyter-widgets/controls",
            "_model_module_version": "1.5.0",
            "_model_name": "DescriptionStyleModel",
            "_view_count": null,
            "_view_module": "@jupyter-widgets/base",
            "_view_module_version": "1.2.0",
            "_view_name": "StyleView",
            "description_width": ""
          }
        },
        "94305600372e45838ff508b0a57f6652": {
          "model_module": "@jupyter-widgets/controls",
          "model_name": "HBoxModel",
          "model_module_version": "1.5.0",
          "state": {
            "_dom_classes": [],
            "_model_module": "@jupyter-widgets/controls",
            "_model_module_version": "1.5.0",
            "_model_name": "HBoxModel",
            "_view_count": null,
            "_view_module": "@jupyter-widgets/controls",
            "_view_module_version": "1.5.0",
            "_view_name": "HBoxView",
            "box_style": "",
            "children": [
              "IPY_MODEL_762de2abc9624bb89b3684dbf09522c3",
              "IPY_MODEL_4defd4ebd6e648faa0cb6f7425420d49",
              "IPY_MODEL_5f87fc520d3c40bb8ddd4528982c0cf4"
            ],
            "layout": "IPY_MODEL_c07025366e154dbb9f3abc715c1dc506"
          }
        },
        "762de2abc9624bb89b3684dbf09522c3": {
          "model_module": "@jupyter-widgets/controls",
          "model_name": "HTMLModel",
          "model_module_version": "1.5.0",
          "state": {
            "_dom_classes": [],
            "_model_module": "@jupyter-widgets/controls",
            "_model_module_version": "1.5.0",
            "_model_name": "HTMLModel",
            "_view_count": null,
            "_view_module": "@jupyter-widgets/controls",
            "_view_module_version": "1.5.0",
            "_view_name": "HTMLView",
            "description": "",
            "description_tooltip": null,
            "layout": "IPY_MODEL_f53062fa3c5c488a8f735ebc7dd676a8",
            "placeholder": "​",
            "style": "IPY_MODEL_276f7b5423f045e88548d405d58373b8",
            "value": "special_tokens_map.json: 100%"
          }
        },
        "4defd4ebd6e648faa0cb6f7425420d49": {
          "model_module": "@jupyter-widgets/controls",
          "model_name": "FloatProgressModel",
          "model_module_version": "1.5.0",
          "state": {
            "_dom_classes": [],
            "_model_module": "@jupyter-widgets/controls",
            "_model_module_version": "1.5.0",
            "_model_name": "FloatProgressModel",
            "_view_count": null,
            "_view_module": "@jupyter-widgets/controls",
            "_view_module_version": "1.5.0",
            "_view_name": "ProgressView",
            "bar_style": "success",
            "description": "",
            "description_tooltip": null,
            "layout": "IPY_MODEL_8c7f0860847348a8b33705c50a9f233d",
            "max": 2194,
            "min": 0,
            "orientation": "horizontal",
            "style": "IPY_MODEL_1367f6f3bac84a5bb9b5aff133aec189",
            "value": 2194
          }
        },
        "5f87fc520d3c40bb8ddd4528982c0cf4": {
          "model_module": "@jupyter-widgets/controls",
          "model_name": "HTMLModel",
          "model_module_version": "1.5.0",
          "state": {
            "_dom_classes": [],
            "_model_module": "@jupyter-widgets/controls",
            "_model_module_version": "1.5.0",
            "_model_name": "HTMLModel",
            "_view_count": null,
            "_view_module": "@jupyter-widgets/controls",
            "_view_module_version": "1.5.0",
            "_view_name": "HTMLView",
            "description": "",
            "description_tooltip": null,
            "layout": "IPY_MODEL_1d9628bf6bd643a4bd0661e900cbcc95",
            "placeholder": "​",
            "style": "IPY_MODEL_5caf2ea45df64fd48ceb190567c84332",
            "value": " 2.19k/2.19k [00:00&lt;00:00, 184kB/s]"
          }
        },
        "c07025366e154dbb9f3abc715c1dc506": {
          "model_module": "@jupyter-widgets/base",
          "model_name": "LayoutModel",
          "model_module_version": "1.2.0",
          "state": {
            "_model_module": "@jupyter-widgets/base",
            "_model_module_version": "1.2.0",
            "_model_name": "LayoutModel",
            "_view_count": null,
            "_view_module": "@jupyter-widgets/base",
            "_view_module_version": "1.2.0",
            "_view_name": "LayoutView",
            "align_content": null,
            "align_items": null,
            "align_self": null,
            "border": null,
            "bottom": null,
            "display": null,
            "flex": null,
            "flex_flow": null,
            "grid_area": null,
            "grid_auto_columns": null,
            "grid_auto_flow": null,
            "grid_auto_rows": null,
            "grid_column": null,
            "grid_gap": null,
            "grid_row": null,
            "grid_template_areas": null,
            "grid_template_columns": null,
            "grid_template_rows": null,
            "height": null,
            "justify_content": null,
            "justify_items": null,
            "left": null,
            "margin": null,
            "max_height": null,
            "max_width": null,
            "min_height": null,
            "min_width": null,
            "object_fit": null,
            "object_position": null,
            "order": null,
            "overflow": null,
            "overflow_x": null,
            "overflow_y": null,
            "padding": null,
            "right": null,
            "top": null,
            "visibility": null,
            "width": null
          }
        },
        "f53062fa3c5c488a8f735ebc7dd676a8": {
          "model_module": "@jupyter-widgets/base",
          "model_name": "LayoutModel",
          "model_module_version": "1.2.0",
          "state": {
            "_model_module": "@jupyter-widgets/base",
            "_model_module_version": "1.2.0",
            "_model_name": "LayoutModel",
            "_view_count": null,
            "_view_module": "@jupyter-widgets/base",
            "_view_module_version": "1.2.0",
            "_view_name": "LayoutView",
            "align_content": null,
            "align_items": null,
            "align_self": null,
            "border": null,
            "bottom": null,
            "display": null,
            "flex": null,
            "flex_flow": null,
            "grid_area": null,
            "grid_auto_columns": null,
            "grid_auto_flow": null,
            "grid_auto_rows": null,
            "grid_column": null,
            "grid_gap": null,
            "grid_row": null,
            "grid_template_areas": null,
            "grid_template_columns": null,
            "grid_template_rows": null,
            "height": null,
            "justify_content": null,
            "justify_items": null,
            "left": null,
            "margin": null,
            "max_height": null,
            "max_width": null,
            "min_height": null,
            "min_width": null,
            "object_fit": null,
            "object_position": null,
            "order": null,
            "overflow": null,
            "overflow_x": null,
            "overflow_y": null,
            "padding": null,
            "right": null,
            "top": null,
            "visibility": null,
            "width": null
          }
        },
        "276f7b5423f045e88548d405d58373b8": {
          "model_module": "@jupyter-widgets/controls",
          "model_name": "DescriptionStyleModel",
          "model_module_version": "1.5.0",
          "state": {
            "_model_module": "@jupyter-widgets/controls",
            "_model_module_version": "1.5.0",
            "_model_name": "DescriptionStyleModel",
            "_view_count": null,
            "_view_module": "@jupyter-widgets/base",
            "_view_module_version": "1.2.0",
            "_view_name": "StyleView",
            "description_width": ""
          }
        },
        "8c7f0860847348a8b33705c50a9f233d": {
          "model_module": "@jupyter-widgets/base",
          "model_name": "LayoutModel",
          "model_module_version": "1.2.0",
          "state": {
            "_model_module": "@jupyter-widgets/base",
            "_model_module_version": "1.2.0",
            "_model_name": "LayoutModel",
            "_view_count": null,
            "_view_module": "@jupyter-widgets/base",
            "_view_module_version": "1.2.0",
            "_view_name": "LayoutView",
            "align_content": null,
            "align_items": null,
            "align_self": null,
            "border": null,
            "bottom": null,
            "display": null,
            "flex": null,
            "flex_flow": null,
            "grid_area": null,
            "grid_auto_columns": null,
            "grid_auto_flow": null,
            "grid_auto_rows": null,
            "grid_column": null,
            "grid_gap": null,
            "grid_row": null,
            "grid_template_areas": null,
            "grid_template_columns": null,
            "grid_template_rows": null,
            "height": null,
            "justify_content": null,
            "justify_items": null,
            "left": null,
            "margin": null,
            "max_height": null,
            "max_width": null,
            "min_height": null,
            "min_width": null,
            "object_fit": null,
            "object_position": null,
            "order": null,
            "overflow": null,
            "overflow_x": null,
            "overflow_y": null,
            "padding": null,
            "right": null,
            "top": null,
            "visibility": null,
            "width": null
          }
        },
        "1367f6f3bac84a5bb9b5aff133aec189": {
          "model_module": "@jupyter-widgets/controls",
          "model_name": "ProgressStyleModel",
          "model_module_version": "1.5.0",
          "state": {
            "_model_module": "@jupyter-widgets/controls",
            "_model_module_version": "1.5.0",
            "_model_name": "ProgressStyleModel",
            "_view_count": null,
            "_view_module": "@jupyter-widgets/base",
            "_view_module_version": "1.2.0",
            "_view_name": "StyleView",
            "bar_color": null,
            "description_width": ""
          }
        },
        "1d9628bf6bd643a4bd0661e900cbcc95": {
          "model_module": "@jupyter-widgets/base",
          "model_name": "LayoutModel",
          "model_module_version": "1.2.0",
          "state": {
            "_model_module": "@jupyter-widgets/base",
            "_model_module_version": "1.2.0",
            "_model_name": "LayoutModel",
            "_view_count": null,
            "_view_module": "@jupyter-widgets/base",
            "_view_module_version": "1.2.0",
            "_view_name": "LayoutView",
            "align_content": null,
            "align_items": null,
            "align_self": null,
            "border": null,
            "bottom": null,
            "display": null,
            "flex": null,
            "flex_flow": null,
            "grid_area": null,
            "grid_auto_columns": null,
            "grid_auto_flow": null,
            "grid_auto_rows": null,
            "grid_column": null,
            "grid_gap": null,
            "grid_row": null,
            "grid_template_areas": null,
            "grid_template_columns": null,
            "grid_template_rows": null,
            "height": null,
            "justify_content": null,
            "justify_items": null,
            "left": null,
            "margin": null,
            "max_height": null,
            "max_width": null,
            "min_height": null,
            "min_width": null,
            "object_fit": null,
            "object_position": null,
            "order": null,
            "overflow": null,
            "overflow_x": null,
            "overflow_y": null,
            "padding": null,
            "right": null,
            "top": null,
            "visibility": null,
            "width": null
          }
        },
        "5caf2ea45df64fd48ceb190567c84332": {
          "model_module": "@jupyter-widgets/controls",
          "model_name": "DescriptionStyleModel",
          "model_module_version": "1.5.0",
          "state": {
            "_model_module": "@jupyter-widgets/controls",
            "_model_module_version": "1.5.0",
            "_model_name": "DescriptionStyleModel",
            "_view_count": null,
            "_view_module": "@jupyter-widgets/base",
            "_view_module_version": "1.2.0",
            "_view_name": "StyleView",
            "description_width": ""
          }
        },
        "614c4464e52d4238b39a142b62562a2e": {
          "model_module": "@jupyter-widgets/controls",
          "model_name": "HBoxModel",
          "model_module_version": "1.5.0",
          "state": {
            "_dom_classes": [],
            "_model_module": "@jupyter-widgets/controls",
            "_model_module_version": "1.5.0",
            "_model_name": "HBoxModel",
            "_view_count": null,
            "_view_module": "@jupyter-widgets/controls",
            "_view_module_version": "1.5.0",
            "_view_name": "HBoxView",
            "box_style": "",
            "children": [
              "IPY_MODEL_95c67d263d4e4a12bdd9df5c44abe48e",
              "IPY_MODEL_c4463957f1e7427080c5e8e594680f54",
              "IPY_MODEL_bce25c04ef3445c28397b751454a472d"
            ],
            "layout": "IPY_MODEL_4c03fdd318e44cf09db469e8ad183451"
          }
        },
        "95c67d263d4e4a12bdd9df5c44abe48e": {
          "model_module": "@jupyter-widgets/controls",
          "model_name": "HTMLModel",
          "model_module_version": "1.5.0",
          "state": {
            "_dom_classes": [],
            "_model_module": "@jupyter-widgets/controls",
            "_model_module_version": "1.5.0",
            "_model_name": "HTMLModel",
            "_view_count": null,
            "_view_module": "@jupyter-widgets/controls",
            "_view_module_version": "1.5.0",
            "_view_name": "HTMLView",
            "description": "",
            "description_tooltip": null,
            "layout": "IPY_MODEL_6923c787859d41dfb8715d313275e54d",
            "placeholder": "​",
            "style": "IPY_MODEL_bd3def7af6ce465fa9a7464b13e2d9ad",
            "value": "README.md: 100%"
          }
        },
        "c4463957f1e7427080c5e8e594680f54": {
          "model_module": "@jupyter-widgets/controls",
          "model_name": "FloatProgressModel",
          "model_module_version": "1.5.0",
          "state": {
            "_dom_classes": [],
            "_model_module": "@jupyter-widgets/controls",
            "_model_module_version": "1.5.0",
            "_model_name": "FloatProgressModel",
            "_view_count": null,
            "_view_module": "@jupyter-widgets/controls",
            "_view_module_version": "1.5.0",
            "_view_name": "ProgressView",
            "bar_style": "success",
            "description": "",
            "description_tooltip": null,
            "layout": "IPY_MODEL_ef484f628086471b8a79e70800576533",
            "max": 1871,
            "min": 0,
            "orientation": "horizontal",
            "style": "IPY_MODEL_382a4ab4e76d498aab7cacd62dbde76b",
            "value": 1871
          }
        },
        "bce25c04ef3445c28397b751454a472d": {
          "model_module": "@jupyter-widgets/controls",
          "model_name": "HTMLModel",
          "model_module_version": "1.5.0",
          "state": {
            "_dom_classes": [],
            "_model_module": "@jupyter-widgets/controls",
            "_model_module_version": "1.5.0",
            "_model_name": "HTMLModel",
            "_view_count": null,
            "_view_module": "@jupyter-widgets/controls",
            "_view_module_version": "1.5.0",
            "_view_name": "HTMLView",
            "description": "",
            "description_tooltip": null,
            "layout": "IPY_MODEL_36eeac87018b48b2b94c3871d97cd0dc",
            "placeholder": "​",
            "style": "IPY_MODEL_bc01c8b5cf7a49abb32c32a50ad4f357",
            "value": " 1.87k/1.87k [00:00&lt;00:00, 115kB/s]"
          }
        },
        "4c03fdd318e44cf09db469e8ad183451": {
          "model_module": "@jupyter-widgets/base",
          "model_name": "LayoutModel",
          "model_module_version": "1.2.0",
          "state": {
            "_model_module": "@jupyter-widgets/base",
            "_model_module_version": "1.2.0",
            "_model_name": "LayoutModel",
            "_view_count": null,
            "_view_module": "@jupyter-widgets/base",
            "_view_module_version": "1.2.0",
            "_view_name": "LayoutView",
            "align_content": null,
            "align_items": null,
            "align_self": null,
            "border": null,
            "bottom": null,
            "display": null,
            "flex": null,
            "flex_flow": null,
            "grid_area": null,
            "grid_auto_columns": null,
            "grid_auto_flow": null,
            "grid_auto_rows": null,
            "grid_column": null,
            "grid_gap": null,
            "grid_row": null,
            "grid_template_areas": null,
            "grid_template_columns": null,
            "grid_template_rows": null,
            "height": null,
            "justify_content": null,
            "justify_items": null,
            "left": null,
            "margin": null,
            "max_height": null,
            "max_width": null,
            "min_height": null,
            "min_width": null,
            "object_fit": null,
            "object_position": null,
            "order": null,
            "overflow": null,
            "overflow_x": null,
            "overflow_y": null,
            "padding": null,
            "right": null,
            "top": null,
            "visibility": null,
            "width": null
          }
        },
        "6923c787859d41dfb8715d313275e54d": {
          "model_module": "@jupyter-widgets/base",
          "model_name": "LayoutModel",
          "model_module_version": "1.2.0",
          "state": {
            "_model_module": "@jupyter-widgets/base",
            "_model_module_version": "1.2.0",
            "_model_name": "LayoutModel",
            "_view_count": null,
            "_view_module": "@jupyter-widgets/base",
            "_view_module_version": "1.2.0",
            "_view_name": "LayoutView",
            "align_content": null,
            "align_items": null,
            "align_self": null,
            "border": null,
            "bottom": null,
            "display": null,
            "flex": null,
            "flex_flow": null,
            "grid_area": null,
            "grid_auto_columns": null,
            "grid_auto_flow": null,
            "grid_auto_rows": null,
            "grid_column": null,
            "grid_gap": null,
            "grid_row": null,
            "grid_template_areas": null,
            "grid_template_columns": null,
            "grid_template_rows": null,
            "height": null,
            "justify_content": null,
            "justify_items": null,
            "left": null,
            "margin": null,
            "max_height": null,
            "max_width": null,
            "min_height": null,
            "min_width": null,
            "object_fit": null,
            "object_position": null,
            "order": null,
            "overflow": null,
            "overflow_x": null,
            "overflow_y": null,
            "padding": null,
            "right": null,
            "top": null,
            "visibility": null,
            "width": null
          }
        },
        "bd3def7af6ce465fa9a7464b13e2d9ad": {
          "model_module": "@jupyter-widgets/controls",
          "model_name": "DescriptionStyleModel",
          "model_module_version": "1.5.0",
          "state": {
            "_model_module": "@jupyter-widgets/controls",
            "_model_module_version": "1.5.0",
            "_model_name": "DescriptionStyleModel",
            "_view_count": null,
            "_view_module": "@jupyter-widgets/base",
            "_view_module_version": "1.2.0",
            "_view_name": "StyleView",
            "description_width": ""
          }
        },
        "ef484f628086471b8a79e70800576533": {
          "model_module": "@jupyter-widgets/base",
          "model_name": "LayoutModel",
          "model_module_version": "1.2.0",
          "state": {
            "_model_module": "@jupyter-widgets/base",
            "_model_module_version": "1.2.0",
            "_model_name": "LayoutModel",
            "_view_count": null,
            "_view_module": "@jupyter-widgets/base",
            "_view_module_version": "1.2.0",
            "_view_name": "LayoutView",
            "align_content": null,
            "align_items": null,
            "align_self": null,
            "border": null,
            "bottom": null,
            "display": null,
            "flex": null,
            "flex_flow": null,
            "grid_area": null,
            "grid_auto_columns": null,
            "grid_auto_flow": null,
            "grid_auto_rows": null,
            "grid_column": null,
            "grid_gap": null,
            "grid_row": null,
            "grid_template_areas": null,
            "grid_template_columns": null,
            "grid_template_rows": null,
            "height": null,
            "justify_content": null,
            "justify_items": null,
            "left": null,
            "margin": null,
            "max_height": null,
            "max_width": null,
            "min_height": null,
            "min_width": null,
            "object_fit": null,
            "object_position": null,
            "order": null,
            "overflow": null,
            "overflow_x": null,
            "overflow_y": null,
            "padding": null,
            "right": null,
            "top": null,
            "visibility": null,
            "width": null
          }
        },
        "382a4ab4e76d498aab7cacd62dbde76b": {
          "model_module": "@jupyter-widgets/controls",
          "model_name": "ProgressStyleModel",
          "model_module_version": "1.5.0",
          "state": {
            "_model_module": "@jupyter-widgets/controls",
            "_model_module_version": "1.5.0",
            "_model_name": "ProgressStyleModel",
            "_view_count": null,
            "_view_module": "@jupyter-widgets/base",
            "_view_module_version": "1.2.0",
            "_view_name": "StyleView",
            "bar_color": null,
            "description_width": ""
          }
        },
        "36eeac87018b48b2b94c3871d97cd0dc": {
          "model_module": "@jupyter-widgets/base",
          "model_name": "LayoutModel",
          "model_module_version": "1.2.0",
          "state": {
            "_model_module": "@jupyter-widgets/base",
            "_model_module_version": "1.2.0",
            "_model_name": "LayoutModel",
            "_view_count": null,
            "_view_module": "@jupyter-widgets/base",
            "_view_module_version": "1.2.0",
            "_view_name": "LayoutView",
            "align_content": null,
            "align_items": null,
            "align_self": null,
            "border": null,
            "bottom": null,
            "display": null,
            "flex": null,
            "flex_flow": null,
            "grid_area": null,
            "grid_auto_columns": null,
            "grid_auto_flow": null,
            "grid_auto_rows": null,
            "grid_column": null,
            "grid_gap": null,
            "grid_row": null,
            "grid_template_areas": null,
            "grid_template_columns": null,
            "grid_template_rows": null,
            "height": null,
            "justify_content": null,
            "justify_items": null,
            "left": null,
            "margin": null,
            "max_height": null,
            "max_width": null,
            "min_height": null,
            "min_width": null,
            "object_fit": null,
            "object_position": null,
            "order": null,
            "overflow": null,
            "overflow_x": null,
            "overflow_y": null,
            "padding": null,
            "right": null,
            "top": null,
            "visibility": null,
            "width": null
          }
        },
        "bc01c8b5cf7a49abb32c32a50ad4f357": {
          "model_module": "@jupyter-widgets/controls",
          "model_name": "DescriptionStyleModel",
          "model_module_version": "1.5.0",
          "state": {
            "_model_module": "@jupyter-widgets/controls",
            "_model_module_version": "1.5.0",
            "_model_name": "DescriptionStyleModel",
            "_view_count": null,
            "_view_module": "@jupyter-widgets/base",
            "_view_module_version": "1.2.0",
            "_view_name": "StyleView",
            "description_width": ""
          }
        },
        "b35024c9014a4c3fa16da462576ef1f8": {
          "model_module": "@jupyter-widgets/controls",
          "model_name": "HBoxModel",
          "model_module_version": "1.5.0",
          "state": {
            "_dom_classes": [],
            "_model_module": "@jupyter-widgets/controls",
            "_model_module_version": "1.5.0",
            "_model_name": "HBoxModel",
            "_view_count": null,
            "_view_module": "@jupyter-widgets/controls",
            "_view_module_version": "1.5.0",
            "_view_name": "HBoxView",
            "box_style": "",
            "children": [
              "IPY_MODEL_f81446de7cf444229f660be9c17ed726",
              "IPY_MODEL_0e424c23ef8b43bbb6db1d2b5ceef215",
              "IPY_MODEL_6ef801d372d448db839f16f04c548154"
            ],
            "layout": "IPY_MODEL_abfdfc0548c143f4a28a71d58e55eda0"
          }
        },
        "f81446de7cf444229f660be9c17ed726": {
          "model_module": "@jupyter-widgets/controls",
          "model_name": "HTMLModel",
          "model_module_version": "1.5.0",
          "state": {
            "_dom_classes": [],
            "_model_module": "@jupyter-widgets/controls",
            "_model_module_version": "1.5.0",
            "_model_name": "HTMLModel",
            "_view_count": null,
            "_view_module": "@jupyter-widgets/controls",
            "_view_module_version": "1.5.0",
            "_view_name": "HTMLView",
            "description": "",
            "description_tooltip": null,
            "layout": "IPY_MODEL_9283b32534d5495493d5b76bb083d0bd",
            "placeholder": "​",
            "style": "IPY_MODEL_01af9ea147164590aac60af6ce52e9f0",
            "value": "adapter_config.json: 100%"
          }
        },
        "0e424c23ef8b43bbb6db1d2b5ceef215": {
          "model_module": "@jupyter-widgets/controls",
          "model_name": "FloatProgressModel",
          "model_module_version": "1.5.0",
          "state": {
            "_dom_classes": [],
            "_model_module": "@jupyter-widgets/controls",
            "_model_module_version": "1.5.0",
            "_model_name": "FloatProgressModel",
            "_view_count": null,
            "_view_module": "@jupyter-widgets/controls",
            "_view_module_version": "1.5.0",
            "_view_name": "ProgressView",
            "bar_style": "success",
            "description": "",
            "description_tooltip": null,
            "layout": "IPY_MODEL_e687e063fc63427eaacc681a27d1405e",
            "max": 795,
            "min": 0,
            "orientation": "horizontal",
            "style": "IPY_MODEL_3a25accd8ae240efb666780db65a8fee",
            "value": 795
          }
        },
        "6ef801d372d448db839f16f04c548154": {
          "model_module": "@jupyter-widgets/controls",
          "model_name": "HTMLModel",
          "model_module_version": "1.5.0",
          "state": {
            "_dom_classes": [],
            "_model_module": "@jupyter-widgets/controls",
            "_model_module_version": "1.5.0",
            "_model_name": "HTMLModel",
            "_view_count": null,
            "_view_module": "@jupyter-widgets/controls",
            "_view_module_version": "1.5.0",
            "_view_name": "HTMLView",
            "description": "",
            "description_tooltip": null,
            "layout": "IPY_MODEL_21be22a236d14ec4bcb848726a34b8ce",
            "placeholder": "​",
            "style": "IPY_MODEL_b67311d415874371a743b136a2f24f9a",
            "value": " 795/795 [00:00&lt;00:00, 56.0kB/s]"
          }
        },
        "abfdfc0548c143f4a28a71d58e55eda0": {
          "model_module": "@jupyter-widgets/base",
          "model_name": "LayoutModel",
          "model_module_version": "1.2.0",
          "state": {
            "_model_module": "@jupyter-widgets/base",
            "_model_module_version": "1.2.0",
            "_model_name": "LayoutModel",
            "_view_count": null,
            "_view_module": "@jupyter-widgets/base",
            "_view_module_version": "1.2.0",
            "_view_name": "LayoutView",
            "align_content": null,
            "align_items": null,
            "align_self": null,
            "border": null,
            "bottom": null,
            "display": null,
            "flex": null,
            "flex_flow": null,
            "grid_area": null,
            "grid_auto_columns": null,
            "grid_auto_flow": null,
            "grid_auto_rows": null,
            "grid_column": null,
            "grid_gap": null,
            "grid_row": null,
            "grid_template_areas": null,
            "grid_template_columns": null,
            "grid_template_rows": null,
            "height": null,
            "justify_content": null,
            "justify_items": null,
            "left": null,
            "margin": null,
            "max_height": null,
            "max_width": null,
            "min_height": null,
            "min_width": null,
            "object_fit": null,
            "object_position": null,
            "order": null,
            "overflow": null,
            "overflow_x": null,
            "overflow_y": null,
            "padding": null,
            "right": null,
            "top": null,
            "visibility": null,
            "width": null
          }
        },
        "9283b32534d5495493d5b76bb083d0bd": {
          "model_module": "@jupyter-widgets/base",
          "model_name": "LayoutModel",
          "model_module_version": "1.2.0",
          "state": {
            "_model_module": "@jupyter-widgets/base",
            "_model_module_version": "1.2.0",
            "_model_name": "LayoutModel",
            "_view_count": null,
            "_view_module": "@jupyter-widgets/base",
            "_view_module_version": "1.2.0",
            "_view_name": "LayoutView",
            "align_content": null,
            "align_items": null,
            "align_self": null,
            "border": null,
            "bottom": null,
            "display": null,
            "flex": null,
            "flex_flow": null,
            "grid_area": null,
            "grid_auto_columns": null,
            "grid_auto_flow": null,
            "grid_auto_rows": null,
            "grid_column": null,
            "grid_gap": null,
            "grid_row": null,
            "grid_template_areas": null,
            "grid_template_columns": null,
            "grid_template_rows": null,
            "height": null,
            "justify_content": null,
            "justify_items": null,
            "left": null,
            "margin": null,
            "max_height": null,
            "max_width": null,
            "min_height": null,
            "min_width": null,
            "object_fit": null,
            "object_position": null,
            "order": null,
            "overflow": null,
            "overflow_x": null,
            "overflow_y": null,
            "padding": null,
            "right": null,
            "top": null,
            "visibility": null,
            "width": null
          }
        },
        "01af9ea147164590aac60af6ce52e9f0": {
          "model_module": "@jupyter-widgets/controls",
          "model_name": "DescriptionStyleModel",
          "model_module_version": "1.5.0",
          "state": {
            "_model_module": "@jupyter-widgets/controls",
            "_model_module_version": "1.5.0",
            "_model_name": "DescriptionStyleModel",
            "_view_count": null,
            "_view_module": "@jupyter-widgets/base",
            "_view_module_version": "1.2.0",
            "_view_name": "StyleView",
            "description_width": ""
          }
        },
        "e687e063fc63427eaacc681a27d1405e": {
          "model_module": "@jupyter-widgets/base",
          "model_name": "LayoutModel",
          "model_module_version": "1.2.0",
          "state": {
            "_model_module": "@jupyter-widgets/base",
            "_model_module_version": "1.2.0",
            "_model_name": "LayoutModel",
            "_view_count": null,
            "_view_module": "@jupyter-widgets/base",
            "_view_module_version": "1.2.0",
            "_view_name": "LayoutView",
            "align_content": null,
            "align_items": null,
            "align_self": null,
            "border": null,
            "bottom": null,
            "display": null,
            "flex": null,
            "flex_flow": null,
            "grid_area": null,
            "grid_auto_columns": null,
            "grid_auto_flow": null,
            "grid_auto_rows": null,
            "grid_column": null,
            "grid_gap": null,
            "grid_row": null,
            "grid_template_areas": null,
            "grid_template_columns": null,
            "grid_template_rows": null,
            "height": null,
            "justify_content": null,
            "justify_items": null,
            "left": null,
            "margin": null,
            "max_height": null,
            "max_width": null,
            "min_height": null,
            "min_width": null,
            "object_fit": null,
            "object_position": null,
            "order": null,
            "overflow": null,
            "overflow_x": null,
            "overflow_y": null,
            "padding": null,
            "right": null,
            "top": null,
            "visibility": null,
            "width": null
          }
        },
        "3a25accd8ae240efb666780db65a8fee": {
          "model_module": "@jupyter-widgets/controls",
          "model_name": "ProgressStyleModel",
          "model_module_version": "1.5.0",
          "state": {
            "_model_module": "@jupyter-widgets/controls",
            "_model_module_version": "1.5.0",
            "_model_name": "ProgressStyleModel",
            "_view_count": null,
            "_view_module": "@jupyter-widgets/base",
            "_view_module_version": "1.2.0",
            "_view_name": "StyleView",
            "bar_color": null,
            "description_width": ""
          }
        },
        "21be22a236d14ec4bcb848726a34b8ce": {
          "model_module": "@jupyter-widgets/base",
          "model_name": "LayoutModel",
          "model_module_version": "1.2.0",
          "state": {
            "_model_module": "@jupyter-widgets/base",
            "_model_module_version": "1.2.0",
            "_model_name": "LayoutModel",
            "_view_count": null,
            "_view_module": "@jupyter-widgets/base",
            "_view_module_version": "1.2.0",
            "_view_name": "LayoutView",
            "align_content": null,
            "align_items": null,
            "align_self": null,
            "border": null,
            "bottom": null,
            "display": null,
            "flex": null,
            "flex_flow": null,
            "grid_area": null,
            "grid_auto_columns": null,
            "grid_auto_flow": null,
            "grid_auto_rows": null,
            "grid_column": null,
            "grid_gap": null,
            "grid_row": null,
            "grid_template_areas": null,
            "grid_template_columns": null,
            "grid_template_rows": null,
            "height": null,
            "justify_content": null,
            "justify_items": null,
            "left": null,
            "margin": null,
            "max_height": null,
            "max_width": null,
            "min_height": null,
            "min_width": null,
            "object_fit": null,
            "object_position": null,
            "order": null,
            "overflow": null,
            "overflow_x": null,
            "overflow_y": null,
            "padding": null,
            "right": null,
            "top": null,
            "visibility": null,
            "width": null
          }
        },
        "b67311d415874371a743b136a2f24f9a": {
          "model_module": "@jupyter-widgets/controls",
          "model_name": "DescriptionStyleModel",
          "model_module_version": "1.5.0",
          "state": {
            "_model_module": "@jupyter-widgets/controls",
            "_model_module_version": "1.5.0",
            "_model_name": "DescriptionStyleModel",
            "_view_count": null,
            "_view_module": "@jupyter-widgets/base",
            "_view_module_version": "1.2.0",
            "_view_name": "StyleView",
            "description_width": ""
          }
        },
        "52003e4a95f647bfb94284c1ec5c0e61": {
          "model_module": "@jupyter-widgets/controls",
          "model_name": "HBoxModel",
          "model_module_version": "1.5.0",
          "state": {
            "_dom_classes": [],
            "_model_module": "@jupyter-widgets/controls",
            "_model_module_version": "1.5.0",
            "_model_name": "HBoxModel",
            "_view_count": null,
            "_view_module": "@jupyter-widgets/controls",
            "_view_module_version": "1.5.0",
            "_view_name": "HBoxView",
            "box_style": "",
            "children": [
              "IPY_MODEL_b0aec886b54a48dcbc3703692ba6af9e",
              "IPY_MODEL_3466cc8880ff4c929920352f8c6ffe8f",
              "IPY_MODEL_8d004a4cca0f4b05ad5230fad475ff43"
            ],
            "layout": "IPY_MODEL_df4b6e0699cb4ce8870de22b1d8e771d"
          }
        },
        "b0aec886b54a48dcbc3703692ba6af9e": {
          "model_module": "@jupyter-widgets/controls",
          "model_name": "HTMLModel",
          "model_module_version": "1.5.0",
          "state": {
            "_dom_classes": [],
            "_model_module": "@jupyter-widgets/controls",
            "_model_module_version": "1.5.0",
            "_model_name": "HTMLModel",
            "_view_count": null,
            "_view_module": "@jupyter-widgets/controls",
            "_view_module_version": "1.5.0",
            "_view_name": "HTMLView",
            "description": "",
            "description_tooltip": null,
            "layout": "IPY_MODEL_68e0e50aac104d7d833bed8328267c23",
            "placeholder": "​",
            "style": "IPY_MODEL_d82f281427414eb690333a4f7267267f",
            "value": "adapter_model.safetensors: 100%"
          }
        },
        "3466cc8880ff4c929920352f8c6ffe8f": {
          "model_module": "@jupyter-widgets/controls",
          "model_name": "FloatProgressModel",
          "model_module_version": "1.5.0",
          "state": {
            "_dom_classes": [],
            "_model_module": "@jupyter-widgets/controls",
            "_model_module_version": "1.5.0",
            "_model_name": "FloatProgressModel",
            "_view_count": null,
            "_view_module": "@jupyter-widgets/controls",
            "_view_module_version": "1.5.0",
            "_view_name": "ProgressView",
            "bar_style": "success",
            "description": "",
            "description_tooltip": null,
            "layout": "IPY_MODEL_a21f4d9117bc46dd9f1fbd05148c0838",
            "max": 14176064,
            "min": 0,
            "orientation": "horizontal",
            "style": "IPY_MODEL_36f2e71310e34e629ced54726d257d33",
            "value": 14176064
          }
        },
        "8d004a4cca0f4b05ad5230fad475ff43": {
          "model_module": "@jupyter-widgets/controls",
          "model_name": "HTMLModel",
          "model_module_version": "1.5.0",
          "state": {
            "_dom_classes": [],
            "_model_module": "@jupyter-widgets/controls",
            "_model_module_version": "1.5.0",
            "_model_name": "HTMLModel",
            "_view_count": null,
            "_view_module": "@jupyter-widgets/controls",
            "_view_module_version": "1.5.0",
            "_view_name": "HTMLView",
            "description": "",
            "description_tooltip": null,
            "layout": "IPY_MODEL_bd5b4b523a154241b895d2d5b1475ae0",
            "placeholder": "​",
            "style": "IPY_MODEL_58672269396b4764a7d48998942bf074",
            "value": " 14.2M/14.2M [00:00&lt;00:00, 21.5MB/s]"
          }
        },
        "df4b6e0699cb4ce8870de22b1d8e771d": {
          "model_module": "@jupyter-widgets/base",
          "model_name": "LayoutModel",
          "model_module_version": "1.2.0",
          "state": {
            "_model_module": "@jupyter-widgets/base",
            "_model_module_version": "1.2.0",
            "_model_name": "LayoutModel",
            "_view_count": null,
            "_view_module": "@jupyter-widgets/base",
            "_view_module_version": "1.2.0",
            "_view_name": "LayoutView",
            "align_content": null,
            "align_items": null,
            "align_self": null,
            "border": null,
            "bottom": null,
            "display": null,
            "flex": null,
            "flex_flow": null,
            "grid_area": null,
            "grid_auto_columns": null,
            "grid_auto_flow": null,
            "grid_auto_rows": null,
            "grid_column": null,
            "grid_gap": null,
            "grid_row": null,
            "grid_template_areas": null,
            "grid_template_columns": null,
            "grid_template_rows": null,
            "height": null,
            "justify_content": null,
            "justify_items": null,
            "left": null,
            "margin": null,
            "max_height": null,
            "max_width": null,
            "min_height": null,
            "min_width": null,
            "object_fit": null,
            "object_position": null,
            "order": null,
            "overflow": null,
            "overflow_x": null,
            "overflow_y": null,
            "padding": null,
            "right": null,
            "top": null,
            "visibility": null,
            "width": null
          }
        },
        "68e0e50aac104d7d833bed8328267c23": {
          "model_module": "@jupyter-widgets/base",
          "model_name": "LayoutModel",
          "model_module_version": "1.2.0",
          "state": {
            "_model_module": "@jupyter-widgets/base",
            "_model_module_version": "1.2.0",
            "_model_name": "LayoutModel",
            "_view_count": null,
            "_view_module": "@jupyter-widgets/base",
            "_view_module_version": "1.2.0",
            "_view_name": "LayoutView",
            "align_content": null,
            "align_items": null,
            "align_self": null,
            "border": null,
            "bottom": null,
            "display": null,
            "flex": null,
            "flex_flow": null,
            "grid_area": null,
            "grid_auto_columns": null,
            "grid_auto_flow": null,
            "grid_auto_rows": null,
            "grid_column": null,
            "grid_gap": null,
            "grid_row": null,
            "grid_template_areas": null,
            "grid_template_columns": null,
            "grid_template_rows": null,
            "height": null,
            "justify_content": null,
            "justify_items": null,
            "left": null,
            "margin": null,
            "max_height": null,
            "max_width": null,
            "min_height": null,
            "min_width": null,
            "object_fit": null,
            "object_position": null,
            "order": null,
            "overflow": null,
            "overflow_x": null,
            "overflow_y": null,
            "padding": null,
            "right": null,
            "top": null,
            "visibility": null,
            "width": null
          }
        },
        "d82f281427414eb690333a4f7267267f": {
          "model_module": "@jupyter-widgets/controls",
          "model_name": "DescriptionStyleModel",
          "model_module_version": "1.5.0",
          "state": {
            "_model_module": "@jupyter-widgets/controls",
            "_model_module_version": "1.5.0",
            "_model_name": "DescriptionStyleModel",
            "_view_count": null,
            "_view_module": "@jupyter-widgets/base",
            "_view_module_version": "1.2.0",
            "_view_name": "StyleView",
            "description_width": ""
          }
        },
        "a21f4d9117bc46dd9f1fbd05148c0838": {
          "model_module": "@jupyter-widgets/base",
          "model_name": "LayoutModel",
          "model_module_version": "1.2.0",
          "state": {
            "_model_module": "@jupyter-widgets/base",
            "_model_module_version": "1.2.0",
            "_model_name": "LayoutModel",
            "_view_count": null,
            "_view_module": "@jupyter-widgets/base",
            "_view_module_version": "1.2.0",
            "_view_name": "LayoutView",
            "align_content": null,
            "align_items": null,
            "align_self": null,
            "border": null,
            "bottom": null,
            "display": null,
            "flex": null,
            "flex_flow": null,
            "grid_area": null,
            "grid_auto_columns": null,
            "grid_auto_flow": null,
            "grid_auto_rows": null,
            "grid_column": null,
            "grid_gap": null,
            "grid_row": null,
            "grid_template_areas": null,
            "grid_template_columns": null,
            "grid_template_rows": null,
            "height": null,
            "justify_content": null,
            "justify_items": null,
            "left": null,
            "margin": null,
            "max_height": null,
            "max_width": null,
            "min_height": null,
            "min_width": null,
            "object_fit": null,
            "object_position": null,
            "order": null,
            "overflow": null,
            "overflow_x": null,
            "overflow_y": null,
            "padding": null,
            "right": null,
            "top": null,
            "visibility": null,
            "width": null
          }
        },
        "36f2e71310e34e629ced54726d257d33": {
          "model_module": "@jupyter-widgets/controls",
          "model_name": "ProgressStyleModel",
          "model_module_version": "1.5.0",
          "state": {
            "_model_module": "@jupyter-widgets/controls",
            "_model_module_version": "1.5.0",
            "_model_name": "ProgressStyleModel",
            "_view_count": null,
            "_view_module": "@jupyter-widgets/base",
            "_view_module_version": "1.2.0",
            "_view_name": "StyleView",
            "bar_color": null,
            "description_width": ""
          }
        },
        "bd5b4b523a154241b895d2d5b1475ae0": {
          "model_module": "@jupyter-widgets/base",
          "model_name": "LayoutModel",
          "model_module_version": "1.2.0",
          "state": {
            "_model_module": "@jupyter-widgets/base",
            "_model_module_version": "1.2.0",
            "_model_name": "LayoutModel",
            "_view_count": null,
            "_view_module": "@jupyter-widgets/base",
            "_view_module_version": "1.2.0",
            "_view_name": "LayoutView",
            "align_content": null,
            "align_items": null,
            "align_self": null,
            "border": null,
            "bottom": null,
            "display": null,
            "flex": null,
            "flex_flow": null,
            "grid_area": null,
            "grid_auto_columns": null,
            "grid_auto_flow": null,
            "grid_auto_rows": null,
            "grid_column": null,
            "grid_gap": null,
            "grid_row": null,
            "grid_template_areas": null,
            "grid_template_columns": null,
            "grid_template_rows": null,
            "height": null,
            "justify_content": null,
            "justify_items": null,
            "left": null,
            "margin": null,
            "max_height": null,
            "max_width": null,
            "min_height": null,
            "min_width": null,
            "object_fit": null,
            "object_position": null,
            "order": null,
            "overflow": null,
            "overflow_x": null,
            "overflow_y": null,
            "padding": null,
            "right": null,
            "top": null,
            "visibility": null,
            "width": null
          }
        },
        "58672269396b4764a7d48998942bf074": {
          "model_module": "@jupyter-widgets/controls",
          "model_name": "DescriptionStyleModel",
          "model_module_version": "1.5.0",
          "state": {
            "_model_module": "@jupyter-widgets/controls",
            "_model_module_version": "1.5.0",
            "_model_name": "DescriptionStyleModel",
            "_view_count": null,
            "_view_module": "@jupyter-widgets/base",
            "_view_module_version": "1.2.0",
            "_view_name": "StyleView",
            "description_width": ""
          }
        }
      }
    }
  },
  "cells": [
    {
      "cell_type": "code",
      "execution_count": null,
      "metadata": {
        "id": "HtFPDtuOz6iU"
      },
      "outputs": [],
      "source": [
        "!pip install -q transformers datasets librosa evaluate jiwer gradio bitsandbytes accelerate"
      ]
    },
    {
      "cell_type": "code",
      "source": [
        "!pip install -U bitsandbytes"
      ],
      "metadata": {
        "colab": {
          "base_uri": "https://localhost:8080/"
        },
        "id": "z9RIv3YF7La1",
        "outputId": "dccc4564-13dd-422b-d5de-0e5cfc1562aa"
      },
      "execution_count": null,
      "outputs": [
        {
          "output_type": "stream",
          "name": "stdout",
          "text": [
            "Requirement already satisfied: bitsandbytes in /usr/local/lib/python3.10/dist-packages (0.37.0)\n",
            "Collecting bitsandbytes\n",
            "  Downloading bitsandbytes-0.44.1-py3-none-manylinux_2_24_x86_64.whl.metadata (3.5 kB)\n",
            "Requirement already satisfied: torch in /usr/local/lib/python3.10/dist-packages (from bitsandbytes) (2.4.1+cu121)\n",
            "Requirement already satisfied: numpy in /usr/local/lib/python3.10/dist-packages (from bitsandbytes) (1.26.4)\n",
            "Requirement already satisfied: filelock in /usr/local/lib/python3.10/dist-packages (from torch->bitsandbytes) (3.16.1)\n",
            "Requirement already satisfied: typing-extensions>=4.8.0 in /usr/local/lib/python3.10/dist-packages (from torch->bitsandbytes) (4.12.2)\n",
            "Requirement already satisfied: sympy in /usr/local/lib/python3.10/dist-packages (from torch->bitsandbytes) (1.13.3)\n",
            "Requirement already satisfied: networkx in /usr/local/lib/python3.10/dist-packages (from torch->bitsandbytes) (3.3)\n",
            "Requirement already satisfied: jinja2 in /usr/local/lib/python3.10/dist-packages (from torch->bitsandbytes) (3.1.4)\n",
            "Requirement already satisfied: fsspec in /usr/local/lib/python3.10/dist-packages (from torch->bitsandbytes) (2024.6.1)\n",
            "Requirement already satisfied: MarkupSafe>=2.0 in /usr/local/lib/python3.10/dist-packages (from jinja2->torch->bitsandbytes) (2.1.5)\n",
            "Requirement already satisfied: mpmath<1.4,>=1.1.0 in /usr/local/lib/python3.10/dist-packages (from sympy->torch->bitsandbytes) (1.3.0)\n",
            "Downloading bitsandbytes-0.44.1-py3-none-manylinux_2_24_x86_64.whl (122.4 MB)\n",
            "\u001b[2K   \u001b[90m━━━━━━━━━━━━━━━━━━━━━━━━━━━━━━━━━━━━━━━━\u001b[0m \u001b[32m122.4/122.4 MB\u001b[0m \u001b[31m18.1 MB/s\u001b[0m eta \u001b[36m0:00:00\u001b[0m\n",
            "\u001b[?25hInstalling collected packages: bitsandbytes\n",
            "  Attempting uninstall: bitsandbytes\n",
            "    Found existing installation: bitsandbytes 0.37.0\n",
            "    Uninstalling bitsandbytes-0.37.0:\n",
            "      Successfully uninstalled bitsandbytes-0.37.0\n",
            "Successfully installed bitsandbytes-0.44.1\n"
          ]
        }
      ]
    },
    {
      "cell_type": "code",
      "source": [
        "!pip install -q peft"
      ],
      "metadata": {
        "id": "XjgONhNx2W60"
      },
      "execution_count": null,
      "outputs": []
    },
    {
      "cell_type": "code",
      "source": [
        "from huggingface_hub import list_datasets\n",
        "from datasets import(load_dataset, DatasetDict, load_from_disk,\n",
        "                     Audio, IterableDatasetDict, Features, Value,\n",
        "                     Sequence, Dataset)\n",
        "import IPython.display as ipd\n",
        "from functools import partial"
      ],
      "metadata": {
        "id": "lIQoaBZB11zk"
      },
      "execution_count": null,
      "outputs": []
    },
    {
      "cell_type": "code",
      "source": [
        "voice_data = load_dataset(\"clt013/malay-speech-3k-rows-dataset_v2\", token=True)\n",
        "voice_data"
      ],
      "metadata": {
        "colab": {
          "base_uri": "https://localhost:8080/",
          "height": 351,
          "referenced_widgets": [
            "f3e76d6160624ef2ad1dba0775c07da7",
            "d8e136d490574669961371bee4b6cfb9",
            "acc8dd3e271d40408a81019879fb369f",
            "7b4eae5eb8874d01a57df0786ecdeae5",
            "801e88f692524289806cdf10f769662b",
            "f7c09240416d45dcbafa69cc2896a4b4",
            "acbd1b1430b64aeb91a6cd82c53e01ad",
            "fc8b7dac480d468e8debab7426ac6826",
            "ab4d08615fe44cba8a49145df8abd615",
            "09ac2f6e36bc492c88acd4f585d1e7ec",
            "7401d8d6ef4445c9b6a33fe8fb609adf",
            "e62308176ee04572aa01ed38e1352a7a",
            "abd044df836a4564a9867f8e72c2c9a8",
            "ab4adbc4ec3247caa39527b4f692c4e9",
            "a7c8661daf2f45c6ad042fd2230287ff",
            "d1c365f1264d4234a06f9437ffb2f4c4",
            "798b59c47dea4cda8f70acebf45873e5",
            "d91101b4a7e841b89a18bd2fe7273818",
            "adc07c669b6741e9818d5be90fa09ddd",
            "29407ef1fc2a4b26b603866e002b0f33",
            "c015a962f08e402183435e9895c7926e",
            "97a45ed6531e4a1e978e570bccefc7a1",
            "722d209a934f4a72bc4205911cb4143e",
            "4b1d91e0db1a455a82b41213517bdb2f",
            "8379e5b81dda445a962520083ae63b78",
            "e44e233358bc498b94a037af2b887b02",
            "f1761e2faf1b459d96000a517d812e8b",
            "a1fc0f0f81d248649b03b239aa643d24",
            "59359686bf884832ad850321545a4ada",
            "73ebc29cf37c4cff97b47d429152ea27",
            "75ea8cccd72f4914bfd30894d6f174eb",
            "37f07a4865a3468aa4ea6c6806f89248",
            "a754818c6cc64d92a238683d28504343",
            "08bdae065092413cbce8e7fea22bac86",
            "96abf5d3ccb64bc9a677d4df26cf7202",
            "8aadae2e1be14c829e3e3e6db4928aee",
            "4ba9ea02225e40cc961a97c981e55b10",
            "9ea71c161045413eb4e65e9e9713dcb1",
            "7534650e43604e8f9c0c6ec2d2d8f719",
            "865280f104ff40bfadddfd97e4f49687",
            "beac2188206b48868ce5b19a9e5b822a",
            "ffa9434babd6479a8b597b8de80d707e",
            "4bd0b41bcf8f4da190fcbfc53395a97c",
            "a7b4a63025f84ea2a885bb81e8c9a492",
            "311cbb4c54a24ba087abddfa78f00143",
            "1b152d64b1d2434f90946c14354a1ffa",
            "ea708543ecf04288ba6b737604c515b8",
            "b435b4f8d4784035b4285e76db0bbd32",
            "1437dd4ce0684688a2b8d7279dc1aea4",
            "97ac7dfdecff47a096bea8e483f4aa42",
            "c1a4fde0bb2740cc9ec4b02077cfbc58",
            "90167551d22a4b588bb2148b64eae4ce",
            "da35b26875494e38b1b3bc51358742fb",
            "7e56a2550a6e48a695532622babc0fc0",
            "2f4bfe103fe549a9a2752e58d6742748"
          ]
        },
        "id": "eWmg8Xao1Md3",
        "outputId": "7ce3633b-c807-486a-ce94-08efca65e279"
      },
      "execution_count": null,
      "outputs": [
        {
          "output_type": "display_data",
          "data": {
            "text/plain": [
              "README.md:   0%|          | 0.00/458 [00:00<?, ?B/s]"
            ],
            "application/vnd.jupyter.widget-view+json": {
              "version_major": 2,
              "version_minor": 0,
              "model_id": "f3e76d6160624ef2ad1dba0775c07da7"
            }
          },
          "metadata": {}
        },
        {
          "output_type": "display_data",
          "data": {
            "text/plain": [
              "train-00000-of-00001.parquet:   0%|          | 0.00/216M [00:00<?, ?B/s]"
            ],
            "application/vnd.jupyter.widget-view+json": {
              "version_major": 2,
              "version_minor": 0,
              "model_id": "e62308176ee04572aa01ed38e1352a7a"
            }
          },
          "metadata": {}
        },
        {
          "output_type": "display_data",
          "data": {
            "text/plain": [
              "test-00000-of-00001.parquet:   0%|          | 0.00/59.7M [00:00<?, ?B/s]"
            ],
            "application/vnd.jupyter.widget-view+json": {
              "version_major": 2,
              "version_minor": 0,
              "model_id": "722d209a934f4a72bc4205911cb4143e"
            }
          },
          "metadata": {}
        },
        {
          "output_type": "display_data",
          "data": {
            "text/plain": [
              "Generating train split:   0%|          | 0/2544 [00:00<?, ? examples/s]"
            ],
            "application/vnd.jupyter.widget-view+json": {
              "version_major": 2,
              "version_minor": 0,
              "model_id": "08bdae065092413cbce8e7fea22bac86"
            }
          },
          "metadata": {}
        },
        {
          "output_type": "display_data",
          "data": {
            "text/plain": [
              "Generating test split:   0%|          | 0/604 [00:00<?, ? examples/s]"
            ],
            "application/vnd.jupyter.widget-view+json": {
              "version_major": 2,
              "version_minor": 0,
              "model_id": "311cbb4c54a24ba087abddfa78f00143"
            }
          },
          "metadata": {}
        },
        {
          "output_type": "execute_result",
          "data": {
            "text/plain": [
              "DatasetDict({\n",
              "    train: Dataset({\n",
              "        features: ['sentence', 'audio'],\n",
              "        num_rows: 2544\n",
              "    })\n",
              "    test: Dataset({\n",
              "        features: ['sentence', 'audio'],\n",
              "        num_rows: 604\n",
              "    })\n",
              "})"
            ]
          },
          "metadata": {},
          "execution_count": 4
        }
      ]
    },
    {
      "cell_type": "code",
      "source": [
        "from transformers import WhisperProcessor\n",
        "model_name = \"openai/whisper-small\"\n",
        "language = \"malay\"\n",
        "task = \"transcribe\"\n",
        "processor = WhisperProcessor.from_pretrained(model_name, language=language, task=task)"
      ],
      "metadata": {
        "colab": {
          "base_uri": "https://localhost:8080/",
          "height": 322,
          "referenced_widgets": [
            "845132130e5f4b649d5134a9ff55775d",
            "e9d85bd04587485398144c219e16217e",
            "26abd68056b44653984fbfb880655ee4",
            "e7ea3d9c5deb4bcabfe103cf783b8e64",
            "347b0ac7040c4713a870ffb471baa7a5",
            "c986c2d00e7e47cda7caed36392f452a",
            "83f8d9a7b72c4979b8cf6c748ab8f673",
            "4dcfdf5c6f3a4a3189d894925e706c4c",
            "7c109866793747f7927fe17036caed84",
            "42c63cae35654d769187c5ce3b5d50a1",
            "a9f81d57d0f34ff9bb0bb419666fe419",
            "4919941e54bd4e73bc9fdf335d773e41",
            "f2c113d884c14bfb9b29f041292ece47",
            "707533a02133428bbd55e4014eb910f3",
            "745aa105f8af4955aaf98a2e64f9c27f",
            "49fc63ba7b3147049218c1f59f1fa41b",
            "dde45c0f85e447dba3a1a5b1b63bb893",
            "011fd6d7acb141598cbbd66bb376d54b",
            "1b1334de6f15449bbada751cb6a54cc1",
            "6eacb9bb2330426caa013b5fc5bd1d9f",
            "42a507f169654ee0916d11822135d560",
            "ded658f9cf9c4732ab45fef934bb8ba0",
            "999a59d8d281448793c15ffeefcde5c0",
            "9fd47b2265d8461ea253ebe523f92ac2",
            "af79b4b8dc0245d08e09c288bd2bfce7",
            "f3fe9c5467e542d69961b1f81bbc5274",
            "73d15c9cdabc48cea85415561b05a6af",
            "93964531094b480ca4809438db6cb78b",
            "ae3f688719e44c76a91b1a7139975db0",
            "27c839ad4bc748bf8e2f93d14adae96f",
            "1e6c0cee09884de39c7650639ad3b521",
            "018e4acd3f9946aaa0357593b2d74df2",
            "8ac2ab9f6222498f924b66250151d3ae",
            "7022ad753d814ebc8a9dafe23f06a5cf",
            "a3c69d02925e4ccf89d85b08b0f38535",
            "246220ad89f846388d0f1b75e2165921",
            "da8f6be9c258414b93a5fb9f0865c8d4",
            "52bec75e73904c5e9ec591a890c73faf",
            "95eecb516dbd464cbb57098e932c594c",
            "ba3dbb9c2f2041939702d4688d859f26",
            "83b3c56c0a8942d08d23248bc501cca8",
            "e993a940147f407dbf5e80b075debe37",
            "7716782fff10407f8e3f77a31872075a",
            "89fb18d125f04ea8ac1e5224cfa9ecc5",
            "b15039993ed2494f8c45e39aac768a1a",
            "a3ffcec237f148c8925126fdcb756d7e",
            "ab4966006f5149d5b9c1788ac632dee0",
            "dc220dc7d45841058b8edd4aabad86b9",
            "d9eeed1e7356486bbd826e9f06463c17",
            "7a78beb9d46449698765ea28102b0b3c",
            "bfc20972ba884e16abefea2c983fe396",
            "89edef19647d45ff90a1de6148459d8f",
            "a0379e4665ab439a86de0c0797b3ff3e",
            "2bc5b23a10af4ee1b14b250b4c8b2f74",
            "02565c09c5804c3aad00fe8f6c675f11",
            "b2c27181c0fb4dbfa39b1647af458c39",
            "3cfea349fc24410d8dab873ccc83fbc5",
            "5567e51368c94f1baccefe05ed06ca67",
            "bbf5ead62ed24f5bb633c051da47b52e",
            "b74219fe910e4d78a00f04754a62be5d",
            "4a7e2e394c94497dbf6b9ad938d34409",
            "c39e70b720d443f9b3c6499f8b265dcd",
            "8bc6217a14c1437399925e2b1c0f02c2",
            "5919aa00b4a546ae90f8387edeaac19a",
            "e4c153514c21452092cdf539aa7fffe4",
            "adb1538627b04a72a469455548ac44e0",
            "29ecb99d4f24400f92e8e01af3c9a4f9",
            "67abc82026244ed88a0c6562ec186223",
            "b3b0500528d64b26ae7b3ea284097d8f",
            "80c1b0f5587844ee8976088ed2067735",
            "cd2d144a265b4d2fa95b42d800f81382",
            "0fa2deb56ed246bcb334d29a0bb6034b",
            "6674545873d545628f74113f43447f90",
            "80e58b92e50f44a8af19332f083204e6",
            "f03d9bc2dfad4e75a56235a7ee7251b1",
            "14cf5fee026f4350ba431db3d5166918",
            "2bd0d6820e48484c90138fdb6a9ef30a",
            "e9740b6524484a1580793ee944a2a5bc",
            "025600ebc9924fd58ee1fd11ea751e28",
            "cf2c01f9450b4f46a12085837ac7cd4f",
            "9f4742e25fe54a039901065d2a35b1b1",
            "8e192fd4abd94d178a29f619d6e604e1",
            "0851f40575484fbe87bd33ecfb1e65cd",
            "4528269f97cf4d65b70a79c95eaf9b77",
            "02314d1d9763414797704f8a93428507",
            "1a7ce9c7882e44ba9d4d999ae7120ef5",
            "5b017b44f7f74ca5be121e9ebabf05e3",
            "b47e63837905423182172a7b8efba3ed",
            "94305600372e45838ff508b0a57f6652",
            "762de2abc9624bb89b3684dbf09522c3",
            "4defd4ebd6e648faa0cb6f7425420d49",
            "5f87fc520d3c40bb8ddd4528982c0cf4",
            "c07025366e154dbb9f3abc715c1dc506",
            "f53062fa3c5c488a8f735ebc7dd676a8",
            "276f7b5423f045e88548d405d58373b8",
            "8c7f0860847348a8b33705c50a9f233d",
            "1367f6f3bac84a5bb9b5aff133aec189",
            "1d9628bf6bd643a4bd0661e900cbcc95",
            "5caf2ea45df64fd48ceb190567c84332"
          ]
        },
        "id": "rT5hcA5m22Uc",
        "outputId": "1b4df9ce-a067-4c7e-e9cd-71c541a92423"
      },
      "execution_count": null,
      "outputs": [
        {
          "output_type": "stream",
          "name": "stderr",
          "text": [
            "The cache for model files in Transformers v4.22.0 has been updated. Migrating your old cache. This is a one-time only operation. You can interrupt this and resume the migration later on by calling `transformers.utils.move_cache()`.\n"
          ]
        },
        {
          "output_type": "display_data",
          "data": {
            "text/plain": [
              "0it [00:00, ?it/s]"
            ],
            "application/vnd.jupyter.widget-view+json": {
              "version_major": 2,
              "version_minor": 0,
              "model_id": "845132130e5f4b649d5134a9ff55775d"
            }
          },
          "metadata": {}
        },
        {
          "output_type": "display_data",
          "data": {
            "text/plain": [
              "preprocessor_config.json:   0%|          | 0.00/185k [00:00<?, ?B/s]"
            ],
            "application/vnd.jupyter.widget-view+json": {
              "version_major": 2,
              "version_minor": 0,
              "model_id": "4919941e54bd4e73bc9fdf335d773e41"
            }
          },
          "metadata": {}
        },
        {
          "output_type": "display_data",
          "data": {
            "text/plain": [
              "tokenizer_config.json:   0%|          | 0.00/283k [00:00<?, ?B/s]"
            ],
            "application/vnd.jupyter.widget-view+json": {
              "version_major": 2,
              "version_minor": 0,
              "model_id": "999a59d8d281448793c15ffeefcde5c0"
            }
          },
          "metadata": {}
        },
        {
          "output_type": "display_data",
          "data": {
            "text/plain": [
              "vocab.json:   0%|          | 0.00/836k [00:00<?, ?B/s]"
            ],
            "application/vnd.jupyter.widget-view+json": {
              "version_major": 2,
              "version_minor": 0,
              "model_id": "7022ad753d814ebc8a9dafe23f06a5cf"
            }
          },
          "metadata": {}
        },
        {
          "output_type": "display_data",
          "data": {
            "text/plain": [
              "tokenizer.json:   0%|          | 0.00/2.48M [00:00<?, ?B/s]"
            ],
            "application/vnd.jupyter.widget-view+json": {
              "version_major": 2,
              "version_minor": 0,
              "model_id": "b15039993ed2494f8c45e39aac768a1a"
            }
          },
          "metadata": {}
        },
        {
          "output_type": "display_data",
          "data": {
            "text/plain": [
              "merges.txt:   0%|          | 0.00/494k [00:00<?, ?B/s]"
            ],
            "application/vnd.jupyter.widget-view+json": {
              "version_major": 2,
              "version_minor": 0,
              "model_id": "b2c27181c0fb4dbfa39b1647af458c39"
            }
          },
          "metadata": {}
        },
        {
          "output_type": "display_data",
          "data": {
            "text/plain": [
              "normalizer.json:   0%|          | 0.00/52.7k [00:00<?, ?B/s]"
            ],
            "application/vnd.jupyter.widget-view+json": {
              "version_major": 2,
              "version_minor": 0,
              "model_id": "29ecb99d4f24400f92e8e01af3c9a4f9"
            }
          },
          "metadata": {}
        },
        {
          "output_type": "display_data",
          "data": {
            "text/plain": [
              "added_tokens.json:   0%|          | 0.00/34.6k [00:00<?, ?B/s]"
            ],
            "application/vnd.jupyter.widget-view+json": {
              "version_major": 2,
              "version_minor": 0,
              "model_id": "e9740b6524484a1580793ee944a2a5bc"
            }
          },
          "metadata": {}
        },
        {
          "output_type": "display_data",
          "data": {
            "text/plain": [
              "special_tokens_map.json:   0%|          | 0.00/2.19k [00:00<?, ?B/s]"
            ],
            "application/vnd.jupyter.widget-view+json": {
              "version_major": 2,
              "version_minor": 0,
              "model_id": "94305600372e45838ff508b0a57f6652"
            }
          },
          "metadata": {}
        }
      ]
    },
    {
      "cell_type": "code",
      "source": [
        "def prepare_dataset(batch):\n",
        "    # load audio\n",
        "    audio = batch[\"audio\"]\n",
        "\n",
        "    # compute log-Mel input features from input audio array\n",
        "    batch[\"input_features\"] = processor.feature_extractor(audio[\"array\"], sampling_rate=audio[\"sampling_rate\"]).input_features[0]\n",
        "\n",
        "    # compute input length of audio sample in seconds\n",
        "    batch[\"input_length\"] = len(audio[\"array\"]) / audio[\"sampling_rate\"]\n",
        "\n",
        "    # encode target text to label ids\n",
        "    batch[\"labels\"] = processor.tokenizer(batch[\"sentence\"]).input_ids\n",
        "    return batch\n",
        "\n",
        "\n",
        "\n",
        "def is_audio_in_length_range(length):\n",
        "    return 1.0 < length <= 30.0\n",
        "\n",
        "def prepare_dataset_done():\n",
        "  dt = voice_data.map(prepare_dataset,remove_columns=voice_data[\"train\"].column_names).with_format(\"torch\")\n",
        "  dt[\"train\"] = dt[\"train\"].filter(\n",
        "    is_audio_in_length_range,\n",
        "    input_columns=[\"input_length\"],\n",
        "  )\n",
        "  dt[\"test\"] = dt[\"test\"].filter(\n",
        "    is_audio_in_length_range,\n",
        "    input_columns=[\"input_length\"],\n",
        "  )\n",
        "  return dt"
      ],
      "metadata": {
        "id": "kvFQJHP93nWG"
      },
      "execution_count": null,
      "outputs": []
    },
    {
      "cell_type": "code",
      "source": [
        "voice_data_new = prepare_dataset_done()\n",
        "voice_data_new = voice_data_new.shuffle(seed=42)\n",
        "voice_data_new"
      ],
      "metadata": {
        "colab": {
          "base_uri": "https://localhost:8080/"
        },
        "id": "tqAj8bOf4Rat",
        "outputId": "07ddd2f1-0feb-414a-873c-9529c7d9cdaf"
      },
      "execution_count": null,
      "outputs": [
        {
          "output_type": "execute_result",
          "data": {
            "text/plain": [
              "DatasetDict({\n",
              "    train: Dataset({\n",
              "        features: ['input_features', 'input_length', 'labels'],\n",
              "        num_rows: 2139\n",
              "    })\n",
              "    test: Dataset({\n",
              "        features: ['input_features', 'input_length', 'labels'],\n",
              "        num_rows: 513\n",
              "    })\n",
              "})"
            ]
          },
          "metadata": {},
          "execution_count": 20
        }
      ]
    },
    {
      "cell_type": "code",
      "source": [
        "from transformers import WhisperForConditionalGeneration\n",
        "\n",
        "model = WhisperForConditionalGeneration.from_pretrained(model_name,  load_in_8bit=True, device_map=\"auto\")"
      ],
      "metadata": {
        "colab": {
          "base_uri": "https://localhost:8080/"
        },
        "id": "2pKAnDwD4_bT",
        "outputId": "c036b84d-423c-44ac-cc24-433e43229014"
      },
      "execution_count": null,
      "outputs": [
        {
          "output_type": "stream",
          "name": "stderr",
          "text": [
            "The `load_in_4bit` and `load_in_8bit` arguments are deprecated and will be removed in the future versions. Please, pass a `BitsAndBytesConfig` object in `quantization_config` argument instead.\n"
          ]
        }
      ]
    },
    {
      "cell_type": "code",
      "source": [
        "model.generation_config.language = \"malay\"\n",
        "model.generation_config.task = \"transcribe\"\n",
        "model.generation_config.forced_decoder_ids = None\n",
        "model.generation_config.suppress_tokens = []\n",
        "model.config.use_cache = False"
      ],
      "metadata": {
        "id": "pbOL92YN6xzq"
      },
      "execution_count": null,
      "outputs": []
    },
    {
      "cell_type": "code",
      "source": [
        "import torch\n",
        "\n",
        "from dataclasses import dataclass\n",
        "from typing import Any, Dict, List, Union\n",
        "\n",
        "@dataclass\n",
        "class DataCollatorSpeechSeq2SeqWithPadding:\n",
        "    processor: Any\n",
        "\n",
        "    def __call__(self, features: List[Dict[str, Union[List[int], torch.Tensor]]]) -> Dict[str, torch.Tensor]:\n",
        "        # split inputs and labels since they have to be of different lengths and need different padding methods\n",
        "        # first treat the audio inputs by simply returning torch tensors\n",
        "        input_features = [{\"input_features\": feature[\"input_features\"]} for feature in features]\n",
        "        batch = self.processor.feature_extractor.pad(input_features, return_tensors=\"pt\")\n",
        "        # get the tokenized label sequences\n",
        "        label_features = [{\"input_ids\": feature[\"labels\"]} for feature in features]\n",
        "        # pad the labels to max length\n",
        "        labels_batch = self.processor.tokenizer.pad(label_features, return_tensors=\"pt\")\n",
        "\n",
        "        # replace padding with -100 to ignore loss correctly\n",
        "        labels = labels_batch[\"input_ids\"].masked_fill(labels_batch.attention_mask.ne(1), -100)\n",
        "\n",
        "        # if bos token is appended in previous tokenization step,\n",
        "        # cut bos token here as it's append later anyways\n",
        "        if (labels[:, 0] == self.processor.tokenizer.bos_token_id).all().cpu().item():\n",
        "            labels = labels[:, 1:]\n",
        "\n",
        "        batch[\"labels\"] = labels\n",
        "\n",
        "        return batch"
      ],
      "metadata": {
        "id": "EQSEWGAP60mO"
      },
      "execution_count": null,
      "outputs": []
    },
    {
      "cell_type": "code",
      "source": [
        "data_collator = DataCollatorSpeechSeq2SeqWithPadding(processor=processor)"
      ],
      "metadata": {
        "id": "QTMg8g0V81F7"
      },
      "execution_count": null,
      "outputs": []
    },
    {
      "cell_type": "code",
      "source": [
        "import evaluate\n",
        "\n",
        "metric = evaluate.load(\"wer\")"
      ],
      "metadata": {
        "id": "4eHnAoa182yu"
      },
      "execution_count": null,
      "outputs": []
    },
    {
      "cell_type": "code",
      "source": [
        "import peft\n",
        "from peft import prepare_model_for_kbit_training\n",
        "\n",
        "model = prepare_model_for_kbit_training(model)"
      ],
      "metadata": {
        "id": "aZCcb1r7898I"
      },
      "execution_count": null,
      "outputs": []
    },
    {
      "cell_type": "code",
      "source": [
        "def make_inputs_require_grad(module, input, output):\n",
        "    output.requires_grad_(True)\n",
        "\n",
        "model.model.encoder.conv1.register_forward_hook(make_inputs_require_grad)"
      ],
      "metadata": {
        "colab": {
          "base_uri": "https://localhost:8080/"
        },
        "id": "aLE9tOk4_4XO",
        "outputId": "21ac64ec-756e-4ab8-8972-8ff9aa367389"
      },
      "execution_count": null,
      "outputs": [
        {
          "output_type": "execute_result",
          "data": {
            "text/plain": [
              "<torch.utils.hooks.RemovableHandle at 0x7b9b00a73f10>"
            ]
          },
          "metadata": {},
          "execution_count": 75
        }
      ]
    },
    {
      "cell_type": "code",
      "source": [
        "from peft import LoraConfig, PeftModel, LoraModel, LoraConfig, get_peft_model\n",
        "\n",
        "config = LoraConfig(r=32, lora_alpha=64, target_modules=[\"q_proj\", \"v_proj\"], lora_dropout=0.05, bias=\"none\")\n",
        "\n",
        "model = get_peft_model(model, config)\n",
        "model.print_trainable_parameters()"
      ],
      "metadata": {
        "colab": {
          "base_uri": "https://localhost:8080/"
        },
        "id": "gUU_8kqVABnO",
        "outputId": "bbe191ef-9814-460c-cba4-866ea7d47705"
      },
      "execution_count": null,
      "outputs": [
        {
          "output_type": "stream",
          "name": "stdout",
          "text": [
            "trainable params: 3,538,944 || all params: 245,273,856 || trainable%: 1.4429\n"
          ]
        }
      ]
    },
    {
      "cell_type": "code",
      "source": [
        "!rm -rf \"./whisper-small-ft-malay-peft-v1\""
      ],
      "metadata": {
        "id": "l9Qb4VNSOxlY"
      },
      "execution_count": null,
      "outputs": []
    },
    {
      "cell_type": "code",
      "source": [
        "from transformers import Seq2SeqTrainingArguments\n",
        "\n",
        "training_args = Seq2SeqTrainingArguments(\n",
        "    output_dir=\"./whisper-small-ft-malay-peft-v2\",  # change to a repo name of your choice\n",
        "    per_device_train_batch_size=8,\n",
        "    gradient_accumulation_steps=1,  # increase by 2x for every 2x decrease in batch size\n",
        "    learning_rate=1e-03,\n",
        "    warmup_steps=100,\n",
        "    num_train_epochs=3,\n",
        "    fp16=True,\n",
        "    eval_strategy=\"steps\",\n",
        "    per_device_eval_batch_size=8,\n",
        "    generation_max_length=128,\n",
        "    # save_steps=1000,\n",
        "    # eval_steps=1000,\n",
        "    logging_steps=100,\n",
        "    report_to=[\"tensorboard\"],\n",
        "    remove_unused_columns=False,\n",
        "    label_names=[\"labels\"]\n",
        ")"
      ],
      "metadata": {
        "id": "Y_BcaRgBAQ5p"
      },
      "execution_count": null,
      "outputs": []
    },
    {
      "cell_type": "code",
      "source": [
        "from transformers import Seq2SeqTrainer, TrainerCallback, TrainingArguments, TrainerState, TrainerControl\n",
        "from transformers.trainer_utils import PREFIX_CHECKPOINT_DIR\n",
        "import os\n",
        "\n",
        "# This callback helps to save only the adapter weights and remove the base model weights.\n",
        "class SavePeftModelCallback(TrainerCallback):\n",
        "    def on_save(\n",
        "        self,\n",
        "        args: TrainingArguments,\n",
        "        state: TrainerState,\n",
        "        control: TrainerControl,\n",
        "        **kwargs,\n",
        "    ):\n",
        "        checkpoint_folder = os.path.join(args.output_dir, f\"{PREFIX_CHECKPOINT_DIR}-{state.global_step}\")\n",
        "\n",
        "        peft_model_path = os.path.join(checkpoint_folder, \"adapter_model\")\n",
        "        kwargs[\"model\"].save_pretrained(peft_model_path)\n",
        "\n",
        "        pytorch_model_path = os.path.join(checkpoint_folder, \"pytorch_model.bin\")\n",
        "        if os.path.exists(pytorch_model_path):\n",
        "            os.remove(pytorch_model_path)\n",
        "        return control\n",
        "\n",
        "trainer = Seq2SeqTrainer(\n",
        "    args=training_args,\n",
        "    model=model,\n",
        "    train_dataset=voice_data_new[\"train\"],\n",
        "    eval_dataset=voice_data_new[\"test\"],\n",
        "    data_collator=data_collator,\n",
        "    tokenizer=processor.feature_extractor,\n",
        "    callbacks=[SavePeftModelCallback],\n",
        ")"
      ],
      "metadata": {
        "colab": {
          "base_uri": "https://localhost:8080/"
        },
        "id": "Fum_QcAvDsFs",
        "outputId": "3ff4ffad-8fd2-48d3-fb35-8a8caac801ec"
      },
      "execution_count": null,
      "outputs": [
        {
          "output_type": "stream",
          "name": "stderr",
          "text": [
            "/usr/local/lib/python3.10/dist-packages/accelerate/accelerator.py:494: FutureWarning: `torch.cuda.amp.GradScaler(args...)` is deprecated. Please use `torch.amp.GradScaler('cuda', args...)` instead.\n",
            "  self.scaler = torch.cuda.amp.GradScaler(**kwargs)\n"
          ]
        }
      ]
    },
    {
      "cell_type": "code",
      "source": [
        "trainer.train()"
      ],
      "metadata": {
        "colab": {
          "base_uri": "https://localhost:8080/",
          "height": 589
        },
        "id": "wu2wIxDgEspQ",
        "outputId": "11334c06-51ed-407d-bdc3-c02feece5182"
      },
      "execution_count": null,
      "outputs": [
        {
          "output_type": "stream",
          "name": "stderr",
          "text": [
            "/usr/local/lib/python3.10/dist-packages/torch/_dynamo/eval_frame.py:600: UserWarning: torch.utils.checkpoint: the use_reentrant parameter should be passed explicitly. In version 2.4 we will raise an exception if use_reentrant is not passed. use_reentrant=False is recommended, but if you need to preserve the current default behavior, you can pass use_reentrant=True. Refer to docs for more details on the differences between the two variants.\n",
            "  return fn(*args, **kwargs)\n",
            "/usr/local/lib/python3.10/dist-packages/bitsandbytes/autograd/_functions.py:316: UserWarning: MatMul8bitLt: inputs will be cast from torch.float32 to float16 during quantization\n",
            "  warnings.warn(f\"MatMul8bitLt: inputs will be cast from {A.dtype} to float16 during quantization\")\n",
            "/usr/local/lib/python3.10/dist-packages/torch/utils/checkpoint.py:295: FutureWarning: `torch.cpu.amp.autocast(args...)` is deprecated. Please use `torch.amp.autocast('cpu', args...)` instead.\n",
            "  with torch.enable_grad(), device_autocast_ctx, torch.cpu.amp.autocast(**ctx.cpu_autocast_kwargs):  # type: ignore[attr-defined]\n"
          ]
        },
        {
          "output_type": "display_data",
          "data": {
            "text/plain": [
              "<IPython.core.display.HTML object>"
            ],
            "text/html": [
              "\n",
              "    <div>\n",
              "      \n",
              "      <progress value='804' max='804' style='width:300px; height:20px; vertical-align: middle;'></progress>\n",
              "      [804/804 28:28, Epoch 3/3]\n",
              "    </div>\n",
              "    <table border=\"1\" class=\"dataframe\">\n",
              "  <thead>\n",
              " <tr style=\"text-align: left;\">\n",
              "      <th>Step</th>\n",
              "      <th>Training Loss</th>\n",
              "      <th>Validation Loss</th>\n",
              "    </tr>\n",
              "  </thead>\n",
              "  <tbody>\n",
              "    <tr>\n",
              "      <td>100</td>\n",
              "      <td>2.100100</td>\n",
              "      <td>0.840708</td>\n",
              "    </tr>\n",
              "    <tr>\n",
              "      <td>200</td>\n",
              "      <td>0.730500</td>\n",
              "      <td>0.787892</td>\n",
              "    </tr>\n",
              "    <tr>\n",
              "      <td>300</td>\n",
              "      <td>0.615000</td>\n",
              "      <td>0.740082</td>\n",
              "    </tr>\n",
              "    <tr>\n",
              "      <td>400</td>\n",
              "      <td>0.436400</td>\n",
              "      <td>0.712580</td>\n",
              "    </tr>\n",
              "    <tr>\n",
              "      <td>500</td>\n",
              "      <td>0.395100</td>\n",
              "      <td>0.677210</td>\n",
              "    </tr>\n",
              "    <tr>\n",
              "      <td>600</td>\n",
              "      <td>0.242800</td>\n",
              "      <td>0.664871</td>\n",
              "    </tr>\n",
              "    <tr>\n",
              "      <td>700</td>\n",
              "      <td>0.185000</td>\n",
              "      <td>0.642594</td>\n",
              "    </tr>\n",
              "    <tr>\n",
              "      <td>800</td>\n",
              "      <td>0.178100</td>\n",
              "      <td>0.633642</td>\n",
              "    </tr>\n",
              "  </tbody>\n",
              "</table><p>"
            ]
          },
          "metadata": {}
        },
        {
          "output_type": "stream",
          "name": "stderr",
          "text": [
            "/usr/local/lib/python3.10/dist-packages/torch/_dynamo/eval_frame.py:600: UserWarning: torch.utils.checkpoint: the use_reentrant parameter should be passed explicitly. In version 2.4 we will raise an exception if use_reentrant is not passed. use_reentrant=False is recommended, but if you need to preserve the current default behavior, you can pass use_reentrant=True. Refer to docs for more details on the differences between the two variants.\n",
            "  return fn(*args, **kwargs)\n",
            "/usr/local/lib/python3.10/dist-packages/bitsandbytes/autograd/_functions.py:316: UserWarning: MatMul8bitLt: inputs will be cast from torch.float32 to float16 during quantization\n",
            "  warnings.warn(f\"MatMul8bitLt: inputs will be cast from {A.dtype} to float16 during quantization\")\n",
            "/usr/local/lib/python3.10/dist-packages/torch/utils/checkpoint.py:295: FutureWarning: `torch.cpu.amp.autocast(args...)` is deprecated. Please use `torch.amp.autocast('cpu', args...)` instead.\n",
            "  with torch.enable_grad(), device_autocast_ctx, torch.cpu.amp.autocast(**ctx.cpu_autocast_kwargs):  # type: ignore[attr-defined]\n"
          ]
        },
        {
          "output_type": "execute_result",
          "data": {
            "text/plain": [
              "TrainOutput(global_step=804, training_loss=0.6082433417661867, metrics={'train_runtime': 1710.2405, 'train_samples_per_second': 3.752, 'train_steps_per_second': 0.47, 'total_flos': 1.88455405510656e+18, 'train_loss': 0.6082433417661867, 'epoch': 3.0})"
            ]
          },
          "metadata": {},
          "execution_count": 79
        }
      ]
    },
    {
      "cell_type": "code",
      "source": [
        "kwargs = {\n",
        "    \"dataset_tags\": \"clt013/malay-speech-3k-rows-dataset_v2\",\n",
        "    \"dataset\": \"Malay Speech 3k\",  # a 'pretty' name for the training dataset\n",
        "    \"language\": \"ms\",\n",
        "    \"model_name\": \"Whisper Small FT Malay - CLT013\",  # a 'pretty' name for your model\n",
        "    \"finetuned_from\": model_name,\n",
        "    \"tasks\": \"automatic-speech-recognition\",\n",
        "}\n",
        "trainer.push_to_hub(**kwargs)\n",
        "repo_id = \"clt013/whisper-small-ft-malay-peft-v1\"\n",
        "model.push_to_hub(repo_id)"
      ],
      "metadata": {
        "colab": {
          "base_uri": "https://localhost:8080/",
          "height": 171,
          "referenced_widgets": [
            "614c4464e52d4238b39a142b62562a2e",
            "95c67d263d4e4a12bdd9df5c44abe48e",
            "c4463957f1e7427080c5e8e594680f54",
            "bce25c04ef3445c28397b751454a472d",
            "4c03fdd318e44cf09db469e8ad183451",
            "6923c787859d41dfb8715d313275e54d",
            "bd3def7af6ce465fa9a7464b13e2d9ad",
            "ef484f628086471b8a79e70800576533",
            "382a4ab4e76d498aab7cacd62dbde76b",
            "36eeac87018b48b2b94c3871d97cd0dc",
            "bc01c8b5cf7a49abb32c32a50ad4f357"
          ]
        },
        "id": "vKQcyprJH8Rk",
        "outputId": "635828b5-a2c7-4f9b-f0cc-0cadb7a79c7a"
      },
      "execution_count": null,
      "outputs": [
        {
          "output_type": "stream",
          "name": "stderr",
          "text": [
            "No files have been modified since last commit. Skipping to prevent empty commit.\n",
            "WARNING:huggingface_hub.hf_api:No files have been modified since last commit. Skipping to prevent empty commit.\n"
          ]
        },
        {
          "output_type": "display_data",
          "data": {
            "text/plain": [
              "README.md:   0%|          | 0.00/1.87k [00:00<?, ?B/s]"
            ],
            "application/vnd.jupyter.widget-view+json": {
              "version_major": 2,
              "version_minor": 0,
              "model_id": "614c4464e52d4238b39a142b62562a2e"
            }
          },
          "metadata": {}
        },
        {
          "output_type": "stream",
          "name": "stderr",
          "text": [
            "No files have been modified since last commit. Skipping to prevent empty commit.\n",
            "WARNING:huggingface_hub.hf_api:No files have been modified since last commit. Skipping to prevent empty commit.\n"
          ]
        },
        {
          "output_type": "execute_result",
          "data": {
            "text/plain": [
              "CommitInfo(commit_url='https://huggingface.co/clt013/whisper-small-ft-malay-peft-v1/commit/d1899b800d25a51ae966dcb5db455aae17809b25', commit_message='Upload model', commit_description='', oid='d1899b800d25a51ae966dcb5db455aae17809b25', pr_url=None, pr_revision=None, pr_num=None)"
            ],
            "application/vnd.google.colaboratory.intrinsic+json": {
              "type": "string"
            }
          },
          "metadata": {},
          "execution_count": 86
        }
      ]
    },
    {
      "cell_type": "code",
      "source": [
        "from peft import PeftModel, PeftConfig\n",
        "from transformers import WhisperForConditionalGeneration, Seq2SeqTrainer\n",
        "\n",
        "peft_model_id = \"clt013/whisper-small-ft-malay-peft-v1\"\n",
        "peft_config = PeftConfig.from_pretrained(peft_model_id)\n",
        "model_loaded = WhisperForConditionalGeneration.from_pretrained(\n",
        "    peft_config.base_model_name_or_path, load_in_8bit=True, device_map=\"auto\"\n",
        ")\n",
        "model_loaded = PeftModel.from_pretrained(model_loaded, peft_model_id)"
      ],
      "metadata": {
        "colab": {
          "base_uri": "https://localhost:8080/",
          "height": 118,
          "referenced_widgets": [
            "b35024c9014a4c3fa16da462576ef1f8",
            "f81446de7cf444229f660be9c17ed726",
            "0e424c23ef8b43bbb6db1d2b5ceef215",
            "6ef801d372d448db839f16f04c548154",
            "abfdfc0548c143f4a28a71d58e55eda0",
            "9283b32534d5495493d5b76bb083d0bd",
            "01af9ea147164590aac60af6ce52e9f0",
            "e687e063fc63427eaacc681a27d1405e",
            "3a25accd8ae240efb666780db65a8fee",
            "21be22a236d14ec4bcb848726a34b8ce",
            "b67311d415874371a743b136a2f24f9a",
            "52003e4a95f647bfb94284c1ec5c0e61",
            "b0aec886b54a48dcbc3703692ba6af9e",
            "3466cc8880ff4c929920352f8c6ffe8f",
            "8d004a4cca0f4b05ad5230fad475ff43",
            "df4b6e0699cb4ce8870de22b1d8e771d",
            "68e0e50aac104d7d833bed8328267c23",
            "d82f281427414eb690333a4f7267267f",
            "a21f4d9117bc46dd9f1fbd05148c0838",
            "36f2e71310e34e629ced54726d257d33",
            "bd5b4b523a154241b895d2d5b1475ae0",
            "58672269396b4764a7d48998942bf074"
          ]
        },
        "id": "K-NaxnMagqFv",
        "outputId": "3a9b94b4-9e55-4398-8bc8-50a770024c1c"
      },
      "execution_count": null,
      "outputs": [
        {
          "output_type": "display_data",
          "data": {
            "text/plain": [
              "adapter_config.json:   0%|          | 0.00/795 [00:00<?, ?B/s]"
            ],
            "application/vnd.jupyter.widget-view+json": {
              "version_major": 2,
              "version_minor": 0,
              "model_id": "b35024c9014a4c3fa16da462576ef1f8"
            }
          },
          "metadata": {}
        },
        {
          "output_type": "stream",
          "name": "stderr",
          "text": [
            "The `load_in_4bit` and `load_in_8bit` arguments are deprecated and will be removed in the future versions. Please, pass a `BitsAndBytesConfig` object in `quantization_config` argument instead.\n"
          ]
        },
        {
          "output_type": "display_data",
          "data": {
            "text/plain": [
              "adapter_model.safetensors:   0%|          | 0.00/14.2M [00:00<?, ?B/s]"
            ],
            "application/vnd.jupyter.widget-view+json": {
              "version_major": 2,
              "version_minor": 0,
              "model_id": "52003e4a95f647bfb94284c1ec5c0e61"
            }
          },
          "metadata": {}
        }
      ]
    },
    {
      "cell_type": "code",
      "source": [
        "from torch.utils.data import DataLoader\n",
        "from tqdm import tqdm\n",
        "import numpy as np\n",
        "import gc\n",
        "\n",
        "eval_dataloader = DataLoader(voice_data_new[\"test\"], batch_size=8, collate_fn=data_collator)\n",
        "\n",
        "model.eval()\n",
        "for step, batch in enumerate(tqdm(eval_dataloader)):\n",
        "    with torch.cuda.amp.autocast():\n",
        "        with torch.no_grad():\n",
        "            generated_tokens = (\n",
        "                model.generate(\n",
        "                    input_features=batch[\"input_features\"].to(\"cuda\"),\n",
        "                    decoder_input_ids=batch[\"labels\"][:, :4].to(\"cuda\"),\n",
        "                    max_new_tokens=255,\n",
        "                )\n",
        "                .cpu()\n",
        "                .numpy()\n",
        "            )\n",
        "            labels = batch[\"labels\"].cpu().numpy()\n",
        "            labels = np.where(labels != -100, labels, processor.tokenizer.pad_token_id)\n",
        "            decoded_preds = processor.tokenizer.batch_decode(generated_tokens, skip_special_tokens=True)\n",
        "            decoded_labels = processor.tokenizer.batch_decode(labels, skip_special_tokens=True)\n",
        "            metric.add_batch(\n",
        "                predictions=decoded_preds,\n",
        "                references=decoded_labels,\n",
        "            )\n",
        "            print(step)\n",
        "            print(decoded_preds)\n",
        "            print(decoded_labels)\n",
        "    del generated_tokens, labels, batch\n",
        "    gc.collect()\n",
        "wer = 100 * metric.compute()\n",
        "print(f\"{wer=}\")\n"
      ],
      "metadata": {
        "colab": {
          "base_uri": "https://localhost:8080/"
        },
        "id": "GzTbePv6i-WF",
        "outputId": "55813b7d-5101-4a34-9ee5-9898568baa01"
      },
      "execution_count": null,
      "outputs": [
        {
          "output_type": "stream",
          "name": "stderr",
          "text": [
            "\r  0%|          | 0/65 [00:00<?, ?it/s]<ipython-input-90-d2fde27b1a1a>:10: FutureWarning: `torch.cuda.amp.autocast(args...)` is deprecated. Please use `torch.amp.autocast('cuda', args...)` instead.\n",
            "  with torch.cuda.amp.autocast():\n",
            "/usr/local/lib/python3.10/dist-packages/bitsandbytes/autograd/_functions.py:316: UserWarning: MatMul8bitLt: inputs will be cast from torch.float32 to float16 during quantization\n",
            "  warnings.warn(f\"MatMul8bitLt: inputs will be cast from {A.dtype} to float16 during quantization\")\n"
          ]
        },
        {
          "output_type": "stream",
          "name": "stdout",
          "text": [
            "0\n",
            "['ah', 'H P Laita H P M', 'tarik tarik', 'sebab huawai pun centre sini kurang kan kalau macam Samsung', 'badminton so lah cantuk badminton', 'kegemaran aku', 'menyalakkan daripada masalah masalah ni berlaku lah macam ah kesihatan kecemanya semua ni sebab dia sangat bahaya lah sebab', 'kemulian boleh beraku dia dalam family']\n",
            "['ah', 'H H P laptop H P tu', 'tarik tarik', 'sebab Huawei pun centre sini kurang kan kalau macam Samsung', 'badminton sudah tentu', 'kegemaran aku', 'mengelakkan daripada masalah-masalah ni berlakulah macam ah kesihatan kencing manis semua ni sebab dia sangat berbahaya la sebab', 'kemurungan boleh berlaku di dalam family']\n"
          ]
        },
        {
          "output_type": "stream",
          "name": "stderr",
          "text": [
            "\r  2%|▏         | 1/65 [00:05<06:19,  5.93s/it]"
          ]
        },
        {
          "output_type": "stream",
          "name": "stdout",
          "text": [
            "1\n",
            "['kalau nak makan tu memilih so aku macam tak tahu sangat pasal makanan ni', 'tusai ni kaya dengan kabur hijat protein', 'oh', 'kena ada banyak macam isis itu kan banyak dunia ni', 'makanan ni', 'hm hm okey nanti kalau', 'yang untuk makan makanan makan besar tu kan', 'ah boleh awak tahu bagitahu lah apa sebab ah adik saya terkena demam tersebut apa bila bermain [UNK] bermain di hujan']\n",
            "['kalau nak makan tu memilih so aku macam tak tahu sangat pasal makanan ni', 'tosai ni kaya dengan karbohidrat protein', 'oh', 'kan ada banyak macam [UNK] situ kan banyak dia punya ni', 'makanan eh', 'um um okey nanti kalau', 'yang untuk makan makanan makan besar tu kan', 'ah boleh awak tahu bagitahu lah apa sebab ah adik saya terkena demam tersebut apabila bermain bermandi hujan']\n"
          ]
        },
        {
          "output_type": "stream",
          "name": "stderr",
          "text": [
            "\r  3%|▎         | 2/65 [00:11<06:16,  5.97s/it]"
          ]
        },
        {
          "output_type": "stream",
          "name": "stdout",
          "text": [
            "2\n",
            "['dia macam dia macam istimew- istimew lah sebab dia dia di pahayu dengan', 'apa rasa putum ayam tu', 'kalau macam mahal kau', 'ah sebabkan dua', 'ia ramai yang tak banyak tentang berenang', 'tu boleh buat keburukan yang ni ah besar tapi kebaikan dia banyak yuk ke berkira satu benda ni terima negasinya kebaikan keburukan ah', 'teres lah sebab tu suka makan makanan pedas', 'banyak betul eh makanan']\n",
            "['dia macam dia macam istime-istimewa la sebab dia dia di balut dengan', 'apa rasa putu mayam tu', 'kalau macam mahal ke', 'ah sebab kedua', 'ya ramai yang tak minat tentang berenang', 'tu boleh bawa keburukan yang ni la besar tapi kebaikan nya banyak juga dia kira benda satu benda ni telekomunikasi ni ada kebaikan dan keburukan ah', 'stress la sebab tu suka makan makanan pedas', 'banyak betul eh makanan']\n"
          ]
        },
        {
          "output_type": "stream",
          "name": "stderr",
          "text": [
            "\r  5%|▍         | 3/65 [00:17<06:11,  6.00s/it]"
          ]
        },
        {
          "output_type": "stream",
          "name": "stdout",
          "text": [
            "3\n",
            "['satu benda tu dia bantul-bantul [UNK] game dalam dalam kalau macam kat phone yang kita carikan dia pergi fakta eh lepas tu kita kena buat sendiri lah', 'cakri wow', 'dia macam telab cakap dia macam kau', 'dan bisa melepas tu', 'sebab aku pun belum belum pernah mulakan tau kan', 'so', 'inti dia mesti tebal lah kalau tak tebal macam tak sedap sangat lah daripada', 'okey ah kamu juga begitu ya sebab kita tak nak negara kita terjenjaskan kita nak macam negara kita hidup dengan negara dengan aman dengan siap ah berpunyai']\n",
            "['satu benda tu lepas tu dia bagi dalam dalam kalau kita cari dekat telefon an dia bagi fakta lain lepastu kita kena buat sendiri la', 'Chakris wow', 'dia macam tadi lah aku cakap macam kau', 'daun pisang lepas tu', 'sebab aku pun belum belum pernah guna laptop kan', 'so', 'inti dia mesti tebal lah kalau tak tebal macam tak sedap sangat lah daripada', 'okay ah kamu juga begitu ya sebab kita tak nak negara kita terjejas kan kita nak macam negara kita hidup dengan [UNK] dengan aman dengan sihat ah mempunyai']\n"
          ]
        },
        {
          "output_type": "stream",
          "name": "stderr",
          "text": [
            "\r  6%|▌         | 4/65 [00:24<06:22,  6.26s/it]"
          ]
        },
        {
          "output_type": "stream",
          "name": "stdout",
          "text": [
            "4\n",
            "['ya macam', 'saya minat', 'tapi aku tengah tengah internet ni sebab aku telefon aku rosak so akan jadi telefon yang baru', 'dia tak perlu ah', 'canon lah canon sebab aku biasanya tengok kan kalau orang gambar [UNK] cantik cantik semua biasanya canon lah sebab canon pun dia nama', 'bada kalis kaya', 'oh sedap rasa dia', 'ha nasi demak ke']\n",
            "['sekejap macam', 'saya minat', 'tapi aku tengah tengok-tengok Internet ni sebab aku telefon aku rosak so kena cari telefon yang baru', 'dia tak perlu ah', 'Canon ah Canon sebab aku biasa tengok en kalau orang ambil gambar cantik cantik semua biasa Canon ah', 'manakala saya', 'oh sedap rasa dia', 'ah nasi lemak ke']\n"
          ]
        },
        {
          "output_type": "stream",
          "name": "stderr",
          "text": [
            "\r  8%|▊         | 5/65 [00:30<06:15,  6.26s/it]"
          ]
        },
        {
          "output_type": "stream",
          "name": "stdout",
          "text": [
            "5\n",
            "['dia terpaksa', 'siapa mesti ikliman', 'dia diri sendiri oh masyarakat ah', 'apa yang awak tahu tentang sukan', 'putu mayam', 'tak nak kursi ke', 'tapi macam mana kita nak membeber ah kerajaan kerajaan perlu lelaki tidak kan sebab raya dia sendiri kan kalau tak dari raya dia macam mana ah negara nak pembangkai ekonomi macam mana ah', 'dia dia dibalut dengan ah apa tu']\n",
            "['dia terpaksa', 'setiap apa mesti ada kelemahan', 'diri sendiri oh masyarakat lah', 'apa yang awak tahu tentang sukan', 'putu mayam', 'tak nak kongsi ke', 'ah tapi macam mana ek kita nak membe- ah kerajaan-kerajaan perlulah ambil tindakan sebab rakyat dia sendiri kan kalau tak ada rakyat dia macam mana ah negara nak kembangkan ekonomi macam mana en ah', 'di-dia dibalut dengan ah apa tu']\n"
          ]
        },
        {
          "output_type": "stream",
          "name": "stderr",
          "text": [
            "\r  9%|▉         | 6/65 [00:38<06:44,  6.85s/it]"
          ]
        },
        {
          "output_type": "stream",
          "name": "stdout",
          "text": [
            "6\n",
            "['contohnya kita garbung jogging yang puluh empat untuk [UNK] untuk', 'kimber jantik', 'oh', 'penah macam jiran aku lah dia ada seorang ah macam tu', 'izotik tu ah apa ya izotik', 'tapi ah dia macam kena seimbangkan macam dia la makan dalam dalan ni mestilah dia kena makan yang dia sihat la macam tu lah', 'so tu je lah', 'kau pergi lah']\n",
            "['contohnya kita gabung joging campur lompat untuk [UNK] untuk', 'kamera cantik', 'so', 'pernah macam jiran aku lah dia ada seorang lah macam tu', 'eksotik tu ah apa ya eksotik', 'tapi ah dia macam kena seimbangkan lah macam dia dah makan benda alah ni mestilah dia kena makan yang benda sihat macam tu lah', 'so tu je lah', 'kau pergilah']\n"
          ]
        },
        {
          "output_type": "stream",
          "name": "stderr",
          "text": [
            "\r 11%|█         | 7/65 [00:44<06:08,  6.36s/it]"
          ]
        },
        {
          "output_type": "stream",
          "name": "stdout",
          "text": [
            "7\n",
            "['tapi ah macam keluarga saya ni dia mempunyai satu satu pakcik tau pakcik ni dia dulu ah tau tak hujan panas hujan panas tau tak ah dia dia masa tu kerja dan ah orang kampung biasalah macam kerja ah kat tu lepas tu dia balik dia balik waktu hujan panas tau selepas ke sukan dia', 'tidak apa-apa ah kena-kena', 'ah', 'kalau kau nak makan makanan Korea', 'okey sama-sama', 'boleh beritahu saya apa sukan yang awak minat', 'Covid nineteen ah adalah satu virus yang menyebabkan', 'ah boleh tak']\n",
            "['tapi ah macam keluarga saya ni dia mempunyai satu satu pak cik tau pak cik ni dia dulu ah tahu tak hujan panas hujan panas tahu tak ah dia dia [UNK] ah dia masatu kerja then ah orang kampung biasa lah macam kerja ah kat tu lepas tu dia balik dia balik lepas tu hujan panas tau selepas keesokannya', 'tiada apa-apa lah [UNK]', 'ah', 'kalau kau nak makan makanan Korea', 'sama-sama', 'boleh bagitahu saya apa sukan yang awak minat', 'Covid ninteen ah adalah satu virus yang menyebabkan', 'ah boleh tak']\n"
          ]
        },
        {
          "output_type": "stream",
          "name": "stderr",
          "text": [
            "\r 12%|█▏        | 8/65 [00:55<07:38,  8.05s/it]"
          ]
        },
        {
          "output_type": "stream",
          "name": "stdout",
          "text": [
            "8\n",
            "['oh', 'co[UNK] phone yang sebelum berakuna', 'yang aku sembungi makan tu', 'apa yang dimasukkan yang disukain saya macam kurang faham saya tahu tak apa yang saya sukan', 'ah sebab tapi S I ni bateri kurang tapi orang kata apa ni dia punya kelabian sama dengan eleven telak aku', 'kuy bulan ni sejenaskuy', 'yang merupakan bahulu ah dia dikenakan bahulu kecil', 'fatah lebih kurang']\n",
            "['oh', 'kau isi phone yang sebelum kau nak guna', 'yang aku suruh kau makan tu', 'apa yang dimaksudkan oleh sukan saya macam kurang faham boleh saya tahu tak apa itu sukan', 'ah sebab tapi S E ni bateri kurang tapi orang kata apa ni dia punya kelebihan sama dengan eleven tak silap aku', 'Kuih Bulan ni sejenis kuih', 'yang merupakan bahulu ah dia dikenakan bahulu kecil', 'fakta lebih kurang']\n"
          ]
        },
        {
          "output_type": "stream",
          "name": "stderr",
          "text": [
            "\r 14%|█▍        | 9/65 [01:00<06:33,  7.03s/it]"
          ]
        },
        {
          "output_type": "stream",
          "name": "stdout",
          "text": [
            "9\n",
            "['ah itu adalah pakai face mark lagi ah tu adalah satu punca lah untuk satu cara ya banyak banyak cara untuk ah mengelakkan daripada pangguna baris itulah sebab baris tu memang', 'alagi tiga puluh saat eh', 'um menjadi', 'cuti', 'ha kerajaan tu dia nak me', 'oh apa', 'oh jadi Rakmi ni', 'makanan tradisional ni berasa daripada India']\n",
            "['ah itu adalah pakai face mask lagi ah tu adalah satu puncalah untuk satu cara eh banyak banyak cara untuk ah mengelakkan daripada terkena virus itulah sebab virus tu memang', 'ada lagi tiga puluh saat', 'um menjadi', 'cuti', 'ah kerajaan tu dia nak [UNK]', 'oh apa', 'oh jadi rugby ni', 'makanan tradisional ni berasal daripada India']\n"
          ]
        },
        {
          "output_type": "stream",
          "name": "stderr",
          "text": [
            "\r 15%|█▌        | 10/65 [01:07<06:26,  7.03s/it]"
          ]
        },
        {
          "output_type": "stream",
          "name": "stdout",
          "text": [
            "10\n",
            "['setahun sekolah tu mesti macam ada', 'tadi kau nak kata kau nak minat bola sepak', 'selain daripada nasi lemak', 'ha tosi ni dia terdiri daripada', 'tapi', 'di hires timun tu', 'jalan dunia ke', 'kalau aku jaga dia aku time tu sakit aku bagi dia macam']\n",
            "['satu tahun sekolah tu mesti macam ada', 'tadi kan awak kata awak minat bola sepak', 'selain daripada nasi lemak', 'ah tosei ni dia terdiri daripada', 'tapi', 'dia hiris timun tu', 'piala dunia ke', 'kalau aku jadi nenek aku time tu sakit aku bagi dia macam']\n"
          ]
        },
        {
          "output_type": "stream",
          "name": "stderr",
          "text": [
            "\r 17%|█▋        | 11/65 [01:10<05:16,  5.86s/it]"
          ]
        },
        {
          "output_type": "stream",
          "name": "stdout",
          "text": [
            "11\n",
            "['eh ah bangsa', 'ah okey sakan saya faham', 'ojak ni', 'ah so [UNK]', 'ah so makanan macam', 'dia lepaskan saya minat pula saya minat bayi pintar', 'dengan', 'ah saya ada kerja tapi saya nak berbincangkan pasal sukan awak tahu apa apa tak tentar sukan']\n",
            "['eh ah bangsa', 'hah okey sekarang saya faham', 'oh cat ni', 'ah so kuih Kuih Bahulu ni macam', 'ah ah ah so makanan macam', 'disebabkan saya minat beliau saya minat badminton', 'dengan', 'ah saya ada kerja tapi saya nak membincangkan pasal sukan awak tahu apa-apa tak tentang sukan']\n"
          ]
        },
        {
          "output_type": "stream",
          "name": "stderr",
          "text": [
            "\r 18%|█▊        | 12/65 [01:15<04:46,  5.41s/it]"
          ]
        },
        {
          "output_type": "stream",
          "name": "stdout",
          "text": [
            "12\n",
            "['kesihatan eh', 'ah dia lagi berpeka lah', 'ah bayi sambung bayi aku', 'yang ramai orang lah cuti', 'tosai di [UNK] tosai ni makan dia dengan banyak kuah lah kalau macam roti canai tu', 'kau faham-faham lah', 'kalau boleh kita guna untuk kebaikan lah tapi setengah kita banyak tapi kita kan promasikan lebih banyak kuah ada keburukan pada kebaikan', 'and']\n",
            "['kesihatan', 'ah dia lagi lebih pekalah', 'ha', 'yang ramai orang lah cuti', 'thosai di [UNK] thosai ni makan dia dengan banyak kuah lah kalau macam roti canai tu', 'kau faham faham ah', 'kalau boleh kita guna untuk kebaikan ah tapi sesetengah kita banyak tapi kita kan remaja kan banyak untuk keburukan daripada kebaikan', 'and']\n"
          ]
        },
        {
          "output_type": "stream",
          "name": "stderr",
          "text": [
            "\r 20%|██        | 13/65 [01:20<04:45,  5.49s/it]"
          ]
        },
        {
          "output_type": "stream",
          "name": "stdout",
          "text": [
            "13\n",
            "['tapi ah', 'tu ini certificate raja kan dia telefon ni cari supaya rakyat dapat senang bagilah tau kalau', 'Ingis Negara', 'kau stress kenapa', 'bagi saya semestukan mem- mem- membari kita kebaikan ia tak memberi kita keberukan born sebab sukan ni untuk', 'aku nak cuba nanti aku', 'ata nenek aku so macam best lah', 'dan saya minat beliau sebab']\n",
            "['tapi ah', 'tu inisiatif kerajaan dia telefon ni canggih supaya rakyat dapat senang lagi la tahu kalau', 'imej negara', 'kau stress kenapa', 'bagi saya semua sukan [UNK] member- memberi kita kebaikan dia tak memberi kita keburukan pun sebab sukan ni untuk', 'aku nak cuba nanti aku', 'harta nenek aku so macam best lah', 'dan saya minat beliau sebab']\n"
          ]
        },
        {
          "output_type": "stream",
          "name": "stderr",
          "text": [
            "\r 22%|██▏       | 14/65 [01:26<04:37,  5.43s/it]"
          ]
        },
        {
          "output_type": "stream",
          "name": "stdout",
          "text": [
            "14\n",
            "['saya nak tau', 'kalau ni okey ah Samsung', 'ia menjukkan pada orang lain tak payah hebat ni saya', 'aku nak tau dulu [UNK] lebih hand phone [UNK]', 'ataupun dia macam mempunyai', '[UNK] tu ratok bincang weh', 'contohnya', 'hm banyak ligah yang dimainkan oleh Beliau']\n",
            "['saya nak tahu', 'kalau ni okey tak Samsung', 'yang menunjukkan pada orang lain betapa hebatnya saya', 'aku nak tahu dulu kelebih-kelebihan phone ni', 'ataupun dia macam mempunyai', \"iaitu Dato' Lee Chong Wei\", 'contohnya', 'urm banyak liga dimainkan oleh beliau']\n"
          ]
        },
        {
          "output_type": "stream",
          "name": "stderr",
          "text": [
            "\r 23%|██▎       | 15/65 [01:29<03:55,  4.71s/it]"
          ]
        },
        {
          "output_type": "stream",
          "name": "stdout",
          "text": [
            "15\n",
            "['ah ya [UNK]', 'em ah ah', 'sebab dulu kan yang kita tahu kan telefon orang [UNK] dia orang kan kalau nak berkomunikasi kan kena telefon orang [UNK]', 'bukanku internet ni dia tak perlukan kebaikan ataupun keburukan sebab bagi su- bagi saya semua sukan membawa kebaikan', 'aku tak makan sayur sebab aku tak akan makan lah benda tu', 'tapi kau mesti nak keluar kau buat apa', 'ah so kau dah sampai sandu kau dia makan apa', 'kalau bangsa Cina']\n",
            "['tengok ayah saya', 'erm ha ah', 'sebab dulu kan yang kita tahu kan telefon awam kan dia orang kan kalau nak berkomunikasi kan kena guna telefon awam juga kan', 'badminton ni dia tak perlukan kebaikan ataupun keburukan sebab bagi [UNK] bagi saya semua sukan membawa kebaikan', 'aku tak makan sayur so aku tak kan makan la benda tu', 'tapi kau masak keluar kau buat apa', 'ah so kau dah sampai sana tu kau order makanan apa', 'kalau Bangsa Cina']\n"
          ]
        },
        {
          "output_type": "stream",
          "name": "stderr",
          "text": [
            "\r 25%|██▍       | 16/65 [01:35<04:08,  5.06s/it]"
          ]
        },
        {
          "output_type": "stream",
          "name": "stdout",
          "text": [
            "16\n",
            "['kalau kau pula kau pernah makan makanan yang daripada luar negara', 'tahu sakit', 'biasanya benda ni ada', 'selain daripada makanan kat situ', 'tapi saya rasa bukan kerajaan je kot', 'macam', 'tapi family aku banyak guna S P dengan tu S S S I B A T T T L aku', 'dan macam-macam lagi lah makanan tradisional India ni']\n",
            "['kalau kau pula kau pernah makan makanan yang daripada luar negara', 'tau sikit', 'biasanya benda ni ada', 'selain daripada makanan kat situ', 'tapi saya rasa bukan kerajaan je kot', 'macam', 'tapi family aku banyak guna H P dengan Toshiba tak silap aku', 'dan macam-macam lagi lah makanan tradisional India ni']\n"
          ]
        },
        {
          "output_type": "stream",
          "name": "stderr",
          "text": [
            "\r 26%|██▌       | 17/65 [01:39<03:47,  4.73s/it]"
          ]
        },
        {
          "output_type": "stream",
          "name": "stdout",
          "text": [
            "17\n",
            "['balik kampung so aku buatlah lemang', 'tapi kadang-kadang dia macam', 'so apa yang kau lupa sain stress ni', 'so kenapa sesuatu orang boleh mengalami kemurahnya sebab-sebab dia macam', 'rasa nya sebab yang tadi lah yang yang diperkatakan tadi ah pemakanan yang tidak sembang semua tu lah', 'dan kalau bola sepak hidup lawak adalah perunak aduk', 'tapi kita kena pula', 'ah ada timun hiris']\n",
            "['lepas tu balik kampung lepas tu aku buat lah lemang', 'tapi kadang kadang dia macam', 'so apa yang kau tau pasal stress ni', 'so kenapa seseorang boleh mengalami [UNK] ni en sebab-sebab dia macam', 'rasanya sebab yang tadilah yang yang diperkatakan tadi ah pemakanan yang tidak seimbang semua tu lah', 'dan kalau bola sepak idola awak adalah Ronaldo', 'tapi kita guna buluh', 'ah ada timun hiris']\n"
          ]
        },
        {
          "output_type": "stream",
          "name": "stderr",
          "text": [
            "\r 28%|██▊       | 18/65 [01:43<03:39,  4.67s/it]"
          ]
        },
        {
          "output_type": "stream",
          "name": "stdout",
          "text": [
            "18\n",
            "['sotong ke kerang ke', 'kuy bulan biasanya pasti bulan atau segi empat tepat la bentuk dia bulat ataupun segi empat', 'itu saja ah saya', 'oh tau tau ah tau sebab', 'setiap ah menyentuh satu baranglah', 'awal nak tau tak tentu sejarah sukan', ' ataupun yang dekat Malaysia ni', 'berenang karena']\n",
            "['sotong ke kerang ke', 'kuih bulan biasanya [UNK] bulan atau segi empat tepat lah bentuk dia bulat ataupun segi empat', 'itu saja ah saya', 'oh tahu tahu ah tahu sebab', 'setiap ah menyentuh suatu baranglah', 'awak nak tahu tak tentang sejarah sukan', 'atau pun yang ada kat Malaysia ni', 'berenang kerana']\n"
          ]
        },
        {
          "output_type": "stream",
          "name": "stderr",
          "text": [
            "\r 29%|██▉       | 19/65 [01:48<03:36,  4.70s/it]"
          ]
        },
        {
          "output_type": "stream",
          "name": "stdout",
          "text": [
            "19\n",
            "['bye bye', 'tapi iPhone je dia iPhone iPhone ke boleh dengan phone lain', 'semakin menurunkan', 'oh yang tu kalau mak tak ingat lah pelak makanan dia', 'lepas tu ada ikan milis ada kacang goreng ada telur', 'boleh beli dekat rumah kau kan', 'kita patut ah menyebabkan tentang kebaikan sukan ni kepada semua ehaklah sebab saya tengok ramai yang membiarkan ah sukan ini terbiar dia macam ya tak kisah pasal sukan dia ramai yang kurang sembahkan kesukan kan', 'ah sukan ada naik aktiviti fizikal']\n",
            "['bye bye', 'tapi iPhone je dia iPhone dengan iPhone ke boleh dengan phone lain', 'semakin menurun', 'oh yang itu alamak tak ingat la pula makanan dia', 'lepas tu ada ikan bilis ada kacang goreng ada telur', 'boleh beli kat rumah kau kan', 'kita patut ah menyebarkan tentang kebaikan sukan ni kepada semua pihaklah sebab saya tengok ramai yang membiarkan ah sukan ini terbiar dia macam dah tak kisah pasal sukan dia ramai yang kurang semangat kesukanan', 'hm sukan ada lah aktiviti fizikal']\n"
          ]
        },
        {
          "output_type": "stream",
          "name": "stderr",
          "text": [
            "\r 31%|███       | 20/65 [01:57<04:33,  6.07s/it]"
          ]
        },
        {
          "output_type": "stream",
          "name": "stdout",
          "text": [
            "20\n",
            "['orang tak nampak tau yang [UNK] yang berenang ni merupakan sukan yang perlukan banyak tenaga bagi orang sukan berenang ni ia [UNK] kepada rekreasi aktiviti rekreasi atau reka dah', 'ha dia dia popular dekat Malaysia ni', 'oh tapi kau terasa ya phone yang kali saya ni macam mana', 'makanan kegemaran aku', 'tak pernah makan lah sebab aku ni jenis yang macam', 'okey okey tapi ah', 'ha ah beliau sudah besar ke sebab beliau sudah tua dan', 'ah']\n",
            "['orang tak nampak tau yang [UNK] berenang ni merupakan sukan yang perlukan banyak tenaga bagi orang sukan berenang ni ia lebih kepada rekreasi aktiviti rekreasi atau riadah', 'ah dia dia popular dekat Malaysia ni', 'em tapi kau kira [UNK] phone yang kalis air ni macam mana', 'makanan kegemaran aku', 'tak pernah makan la sebab aku ni jenis yang macam', 'okay-okay tapi ah', 'ha beliau sudah bersara sebab dia sudah tua dan', 'ha ah ah']\n"
          ]
        },
        {
          "output_type": "stream",
          "name": "stderr",
          "text": [
            "\r 32%|███▏      | 21/65 [02:06<04:56,  6.74s/it]"
          ]
        },
        {
          "output_type": "stream",
          "name": "stdout",
          "text": [
            "21\n",
            "['pulpaka jenis seperti', 'ha saya rasa itu je lah antara sebab saya minat badminton', 'tosai dia ada macam-macam jenis ah tosai telur tosai cili tosai bawah eh bawah bawang', 'hm betul tu', 'ah so kita boleh check dari', 'malas nak keluar ke kan mana taukan nak duduk rumah ke', 'ah', 'cuti [UNK]']\n",
            "['pelbagai jenis seperti', 'ha saya rasa itu je lah antara sebab saya minat badminton', 'thosai dia ada macam-macam jenis lah thosai telur thosai cili thosai bawah eh bawah bawang', 'hm betul tu', 'Wan so kita boleh dari', 'malas nak keluar ke kan mana tahu kan nak duduk rumah ke', 'ah', 'cuti cuti']\n"
          ]
        },
        {
          "output_type": "stream",
          "name": "stderr",
          "text": [
            "\r 34%|███▍      | 22/65 [02:11<04:33,  6.36s/it]"
          ]
        },
        {
          "output_type": "stream",
          "name": "stdout",
          "text": [
            "22\n",
            "['dan [UNK] dah naik yang saya pernah mengawakai negara untuk pertandingan berenang ni', 'tusai dimakan sebagai sarapan pagi atau makan malam', 'supun aku suka makan', 'kenapa ya dengan sihatan di Malaysia', 'oh [UNK] mengapa tu', 'ah [UNK] banyak lemak semua lepas tu tidak bersukan just', 'ah kau pula apa makanan kegomaran kau', 'makanan tu makan apa']\n",
            "['[UNK] dan ayah saya pernah mewakili negara untuk per-pertandingan berenang ni', 'thosai dimakan sebagai sarapan pagi atau makan malam', 'pun aku suka makan', 'kenapa ya dengan kesihatan di Malaysia', 'oh mengapa', 'ah mempunyai banyak lemak semua lepas tu tidak bersukan just', 'ah kau pula apa makanan kegemaran kau', 'makanan tu makanan apa']\n"
          ]
        },
        {
          "output_type": "stream",
          "name": "stderr",
          "text": [
            "\r 35%|███▌      | 23/65 [02:15<04:01,  5.75s/it]"
          ]
        },
        {
          "output_type": "stream",
          "name": "stdout",
          "text": [
            "23\n",
            "['oh maruku', 'bercerai yang ni buat apa', 'tentang kemurungan', 'jadi sama aku jejak langkah beliaulah', 'ah kalau ikutkan sukan yang tantar antara [UNK] berenang merupakan sukan yang paling banyak paling mudah untuk pakai kalori', 'aku suka makan kuih bulan', 'macam kau buat sendiri', 'sebab orang kata bateri dia okey lepas tu harga pun']\n",
            "['oh maruku', 'penceraian ibu bapa', 'tentang kemurungan', 'jadi saya mengikut jejak langkah beliau lah', 'ah kalau ikutkan sukan anta- antara berenang merupakan sukan yang paling banyak paling mudah untuk bakar kalori', 'aku suka makan Kuih Bulan', 'macam kau buat sendiri', 'sebab orang kata bateri dia okey lepas tu harga pun']\n"
          ]
        },
        {
          "output_type": "stream",
          "name": "stderr",
          "text": [
            "\r 37%|███▋      | 24/65 [02:21<03:54,  5.73s/it]"
          ]
        },
        {
          "output_type": "stream",
          "name": "stdout",
          "text": [
            "24\n",
            "['berstewa atau kejadian yang menyebabkan seorang tetakan contoh macam', 'ceri sekolah atau apa ke kan ah macam', 'senpada bawah dulu tu', 'tapi saya rasa macam', 'hm pasal kesihatan', 'sayur sayur sayuran acar yang macam orang makan nasi nasi nasi minyak tu ah', 'dia ada juga', 'tapi saya minat dalam sukan berenang']\n",
            "['peristiwa atau kejadian yang menyebabkan seorang tertekan contoh macam', 'cuti sekolah ke apa ke kan ah macam', 'selain daripada bahulu tu', 'tapi saya rasa macam', 'um pasal kesihatan', 'sayur sayur sayuran acar yang macam orang makan nasi nasi nasi minyak tu ah', 'dia ada juga', 'tapi saya minat dalam sukan berenang']\n"
          ]
        },
        {
          "output_type": "stream",
          "name": "stderr",
          "text": [
            "\r 38%|███▊      | 25/65 [02:25<03:29,  5.23s/it]"
          ]
        },
        {
          "output_type": "stream",
          "name": "stdout",
          "text": [
            "25\n",
            "['tapi kau ada rasa macam nak makan makanan Korea', '[UNK] ah aku suggest an Iphone dengan Samsung ah Samsung Iphone dengan Samsung', 'untuk kita melakukan aktiviti tersebut dia badan yang sukan-sukan yang lain', 'contohnya kalau awak minat bola sepak', 'ren tinggi lepas tu give ah give', 'sebagai contoh [UNK] macam kena perlu beli makanan-makanan yang sihat lah macam tu lah', 'dekatan tiga kena angkat tapi untuk perempuan je', 'ah Jossett Scroding']\n",
            "['tapi kau ada rasa macam nak makan makanan Korea', 'ah phone ah aku suggest ah iPhone dengan Samsung ah Samsung iPhone dengan Samsung', 'untuk kita melakukan aktiviti tersebut berbanding sukan-sukan yang lain', 'contohnya kalau awak minat bola sepak', 'ram tinggi lepas tu gib ah gib', 'sebagai contoh ibu bapa macam kena perlu beli makanan-makanan yang sihatlah macam tu lah', 'tingkatan tiga kena inject tapi untuk perempuan je', 'ah Joseph Scolding']\n"
          ]
        },
        {
          "output_type": "stream",
          "name": "stderr",
          "text": [
            "\r 40%|████      | 26/65 [02:30<03:15,  5.01s/it]"
          ]
        },
        {
          "output_type": "stream",
          "name": "stdout",
          "text": [
            "26\n",
            "['saya sangat minat sukan', 'oh sementara engkau gunalah', 'yang S E ni yang baru', 'lemang [UNK] ah kalau', 'tu [UNK] tu sekarang kalau kita dah maju dengan telekomunikasi', 'untuk jadikan ah buruk sepak', 'tapi kalau engkau', 'ah makan [UNK] estimewa na- nasi lemak tu']\n",
            "['saya sangat minat sukan', 'oh sementara kau guna lah', 'yang S E punya yang baru', 'lemang [UNK] beb ah kalau', 'tu lah tu sekarang negara kita dah maju dengan telekomunikasi', 'untuk jadikan ah bola sepak', 'tapi kalau kau', 'makanan [UNK] istimewa na-nasi lemak tu']\n"
          ]
        },
        {
          "output_type": "stream",
          "name": "stderr",
          "text": [
            "\r 42%|████▏     | 27/65 [02:33<02:52,  4.53s/it]"
          ]
        },
        {
          "output_type": "stream",
          "name": "stdout",
          "text": [
            "27\n",
            "['ah isi isi', 'lapisan bawahulu tu susah nak jumpa dekat', 'senanglah nak buat cuma lama sikitlah nak kan tunggu', 'tak ada [UNK] ah [UNK] ketang kekuatan yang kuat lah', 'kana mereka fikir bros ni merupakan sesuatu benda yang mudah', 'so', 'ah dan sakit tekak yang sangat sakit lah yang tu je saya tau lah sebab dan ah kita kena jaga ah apa ni masalah ni dengan dia boleh elak tau dengan macam basuh tangan lepas tu pakai hand sanitizer hand sanitizer', 'makanan']\n",
            "['ah isi isi', 'lapisan bahulu tu susah nak jumpa dekat', 'senang lah nak buat cuma lama sikit lah nak kena tunggu', 'tahap ah ke [UNK] kekuatan yang kuatlah', 'kerana mereka fikir berenang ni merupakan sesuatu benda yang mudah', 'so', 'ah dan sakit tekak yang sangat sakitlah yang tu je saya tahulah sebab then ah kita kena jaga ah apa ni masalah ni dengan dia boleh elak tau dengan macam membasuh tangan lepas tu pakai hand [UNK] hand sanitizer', 'makanan']\n"
          ]
        },
        {
          "output_type": "stream",
          "name": "stderr",
          "text": [
            "\r 43%|████▎     | 28/65 [02:41<03:26,  5.57s/it]"
          ]
        },
        {
          "output_type": "stream",
          "name": "stdout",
          "text": [
            "28\n",
            "['dia boleh menurung kepada tindakan membunuh diri', 'kalau kuia raya masa raya ada kuia bahulu', 'sebagai contoh dia makan apa eh', 'dawan daun pisang ah so buatkan nasi lemak tu bawang ni sedap', 'dia punya apa', 'aku tengok juga kesih [UNK] kesihatan ni', 'ha sokan kan tadi ni dia pedagat tv psik ke yang dia lakukan untuk pelbagai tujuan jadi ha misalnya berenang', 'tapi sebelum sebelum ni kan dia orang pun makan gelawar kenapa baru ah benda ni terjadi']\n",
            "['dia boleh mendorong kepada tindakan membunuh diri', 'kalau kuih raya masa raya ada kuih bahulu', 'sebagai contoh dia makan apa eh', 'daun daun pisang ah so buatkan nasi lemak tu bau wangi sedap', 'dia punya apa', 'aku tengok juga kes dia pasal kesihatan ni', 'ah sukan kan terdiri daripada aktiviti-aktiviti fizikal yang dilakukan untuk pelbagai tujuan jadi ah misalnya berenang', 'tapi sebelum-sebelum ni kan dia orang pun makan kelawar kenapa baru ah benda ni terjadi']\n"
          ]
        },
        {
          "output_type": "stream",
          "name": "stderr",
          "text": [
            "\r 45%|████▍     | 29/65 [02:46<03:16,  5.45s/it]"
          ]
        },
        {
          "output_type": "stream",
          "name": "stdout",
          "text": [
            "29\n",
            "['ah berenang bahan adalah satu sebab', 'kenapa [UNK] kenapa yang dia macam dia tak ambil endah padahal yang dia dah tau dah kadang-kadang apa ni kesihatan di Malaysia sangat merosak tapi kenapa dia melakukan juga ah macam makam benda-benda yang', 'ah atas tu', 'ah itu lah sebabnya', 'Samsung yang baru-baru ni sebab sebab kau terSamsung yang camera lagi cantik belah semangat kau dengar cikli tu lah so macam', 'cuti cuti macam', 'oh kira dia orang check apa semua tak guna', 'so sedap lah']\n",
            "['ha berenang ha adalah satu sebab', 'kenapa ek kenapa ek ah dia macam dia tak ambil endah padahal dia dah tahu dah kadar- kadar apa ni kesihatan di Malaysia sangat merosot tapi kenapa dia melakukan jugak ah macam makan benda-benda yang', 'ah antara', 'ha itulah sebabnya', 'Samsung yang baru-baru ni ah sebab sebab orang kata Samsung ni kamera lagi cantik daripada iPhone aku dengar macam tu lah so macam', 'cuti cuti macam', 'oh kira dia orang chat apa semua tak guna', 'so sedap lah']\n"
          ]
        },
        {
          "output_type": "stream",
          "name": "stderr",
          "text": [
            "\r 46%|████▌     | 30/65 [02:55<03:46,  6.47s/it]"
          ]
        },
        {
          "output_type": "stream",
          "name": "stdout",
          "text": [
            "30\n",
            "['luar baru kan harga yang full lama kan makin murah murahkan', 'terdiri daripada tiga jenis kuih', 'makanan orang Melayu lah contoh macam', 'ah dihiris', 'kau boleh makan dengan ayam', 'ah pergi dulu eh', 'dia ramai yang tak nampak ah saya rasa itu saja kot untuk topik kita dengan tasukan terima kasih sebab memberitahu saya saya sikit sebanyak dengan tasukan ni lah', 'obi ayah saya waktu']\n",
            "['keluar baru kan harga yang phone lama kan makin murah murah en', 'terdiri daripada tiga jenis kuih', 'makanan orang Melayu la contoh macam', 'ah dia hiris', 'kau boleh makan dengan ayam', 'ah pergi dulu ye', 'ya ramai yang tak nampak ah saya rasa itu sahaja kot untuk topik kita tentang sukan terima kasih sebab memberitahu saya sedikit sebanyak tentang sukan ni lah', 'hobi ayah saya waktu']\n"
          ]
        },
        {
          "output_type": "stream",
          "name": "stderr",
          "text": [
            "\r 48%|████▊     | 31/65 [03:02<03:40,  6.50s/it]"
          ]
        },
        {
          "output_type": "stream",
          "name": "stdout",
          "text": [
            "31\n",
            "['ha ah sedap', 'aku suka makan makanan tradisional tau', 'ya', 'beliau merupakan seorang yang rendah diri walaupun beliau telah memenangi banyak macara dan pelbagai', 'oh ibu ibu', 'tapi aku tak minat mana kalau Pobeng baik akasah baik Samsung ah cuma Samsung', 'buat lemang cari buluh dekat utam yang then masak pula ah', 'tapi kau guna phone apa sekarang']\n",
            "['ha ah sedap', 'aku suka makan makanan yang tradisional tau', 'ya', 'beliau merupakan seorang yang rendah diri walaupun beliau telah memenangi banyak acara dan pelbagai', 'oh epok-epok', 'tapi aku tak minat mana kalau powerbank baik aku rasa baik Samsung kan cuma Samsung', 'buat lemang cari buluh dekat hutan and then masak pula ah', 'tapi kau guna phone apa sekarang']\n"
          ]
        },
        {
          "output_type": "stream",
          "name": "stderr",
          "text": [
            "\r 49%|████▉     | 32/65 [03:06<03:17,  5.98s/it]"
          ]
        },
        {
          "output_type": "stream",
          "name": "stdout",
          "text": [
            "32\n",
            "['okey kalau macam tu', 'mangan bermasa untuk memahankannya dan ia perlukan banyak naga', 'kira dari situ kita dah boleh gimana masa kita boleh buat mce-like lah', 'hm kasi eh', 'makan tidur makan tidur makan tidurlah bak [UNK] buat tak ah', 'ah [UNK] saya ada topik nak cerita ni tentang sukan yang saya minat', 'dia dikenali sebagai dosa ataupun dosai', 'tulah sedap sangat']\n",
            "['okey kalau macam tu', 'mengambil masa untuk memahirkannya dan ia perlukan banyak tenaga', 'kira kita kita dah boleh jimat masa kita boleh buat benda lain la', 'um hm um kau sihat', 'makan tidur makan tidur makan tidurlah bak kata pepatah ah', 'ah saya ada topik nak cerita ni tentang sukan yang saya minat', 'dia dikenali sebagai dosa ataupun dosai', 'pernah sedap sangat']\n"
          ]
        },
        {
          "output_type": "stream",
          "name": "stderr",
          "text": [
            "\r 51%|█████     | 33/65 [03:10<02:49,  5.29s/it]"
          ]
        },
        {
          "output_type": "stream",
          "name": "stdout",
          "text": [
            "33\n",
            "['okey sama-sama antibodi', 'ah ada lah kalau yang dua ribu okey', 'dan rule bahul-bahul', 'dia kalau nge iPhone nge iPhone ya baru boleh', 'mutan sedap', 'hayat saya atlik suarena sekejap dengar', 'sesara bersaingan dihadapari bual pun untun rupakan satu hu-wakara yang saya paling minat lah', 'nak buat pun kalau macam aku biasanya']\n",
            "['okay sambung-sambung antibodi', 'ha ada tak kalau yang dua ribu K', 'dan roll bahulu bahulu', 'dia kalau iPhone dengan iPhone je lah baru boleh', 'betul sedap', 'ayah saya atlit sekolah rendah sekolah menengah', 'secara berasingan di hadapan ribuan penonton merupakan satu perkara yang saya paling minatlah', 'nak buat pun kalau macam aku biasa']\n"
          ]
        },
        {
          "output_type": "stream",
          "name": "stderr",
          "text": [
            "\r 52%|█████▏    | 34/65 [03:15<02:41,  5.21s/it]"
          ]
        },
        {
          "output_type": "stream",
          "name": "stdout",
          "text": [
            "34\n",
            "['hm tapi', 'wajib lah kena ada benda ni kena makan', 'rasa pedas lah ke macam mana', 'oh sedap lah', 'berbatutan lah', 'fattahlah pembanding eh', 'hm [UNK] dalam benas sukan', 'bahuluk']\n",
            "['em tapi', 'wajiblah kena ada benda ni kena makan', 'rasa pedas la ke macam mana', 'oh sedaplah', 'berpatutan ah', 'fakta la berbanding eh', 'hm seronok dalam bidang sukan', 'bahulu']\n"
          ]
        },
        {
          "output_type": "stream",
          "name": "stderr",
          "text": [
            "\r 54%|█████▍    | 35/65 [03:18<02:14,  4.47s/it]"
          ]
        },
        {
          "output_type": "stream",
          "name": "stdout",
          "text": [
            "35\n",
            "['oh', 'kerjaan ni', 'antara sebab saya nak badminton adalah saya terinspirasi daripada pemain negara Malaysia tu', 'sai ah apa ni', 'oh begitu ah', 'kalau kalau kau yang jenis makanan sayur', 'tuh sini dia kuah dia macam kuah sambar', 'ah benda']\n",
            "['oh', 'kerajaan ni', 'antara sebab saya minat badminton adalah saya terinspirasi daripada pemain negara Malaysia [UNK]', '[UNK] ah apa ni', 'oh begitu', 'kal-kalau kau yang jenis makan dengan sayur', 'tosei ni dia kuah dia macam kuah sambar', 'ah apa ni']\n"
          ]
        },
        {
          "output_type": "stream",
          "name": "stderr",
          "text": [
            "\r 55%|█████▌    | 36/65 [03:22<02:07,  4.39s/it]"
          ]
        },
        {
          "output_type": "stream",
          "name": "stdout",
          "text": [
            "36\n",
            "['termasuklah fikiran perasaan tekak laku ah macam tu la', 'later semua tak ada ke dia yang baru baru duit ada', 'ah besar lah sebab dah tak kot lagi tapi dia masih boleh bermain walaupun dia tak masuk lagi pertandingan [UNK] lawan ada negara lain', 'so kalau cakap pasal-pastal kat saya tini kan biasanya kalau kat sekolah kan saya macam mesti satu', 'untuk ah kalau kau nak buat kat rumah kau', 'oh kau nak kamera ke nak kamera ngapul', 'telur rebus', 'apa ni']\n",
            "['termasuklah fikiran perasaan tingkahlaku ah macam tu lah', 'latest punya tak ada kut dia yang baru-baru je ada', 'ha bersara ah sebab dah tak kuat lagi tapi beliau masih boleh bermain walaupun dia tak masuk lagi pertandingan [UNK] lawan antara negara lain', 'so kalau cakap pasal kesihatan ni kan biasa nya kalau dekat sekolah kan [UNK] macam mesti satu', 'untuk um ah kalau kau nak buat kat rumah kau', 'oh kau nak kamera ke nak kamera dengan phone', 'telur rebus', 'apa ini']\n"
          ]
        },
        {
          "output_type": "stream",
          "name": "stderr",
          "text": [
            "\r 57%|█████▋    | 37/65 [03:28<02:13,  4.78s/it]"
          ]
        },
        {
          "output_type": "stream",
          "name": "stdout",
          "text": [
            "37\n",
            "['[UNK] itu macam kau', 'ah kalau [UNK] wak adalah runar du ijulah saya je lah Joseph Scroding ah Boleau berasa dia kepada Singapore', 'macam-macam yang nama dia', 'tu utamanya kaum India lah Tosai ni boleh didapati di mana mana gerai atau kedai mama dan juga di restoran India', 'daripada kecik', 'dia meninggal dunia', 'dari buah-buahan', 'kira-kira ah kita kan kalau tak ada tengok rasanya kira kalau bukutan je lah satu benda tu dia']\n",
            "['itu macam kau', 'ah kalau idola awak adalah Ronaldo idola saya ialah Joseph Scolding ah beliau berasal daripada Singapore', 'macam-macam lah nama dia', 'terutamanya kaum India lah thosai ni boleh didapati di mana-mana gerai atau kedai mamak dan juga di restoran India', 'daripada kecik', 'dia meninggal dunia', 'dari buah-buahan', 'kira kira ha kita kan kalau tak ada telekomunikasi kira kalau buku tu kan satu benda tu dia']\n"
          ]
        },
        {
          "output_type": "stream",
          "name": "stderr",
          "text": [
            "\r 58%|█████▊    | 38/65 [03:33<02:14,  4.96s/it]"
          ]
        },
        {
          "output_type": "stream",
          "name": "stdout",
          "text": [
            "38\n",
            "['aku makan makanan Melayu je', 'lepas tu [UNK]', 'jadi', 'ah pertandingan yang dihanjurkan ia tetap ah bandar indik benar-bendar diri dan tidak terlalu sengong untuk pertemu-atau mengajah orang-orang lain berbandar badminton itu antara yang saya minat tetap [UNK]', 'sundar tentu [UNK] sebab pertama saya minat beliau ah beliau berasar daripada tanah air kita sendiri lah baik tu Malaysia tu antara semain biotetik ah kalau kita minat bala beliau kita menyokong produk tanah air kita sendiri', 'ya la dia di balut meleh', 'macam sushi ke', 'ha ah dosa dosai']\n",
            "['aku makan makanan mela-melayu je', 'lepas tu [UNK]', 'jadi', 'ah pertandingan yang dianjurkan beliau tetap ah rendah [UNK] rendah diri dan tidak terlalu sombong untuk bertemu atau mengajar orang-orang lain bermain badminton itu antara yang saya minat tentang beliau', 'sudah tentu oh sebab pertama saya minat beliau kut ah beliau berasal daripada tanah air kita sendirilah iaitu Malaysia tu antara semangat patriotiklah kalau kita minat pada beliau kita menyokong produk tanah air kita sendiri', 'ya la dia dibalut oleh', 'macam sushi ke', 'ah ah dosa dosai']\n"
          ]
        },
        {
          "output_type": "stream",
          "name": "stderr",
          "text": [
            "\r 60%|██████    | 39/65 [03:43<02:46,  6.40s/it]"
          ]
        },
        {
          "output_type": "stream",
          "name": "stdout",
          "text": [
            "39\n",
            "['macam apa orang cakap', 'ha ada kalau kat internet kan ada jelaskan semua kan kira kerja kita jelaki senang lah', 'kuai pula', 'diisi dengan kentang dan bawang yang telah dikering singgerangok so sedap lah kan nak makan', 'menyihat kabar dan kita', 'tapi saya nak berenang', 'tapi saya tengok iPhone pun iPhone satu yang aku kurang nak bateri dia bateri', 'dia bawah tu ni macam']\n",
            "['macam apa orang cakap', 'ha dia kalau dekat internet kan dia ada jelas kan semua kan kira kerja kita akan jadi lagi senang la', 'kuih pula', 'diisi dengan kentang dan bawang yang telah digoreng sehingga rangup so sedaplah kan nak makan', 'menyihatkan badan kita', 'tapi saya minat berenang', 'tapi aku tengok iPhone pun iPhone ni satu je ah kekurangan bateri dia bateri', 'Kuih Bahulu ni macam']\n"
          ]
        },
        {
          "output_type": "stream",
          "name": "stderr",
          "text": [
            "\r 62%|██████▏   | 40/65 [03:47<02:25,  5.83s/it]"
          ]
        },
        {
          "output_type": "stream",
          "name": "stdout",
          "text": [
            "40\n",
            "['dia la bini masuk', 'kalau kalau contoh kau macam', 'ah tapi saya rasa', 'ibu apa', 'awak kena tak', 'apa dia', 'tapi yang paling aku suka nasi lemak lah sebab nasi lemak tu', 'salamualaikum']\n",
            "['jadi rugby ni memang [UNK]', 'kalau kalau contoh kau macam', 'ah tapi saya rasa', 'ibu bapa', 'awak kenal tak', 'apa dia', 'tapi yang paling aku suka nasi lemak la sebab nasi lemak tu', 'assalamualaikum']\n"
          ]
        },
        {
          "output_type": "stream",
          "name": "stderr",
          "text": [
            "\r 63%|██████▎   | 41/65 [03:51<02:02,  5.09s/it]"
          ]
        },
        {
          "output_type": "stream",
          "name": "stdout",
          "text": [
            "41\n",
            "['itu ah yang saya tahu dia berpunca ah daripada', 'ha ah eh aku pakai phone ah phone mak aku ah tapi phone lama mak aku ah', 'bunga apa ni', 'tapi mahal lah budget aku bawa dua ribu je', 'okey aku pun terjelah makanan yang', 'kena just subscribe ni tak', 'ah lemang ke macam ah orang Melayu punya kalau kuih tu macam', 'Raya tahun baru sini tu ah ada orang memang']\n",
            "['itu ah yang saya tahu dia berpunca ah daripada', 'ah ah eh aku pakai [UNK] ah phone mak ah tapi phone lama mak aku ah', 'me- apa ni', 'tapi mahal ah bajet aku bawah dua ribu je', 'okey aku pun tu je la makanan yang', 'kenal Joseph Schooling tak', 'ah lemang ke macam ah orang Melayu punya kalau kuih tu macam', 'so Raya Tahun Baru Cina tu ah dia orang memang']\n"
          ]
        },
        {
          "output_type": "stream",
          "name": "stderr",
          "text": [
            "\r 65%|██████▍   | 42/65 [03:54<01:45,  4.58s/it]"
          ]
        },
        {
          "output_type": "stream",
          "name": "stdout",
          "text": [
            "42\n",
            "['oh', 'iPhone X I', 'di leher dan roll agak sukar lah', 'tapi aku suka nak keluar S E eh yang baru takkan bateri dia lah sikit boleh bateri aku', 'dekat Malaysia ni kan kita banyak banyak bangsa kan beraya so', 'Cina yang sering dimakan', 'ah kalau [UNK] kalau kursaknya sebab ni masa air', 'satu benda dia jelah sampai dalam']\n",
            "['oh', 'iPhone X eh', 'layer dan roll agak sukar lah', 'tapi iPhone kan sekarang ada keluar S E eh yang baru tapi bateri dia ah seribu lebih tak silap aku', 'dekat Malaysia ni kan kita banyak banyak bangsa kan budaya so', 'Cina yang sering dimakan', 'ah [UNK] phone aku rosak ni sebab ni masuk air', 'satu benda tu dia jalan sampai dalam']\n"
          ]
        },
        {
          "output_type": "stream",
          "name": "stderr",
          "text": [
            "\r 66%|██████▌   | 43/65 [03:58<01:37,  4.42s/it]"
          ]
        },
        {
          "output_type": "stream",
          "name": "stdout",
          "text": [
            "43\n",
            "['dia punya same tu same tu nak betul kan', 'tu untuk hormon lah kalau biasanya kalau', 'bukul tertumpu macam satu benda tu kan dia lebih kurang', 'mahan juga eh tapi berpatutlah sebab dia dia datang kepada Korea kan', 'ganas kecil dia suka kejaga je orang', 'kita ni lah', 'kalau macam kalau apa tak nak makan dengan telur kalau kau ada alergic ke ada trauma ke apa', 'kau dah ni belum switch']\n",
            "['dia punya centre centre nak betulkan', 'tu untuk hormon lah kalau biasa kalau', 'bukan tertumpu macam satu benda tu kan dia lebih kurang', 'mahal juga eh tapi berpatutan la sebab dia datang daripada Korea kan', 'ganas sikit dia suka kejar kejar orang', 'kita ni lah', 'kalau macam kalau kau tak makan dengan telur kalau kau ada alergik ke ada trauma ke apa', 'kau dah ni belum search']\n"
          ]
        },
        {
          "output_type": "stream",
          "name": "stderr",
          "text": [
            "\r 68%|██████▊   | 44/65 [04:02<01:29,  4.28s/it]"
          ]
        },
        {
          "output_type": "stream",
          "name": "stdout",
          "text": [
            "44\n",
            "['dia membawa kematian kan dan kalau mematikan ah tak ada perkeja-perkejaan nanti yang mahal dan ekonomi negara merosut macam mana eh ah kerejaan boleh buat', 'oh macai hujan', 'ah kalau terkena kepada ah golongan yang tua ataupun', 'kerana berenang merupakan', 'snowah banyak juga lah sebab adik saya pun ah dia main di hujan dia asyik demam je tak tahulah kenapa', 'maru ada tak dia sebab nak jaga nak kerja nama kan', 'kematen ali keluarga', 'hm idea']\n",
            "['dia membawa kematian kan then kalau mati kan ah tak ada pekerja-pekerja nanti yang mahir then ekonomi negara merosot macam mana ek kerajaan boleh buat', 'oh macam air hujan', 'ah kalau terkena pada ah golongan yang dah tua ataupun', 'kerana berenang merupakan', 'sekarang ah banyak jugalah sebab adik saya pun ah dia main di hujan dia asyik demam je tak tahu lah kenapa', 'maruah dia tak [UNK] dia sebab nak jaga kejar nama eh', 'kematian ahli keluarga', 'um ada']\n"
          ]
        },
        {
          "output_type": "stream",
          "name": "stderr",
          "text": [
            "\r 69%|██████▉   | 45/65 [04:10<01:44,  5.23s/it]"
          ]
        },
        {
          "output_type": "stream",
          "name": "stdout",
          "text": [
            "45\n",
            "['ha laptop laptop nya aku tak tahu apa tak mana harga', 'dah macam macam lagi lah', 'ah kuih kulit Melaka ah [UNK] aku tupat semua kan', 'oh baik Samsung RAM pun okey besar', 'tapi nama kau tahu tak sebenarnya nama tosei ni ah tosei pun ada nama lain juga', 'mana bersama kena hidup kau dah cakap dia dah ini', 'macam mi lah ah', 'kalau [UNK] Cina pula']\n",
            "['ah laptop laptop ni ah aku tak tau apa apa tengok mana harga', 'dan macam-macam lagi lah', 'ah kuih gula melaka ah [UNK] ketupat semua kan', 'oh baik Samsung ram pun okey besar', 'tapi nama kau tahu tak sebenarnya nama tosei ni [UNK] tosei pun ada nama lain juga', 'mana boleh sambung kena [UNK] doh kau dah cakap benda lain', 'macam ni la ah', 'kalau kait kaum Cina pula']\n"
          ]
        },
        {
          "output_type": "stream",
          "name": "stderr",
          "text": [
            "\r 71%|███████   | 46/65 [04:14<01:33,  4.93s/it]"
          ]
        },
        {
          "output_type": "stream",
          "name": "stdout",
          "text": [
            "46\n",
            "['semua lagi', 'oh so kena ambil rembat besar sikit lah', 'kalau orang tak kenal ah saya berceritakan [UNK]', 'nama dia unik eh', 'dan awak bagaimana pula ada ke awak ada benda lagi yang nak cari [UNK] pasal sukan', 'ha ah dengan sambal dia Allah sedapnya', 'sambal', 'oh biasalah']\n",
            "['jumpa lagi', 'oh so kena ambil ram [UNK] besar sikit ah', 'kalau awak tak kenal ha saya boleh cerita kan tentang beliau', 'nama dia unik eh', 'dan awak bagaimana pula adakah awak ada benda lagi awak nak ce- cerita pasal sukan', 'ha ah dengan sambal dia ya Allah sedap nya', 'sambal', 'oh biasa lah']\n"
          ]
        },
        {
          "output_type": "stream",
          "name": "stderr",
          "text": [
            "\r 72%|███████▏  | 47/65 [04:18<01:26,  4.79s/it]"
          ]
        },
        {
          "output_type": "stream",
          "name": "stdout",
          "text": [
            "47\n",
            "['selain dia bumurang ni lah bumurang dia ni kan', 'ahari raya ke cuti-cuti', 'satu dunia kenal', 'hm tapi aku yang setahuk aku ada orang cakap arogi okey tapi arogi tiga ribu ah hm access arogi', 'dia ada pemain teribat', 'makan masa hari rahi lah', 'bau lulu ni', 'sebab berenang dia orang fikir ini bukan aktiviti sukan']\n",
            "['slack dia boomerang je lah boomerang dia ni kan', 'Hari Raya ke cuti cuti', 'satu dunia kenal', 'em tapi [UNK] yang setahu aku ada orang cakap R O G okey tapi R O G tiga ribu ah em Asus R O G', 'dia ada pemain terhebat', 'makan masa Hari Raya lah', 'bahulu ni', 'sebab berenang dia orang fikir ini bukan aktiviti sukan']\n"
          ]
        },
        {
          "output_type": "stream",
          "name": "stderr",
          "text": [
            "\r 74%|███████▍  | 48/65 [04:23<01:21,  4.80s/it]"
          ]
        },
        {
          "output_type": "stream",
          "name": "stdout",
          "text": [
            "48\n",
            "['ah sebab oh kata tautan yang kalau masa air kan masuk damai aku masuk lepas tu dia tetap tak idok', 'tolong kau pasal', 'baulul laya ni bau', 'lapisan bahulu-bahulu', 'susahlah kalau kau nak jumpa kat situ kau maket kan bahulu', 'kau masak kau buat apa la', 'aku nak', 'oh jadi awak nak sampekan yang kita ambil sukan yang rengan kita bawah masuk ke sukan sukan yang']\n",
            "['ah sebab orang kata telefon en kalau masuk air kan masuk dalam beras aku masuk ah lepas tu dia tetap tak hidup', 'kalau engkau perasan', 'bahulu layer ni bahu', 'lapisan bahulu bahulu', 'susah lah kalau kau nak jumpa kat supermarket tu kan bahulu', 'kau masak engkau buat apa lah', 'aku nak', 'oh jadi awak nak sampaikan yang kita ambil sukan yang ringan kita bawa masuk ke sukan sukan yang']\n"
          ]
        },
        {
          "output_type": "stream",
          "name": "stderr",
          "text": [
            "\r 75%|███████▌  | 49/65 [04:28<01:17,  4.84s/it]"
          ]
        },
        {
          "output_type": "stream",
          "name": "stdout",
          "text": [
            "49\n",
            "['lepas tu sambal dia kalau makan panas panas lepas tu pedas memang sedap ah', 'tapi kan anak muda sekarang banyak selalu guna macam romaji sekarang', 'ah tu say ni', 'dia tahu aku boleh makan juga kan lepas ni', 'kalau macam aku suka kalau makanan orang Cina aku suka makan', 'yang saya tahu', 'mengpunyai rakyat-ra- rakyat yang memunyai kesetan yang kuat lah tak adalah macam alembak je kan okey', 'hm nasi lemak ke']\n",
            "['lepas tu sambal dia kalau makan panas panas lepas tu pedas memang sedap ah', 'tapi kan anak muda sekarang banyak salah guna macam remaja sekarang', 'er thosai ni', 'mana tahu aku boleh makan juga kan lepas ni', 'kalau macam aku suka kalau makanan orang Cina aku suka makan', 'yang saya tahu', 'mempunyai rakyat ra-rakyat yang mempunyai kesihatan yang kuatlah tak ada lah macam lembik je kan okay', 'erm nasi lemak ke']\n"
          ]
        },
        {
          "output_type": "stream",
          "name": "stderr",
          "text": [
            "\r 77%|███████▋  | 50/65 [04:34<01:17,  5.18s/it]"
          ]
        },
        {
          "output_type": "stream",
          "name": "stdout",
          "text": [
            "50\n",
            "['negara Malaysia tak perlu kot ah ambil Indra pasal Indah Alah ni sebab ni memang isu terhangat sekarang ni yang paling yang ditak-ditak kuti oleh seluruh negara seluruh negara yang berada di dunia lah itulah saya dapat ah macam tengah pasal ah Covid nineteen ni', 'hidupan harian', 'memang jadi tempat pertama di ranking Asia ah mas- masalah kesihatan pasal obesiti', 'oh senang', 'ya berenang', 'oh', 'ah kalau', 'tak kenal ke']\n",
            "['negara Malaysia tak perlu kot ah ambik indah pasal benda alah ni sebab ni memang isu terhangat sekarang ni yang paling yang dita- ditakuti oleh seluruh negara seluruh negara yang berada di dunia lah itu lah saya dapat ah ceritakan pasal ah Covid nineteen ni', 'kehidupan harian', '[UNK] menjadi tempat pertama di ranking Asia ah ma-masalah kesihatan pasal obesiti', 'oh senang', 'ya berenang', 'oh', 'ah kalau', 'tak kenal ke']\n"
          ]
        },
        {
          "output_type": "stream",
          "name": "stderr",
          "text": [
            "\r 78%|███████▊  | 51/65 [04:45<01:35,  6.83s/it]"
          ]
        },
        {
          "output_type": "stream",
          "name": "stdout",
          "text": [
            "51\n",
            "['daripada cari buku kan macam pening sikit kan kalau macam kat internet kan dia ada jelas', 'sebab perendang', 'okey okey kita pun balik pada topi tadi lah yang masal ah kada kesihatan negara tahu tak ah dulu Malaysia ah Malaysia mempunyai pada dua ribu dua ribu sebelas Malaysia mempunyai ah jumlah pesakit yang bertambah selepas setahun seramai dua ratus ribu', 'Kovid nineteen sembah ayam satu dunia tu bayang daripada negara Cina Wuhan tak silap saya ah ah itu', 'hm p tiba dia macam tiba datang peluk tak nak lepas ah macam', 'mangga ah lagi-lagi lemang la', 'ah', 'senang lah rapat']\n",
            "['daripada cari buku an macam pening sikit an kalau macam dekat internet kan dia ada jelas', 'sebab berenang', 'okay okay kita berbalik pada topik tadi lah yang pasal ah kadar kesihatan negara tahu tak ah dulu Malaysia ah Malaysia mempunyai pada dua ribu dua dua ribu sebelas Malaysia mempunyai ah jumlah pesakit yang bertambah selepas setahun seramai dua ratus ribu', 'Covid ninteen sebab yang satu dunia tu [UNK] yang daripada negara China Wuhan eh tak silap saya la ah itu', 'um tiba-tiba dia macam tiba-tiba datang peluk tak nak lepas', 'lemang ke ah lagi lagi lemah lah', 'ah', 'senanglah nak dapat']\n"
          ]
        },
        {
          "output_type": "stream",
          "name": "stderr",
          "text": [
            "\r 80%|████████  | 52/65 [04:56<01:45,  8.11s/it]"
          ]
        },
        {
          "output_type": "stream",
          "name": "stdout",
          "text": [
            "52\n",
            "['stimua makanan', 'ha ah kalau macam mana ada rupah kalau macam', 'oh Ronaldo', 'oh', 'makanan daripada luar negara aku', 'ah kau baik ah ada apa lagi ya kau kan', 'di oh', 'selalu selalu lah ada dekat Malaysia ni']\n",
            "['istimewa makanan', 'ha ah kalau roti canai ada dua kuah kalau macam', 'oh Ronaldo', 'oh', 'makanan yang kalau luar negara aku', 'ah khabar baik ah ada apa lagi ya call', '[UNK] oh', 'selalu selalu lah ada dekat Malaysia ni']\n"
          ]
        },
        {
          "output_type": "stream",
          "name": "stderr",
          "text": [
            "\r 82%|████████▏ | 53/65 [04:58<01:17,  6.43s/it]"
          ]
        },
        {
          "output_type": "stream",
          "name": "stdout",
          "text": [
            "53\n",
            "['hm ah ada dia ada face yang ni aku ada tengok itu', 'tau yang merupakan', 'dirian dengan', 'oh macam benda yang pelik lah macam kita tak makan tapi dia makan oh macam tu', 'ah [UNK]', 'beber sihat dah', 'kuy bulan kalau kau pula kau suka makan makanan Cina makanan apa', 'ah demam ah lepas tu batuk batuk']\n",
            "['erm ah ada dia ada face yang ni aku ada tengok juga', 'tau yang merupakan', 'sendirikan dengan', 'oh macam benda yang pelik lah macam kita tak makan tapi dia makan oh macam tu', 'ah ya saya', 'lebih sihat ah', 'kuih bulan kalau kau pula kau suka makan makanan Cina makanan apa', 'ha demam lepas tu batuk batuk']\n"
          ]
        },
        {
          "output_type": "stream",
          "name": "stderr",
          "text": [
            "\r 83%|████████▎ | 54/65 [05:02<01:01,  5.56s/it]"
          ]
        },
        {
          "output_type": "stream",
          "name": "stdout",
          "text": [
            "54\n",
            "['information', 'oh so kau ni ni kategorikan yang', 'sebelas oh', 'ha seorang yang tu yang ia gejala seperti demam', 'sebab tu perayaan so [UNK]', 'saya rasa bukan kerajaan kerajaan je kot saya rasa sekolah pun boleh benda masalah ni kot dengan macam dia menerapkan tentang makanan di makanan di macam contoh sub-biksaan ah bersenamkan pasal makanan B M ah terapkan pasal makanan ah ini akan ah menjadi ah seorang itu lebih ni lah lebih apa ni', 'hasup tu telefon je', 'dan tia-tia lebih menyeronokkan dan']\n",
            "['information', 'oh so kau ni dikategorikan yang', 'sebelah oh', 'ah seorang itu mempunyai gejala seperti demam', 'sewaktu perayaan', 'saya rasa bukan kerajaan-kerajaan je kot saya rasa sekolah pun boleh bendung masalah ni kot dengan macam dia menerapkan tentang makanan di makanan di macam contoh subjek Sains ah menerapkan pasal makanan B M ah terapkan pasal makanan ah ini akan ah menjadi seorang itu lebih ni lah lebih apa ni', 'khas untuk iPhone je', 'dan ianya lebih menyeronokkan dan']\n"
          ]
        },
        {
          "output_type": "stream",
          "name": "stderr",
          "text": [
            "\r 85%|████████▍ | 55/65 [05:14<01:15,  7.56s/it]"
          ]
        },
        {
          "output_type": "stream",
          "name": "stdout",
          "text": [
            "55\n",
            "['makanan', 'tak ah ni aku kat rumah ni aku tak beli lagi sebab aku tengah', 'kalau Samsung ni bumerang lah dia satu bumerang lah B T semua okey', 'golongan ah kanak-kanak yang masih bahaya tu memang sangat bahaya lah sebab dia boleh menyebabkan kematian ah di negara tersebutlah yaitu ah', 'ah aku nak main game semua lah', 'okey ada apa-apa lagi tak nak beli tu saya pasal ah kesihatan ni', 'mukti sesuap orang', 'Gagalhezem']\n",
            "['makanan', 'tak ah ni aku kat rumah lagi aku tak beli lagi sebab aku tengah', 'kalau Samsung ni boomerang ah dia satu boomerang ah bateri semua okey', 'golongan ah kanak-kanak yang masih bayi tu memang sangat bahaya lah sebab dia boleh menyebabkan kematian di ah di negara tersebut lah kiranya ah', 'aku nak main game semua lah', 'okay ada apa-apa lagi tak nak tanya saya ah pasal ah kesihatan ni', 'mood seseorang', 'gagal exam']\n"
          ]
        },
        {
          "output_type": "stream",
          "name": "stderr",
          "text": [
            "\r 86%|████████▌ | 56/65 [05:21<01:05,  7.33s/it]"
          ]
        },
        {
          "output_type": "stream",
          "name": "stdout",
          "text": [
            "56\n",
            "['nak bi-tahu', 'makan bubur ke', 'kau mengenai macam penyakit mental yang menyebabkan perasaan macam mud lah', 'okey tak okey tak', 'hm hm', 'ya memang ah', 'ah tahu tahu tahu sekarang', 'oh [UNK]']\n",
            "['nak beritahu', 'makan bubur ke', 'kemurungan ni macam penyakit mental yang menyebabkan perasaan macam mood lah', 'okey tak awak okey tak', 'um hm', 'ya ah memang ah', 'ah tahu tahu tahu sekarang', 'oh tepung']\n"
          ]
        },
        {
          "output_type": "stream",
          "name": "stderr",
          "text": [
            "\r 88%|████████▊ | 57/65 [05:25<00:50,  6.30s/it]"
          ]
        },
        {
          "output_type": "stream",
          "name": "stdout",
          "text": [
            "57\n",
            "['oh', 'linika', 'ataupun acar India daripada India lah resepi India ataupun kari ke kari ayam kari daging dah macam-macam lagi lah', 'oh', 'ah lagal lagi kalau masa', 'yang tadi ni daripada bad guys juga sebab contohnya burah sepak', 'tak lah aku macam kalau lain macam huahui semua aku tak minat sebab bapa aku cakap dah jadi Cina so macam aku bawa Cina ni', 'um']\n",
            "['oh', 'klinik ke', 'ataupun acar India daripada India lah resepi India ataupun kari ke kari ayam kari daging dan macam-macam lagi lah', 'oh', 'um lagi lagi kalau masa', 'yang terdiri daripada pelbagai [UNK] aspek contohnya bola sepak', 'ah aku macam kalau lain macam Huawei apa semua aku tak minat sebab bapa aku cakap dari China so macam aku kalau Cina ni', 'oh']\n"
          ]
        },
        {
          "output_type": "stream",
          "name": "stderr",
          "text": [
            "\r 89%|████████▉ | 58/65 [05:30<00:42,  6.06s/it]"
          ]
        },
        {
          "output_type": "stream",
          "name": "stdout",
          "text": [
            "58\n",
            "['dia kecik dia macam senari bentuk tau ah sebagai [UNK] ah sebagai peribasa ah melentuh dulu abillah ke dua rebung ni lah jadi ah saya rasa ah pihak sekolah pun boleh buat dalam ni', 'kau pendam sudah meniksa diri kau sepulah', '[UNK] kau pernah ambil eleven lah eleven orang kata betul ok', 'ah berat macam gini lah', 'oh kalau oh Redmi ah Redmi kan apa tengok tengah ni ke top sekarang', 'dekat sepumakit ke apa ke kan', 'okey okey ia merupakan tak', 'rand besar lah semua']\n",
            "['dia kecik dia macam senang dibentuk tau ah sebagai [UNK] ah sebagai peribahasa ah melentur buluh biarlah daripada rebungnya lah jadi saya rasa ah pihak sekolah pun boleh buat dalam ni', 'kau pendam so dia menyeksa diri kau macam tu lah', 'iPhone kau kena kau kena ambil eleven ah eleven dia orang kata bateri okey', 'ah berat macam begini lah', 'oh kalau oh Redmi ah Redmi tu sekarang aku tengok tengah ni juga top sekarang', 'dekat supermarket ke apa ke kan', 'okey okey dia memerlukan tahap', 'ram besar lah semua']\n"
          ]
        },
        {
          "output_type": "stream",
          "name": "stderr",
          "text": [
            "\r 91%|█████████ | 59/65 [05:38<00:39,  6.63s/it]"
          ]
        },
        {
          "output_type": "stream",
          "name": "stdout",
          "text": [
            "59\n",
            "['masuk air dia macam masak nasi', 'terlalu banyak masalah lepas tu', 'Isak Veib', 'kenapa yang boleh saya tahu tak', 'oh masak wat', 'hello mi', 'lepas tu dia punya ah ukuran tu lebih kurang macam sepuluh C M ke', 'hm sebab']\n",
            "['masuk air dia macam masak nasi', 'terlalu banyak masalah lepas tu', 'hisap vape', 'kenapa ya boleh saya tahu tak', 'oh maksud awak', 'hello Umi', 'pas tu dia punya ah ukuran tu lebih kurang macam sepuluh C M ke', 'em sebab']\n"
          ]
        },
        {
          "output_type": "stream",
          "name": "stderr",
          "text": [
            "\r 92%|█████████▏| 60/65 [05:42<00:28,  5.75s/it]"
          ]
        },
        {
          "output_type": "stream",
          "name": "stdout",
          "text": [
            "60\n",
            "['macam boleh menderaskan', 'hm selain sukan berenang eh', 'oh macam dia okey sambung [UNK] sambung sambung', 'tak pernah lah sebab aku tak suka sangat bahayam tu', 'maksudkan beras kat dalam tu lepas', 'setiap sejarah sukan saya mahu menceritakan sejarah sukan', 'kau macam kerja ah', 'okey terima kasih ah aku selalu']\n",
            "['macam boleh menjejaskan', 'hm selain sukan berenang eh', 'oh macam dia oh okey sama-sama sambung sambung', 'tak pernah lah sebab aku tak suka sangat putu mayam tu', 'kita masukkan beras dekat dalam tu lepas tu', 'tentang sejarah sukan saya mahu menceritakan sejarah sukan', 'kau macam kaji ah', 'okey terima kasih ha waalaikumsalam']\n"
          ]
        },
        {
          "output_type": "stream",
          "name": "stderr",
          "text": [
            "\r 94%|█████████▍| 61/65 [05:46<00:20,  5.14s/it]"
          ]
        },
        {
          "output_type": "stream",
          "name": "stdout",
          "text": [
            "61\n",
            "['so makan-makan yang tawar', 'oh aku pun suka tosi juga', 'tapi kau buati ah oh kau nak beli percaya [UNK] sebab aku tengah apa [UNK] kan Iphone kan bila', 'kau mesti sikit pasal', 'boleh bagi saya satu contoh kategori sukan yang awak minat', 'kalau aku lah kalau aku ni ah isis sebab isis kan aku suka tengah talk oh lepok dia', 'mak sikit', 'ah Malaysia juga ah apa ni memangkiri tempat kedua dalam']\n",
            "['so makan makan yang tawar', 'oh aku pun suka tosei juga', 'tapi kau puas hati tak oh kau nak beli iPhone seven sebab aku tengok pun iPhone kan iPhone kan bila', 'kongsi ah sikit pasal', 'boleh bagi saya satu contoh ketegori sukan yang awak minat', 'kalau aku ah kalau aku ni ah Asus sebab Asus kan aku tengok sekarang tengah top laptop dia tu', 'mahal sikit', 'ah Malaysia ke ah apa ni mewakili tempat kedua dalam']\n"
          ]
        },
        {
          "output_type": "stream",
          "name": "stderr",
          "text": [
            "\r 95%|█████████▌| 62/65 [05:51<00:15,  5.27s/it]"
          ]
        },
        {
          "output_type": "stream",
          "name": "stdout",
          "text": [
            "62\n",
            "['hai enemy apa-apa', 'sama-sama', 'oh sedap tu', 'bitri apa problem sikit', 'kau boleh makan dengan', 'kalau kau kau tahu phone apa yang ram sub', 'dia tak juga ya yang kamu', 'oh menghakkan makanan']\n",
            "['hai Helmi apa khabar', 'sambung-sambung', 'oh sedap tu', 'bateri ah pro-problem sikit', 'kalau boleh makan dengan', 'kalau kau kau tahu phone apa yang ram besar', 'hebat juga ya ayah kamu', 'oh menghadkan makanan']\n"
          ]
        },
        {
          "output_type": "stream",
          "name": "stderr",
          "text": [
            "\r 97%|█████████▋| 63/65 [05:53<00:08,  4.40s/it]"
          ]
        },
        {
          "output_type": "stream",
          "name": "stdout",
          "text": [
            "63\n",
            "['ah Ness Ness Tata lepas tu bahagian Jet N', 'sekiranya tak dapat kawal', 'pemakanan juga lah tapi saya tidak tahu ah dari mana pemakanan itu ah boleh berlaku nya Covid nineteen lah sebab', 'sedangkan berenang mengambil', 'ha Kuih Baulu aku suka sangat Kuih Baulu ni', 'tak setuap basis [UNK]', 'berdilakan rumah kau kan nak ah nanti', 'aku pun kan kalau boleh nak cari yang apa ni']\n",
            "['ha nurse nurse datang lepas tu bagi inject kan', 'kiranya tak dapat kawal', 'pemakanan jugalah tapi saya tidak tahu ah dari mana pemakanan itu boleh berlakunya Covid ninteen la sebab', 'sedangkan berenang mengambil', 'ha Kuih Bahulu aku suka sangat Kuih Bahulu ni', '[UNK] situ berbeza sikit', 'pergilah kat rumah kau kan nak ah nanti', 'aku ingat kalau boleh nak cari yang apa ni']\n"
          ]
        },
        {
          "output_type": "stream",
          "name": "stderr",
          "text": [
            "\r 98%|█████████▊| 64/65 [05:58<00:04,  4.50s/it]"
          ]
        },
        {
          "output_type": "stream",
          "name": "stdout",
          "text": [
            "64\n",
            "['okey okey okey ah']\n",
            "['okay okay okay ah']\n"
          ]
        },
        {
          "output_type": "stream",
          "name": "stderr",
          "text": [
            "100%|██████████| 65/65 [06:00<00:00,  5.54s/it]"
          ]
        },
        {
          "output_type": "stream",
          "name": "stdout",
          "text": [
            "wer=32.29689067201605\n"
          ]
        },
        {
          "output_type": "stream",
          "name": "stderr",
          "text": [
            "\n"
          ]
        }
      ]
    },
    {
      "cell_type": "code",
      "source": [],
      "metadata": {
        "id": "3aMSpcXtjNDo"
      },
      "execution_count": null,
      "outputs": []
    }
  ]
}